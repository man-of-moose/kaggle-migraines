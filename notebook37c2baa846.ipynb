{
 "cells": [
  {
   "cell_type": "code",
   "execution_count": 1,
   "id": "27ca1540",
   "metadata": {
    "_cell_guid": "b1076dfc-b9ad-4769-8c92-a6c4dae69d19",
    "_uuid": "8f2839f25d086af736a60e9eeb907d3b93b6e0e5",
    "execution": {
     "iopub.execute_input": "2022-06-30T19:37:38.660856Z",
     "iopub.status.busy": "2022-06-30T19:37:38.660195Z",
     "iopub.status.idle": "2022-06-30T19:37:38.686967Z",
     "shell.execute_reply": "2022-06-30T19:37:38.685525Z"
    },
    "papermill": {
     "duration": 0.050865,
     "end_time": "2022-06-30T19:37:38.690271",
     "exception": false,
     "start_time": "2022-06-30T19:37:38.639406",
     "status": "completed"
    },
    "tags": []
   },
   "outputs": [
    {
     "name": "stdout",
     "output_type": "stream",
     "text": [
      "/kaggle/input/migraine-classification/data.csv\n"
     ]
    }
   ],
   "source": [
    "# This Python 3 environment comes with many helpful analytics libraries installed\n",
    "# It is defined by the kaggle/python Docker image: https://github.com/kaggle/docker-python\n",
    "# For example, here's several helpful packages to load\n",
    "\n",
    "import numpy as np # linear algebra\n",
    "import pandas as pd # data processing, CSV file I/O (e.g. pd.read_csv)\n",
    "\n",
    "# Input data files are available in the read-only \"../input/\" directory\n",
    "# For example, running this (by clicking run or pressing Shift+Enter) will list all files under the input directory\n",
    "\n",
    "import os\n",
    "for dirname, _, filenames in os.walk('/kaggle/input'):\n",
    "    for filename in filenames:\n",
    "        print(os.path.join(dirname, filename))\n",
    "\n",
    "# You can write up to 20GB to the current directory (/kaggle/working/) that gets preserved as output when you create a version using \"Save & Run All\" \n",
    "# You can also write temporary files to /kaggle/temp/, but they won't be saved outside of the current session"
   ]
  },
  {
   "cell_type": "code",
   "execution_count": 2,
   "id": "e829b20c",
   "metadata": {
    "execution": {
     "iopub.execute_input": "2022-06-30T19:37:38.722252Z",
     "iopub.status.busy": "2022-06-30T19:37:38.721820Z",
     "iopub.status.idle": "2022-06-30T19:37:40.194400Z",
     "shell.execute_reply": "2022-06-30T19:37:40.193059Z"
    },
    "papermill": {
     "duration": 1.4919,
     "end_time": "2022-06-30T19:37:40.197465",
     "exception": false,
     "start_time": "2022-06-30T19:37:38.705565",
     "status": "completed"
    },
    "tags": []
   },
   "outputs": [],
   "source": [
    "from scipy.stats import chi2_contingency\n",
    "from sklearn.preprocessing import LabelEncoder\n",
    "import seaborn as sns\n",
    "import matplotlib.pyplot as plt\n",
    "import scipy.stats as stats"
   ]
  },
  {
   "cell_type": "code",
   "execution_count": 3,
   "id": "e4dfad8d",
   "metadata": {
    "execution": {
     "iopub.execute_input": "2022-06-30T19:37:40.230169Z",
     "iopub.status.busy": "2022-06-30T19:37:40.229755Z",
     "iopub.status.idle": "2022-06-30T19:37:40.247823Z",
     "shell.execute_reply": "2022-06-30T19:37:40.246465Z"
    },
    "papermill": {
     "duration": 0.038872,
     "end_time": "2022-06-30T19:37:40.251690",
     "exception": false,
     "start_time": "2022-06-30T19:37:40.212818",
     "status": "completed"
    },
    "tags": []
   },
   "outputs": [],
   "source": [
    "data = pd.read_csv(\"/kaggle/input/migraine-classification/data.csv\")"
   ]
  },
  {
   "cell_type": "code",
   "execution_count": 4,
   "id": "d8b14f1f",
   "metadata": {
    "execution": {
     "iopub.execute_input": "2022-06-30T19:37:40.286762Z",
     "iopub.status.busy": "2022-06-30T19:37:40.286158Z",
     "iopub.status.idle": "2022-06-30T19:37:40.291626Z",
     "shell.execute_reply": "2022-06-30T19:37:40.290557Z"
    },
    "papermill": {
     "duration": 0.026161,
     "end_time": "2022-06-30T19:37:40.294525",
     "exception": false,
     "start_time": "2022-06-30T19:37:40.268364",
     "status": "completed"
    },
    "tags": []
   },
   "outputs": [],
   "source": [
    "data.columns = [x.lower() for x in data.columns]"
   ]
  },
  {
   "cell_type": "markdown",
   "id": "3ea8d0cd",
   "metadata": {
    "papermill": {
     "duration": 0.015406,
     "end_time": "2022-06-30T19:37:40.325510",
     "exception": false,
     "start_time": "2022-06-30T19:37:40.310104",
     "status": "completed"
    },
    "tags": []
   },
   "source": [
    "**Visualize Target Class**"
   ]
  },
  {
   "cell_type": "code",
   "execution_count": 5,
   "id": "be62e60d",
   "metadata": {
    "execution": {
     "iopub.execute_input": "2022-06-30T19:37:40.358265Z",
     "iopub.status.busy": "2022-06-30T19:37:40.357089Z",
     "iopub.status.idle": "2022-06-30T19:37:40.623184Z",
     "shell.execute_reply": "2022-06-30T19:37:40.621957Z"
    },
    "papermill": {
     "duration": 0.285213,
     "end_time": "2022-06-30T19:37:40.625916",
     "exception": false,
     "start_time": "2022-06-30T19:37:40.340703",
     "status": "completed"
    },
    "tags": []
   },
   "outputs": [
    {
     "data": {
      "text/plain": [
       "<AxesSubplot:>"
      ]
     },
     "execution_count": 5,
     "metadata": {},
     "output_type": "execute_result"
    },
    {
     "data": {
      "image/png": "[encoded data removed]",
      "text/plain": [
       "<Figure size 432x288 with 1 Axes>"
      ]
     },
     "metadata": {
      "needs_background": "light"
     },
     "output_type": "display_data"
    }
   ],
   "source": [
    "# class imbalance\n",
    "\n",
    "data['type'].value_counts().plot(kind=\"bar\")"
   ]
  },
  {
   "cell_type": "code",
   "execution_count": 6,
   "id": "a447df2c",
   "metadata": {
    "execution": {
     "iopub.execute_input": "2022-06-30T19:37:40.660259Z",
     "iopub.status.busy": "2022-06-30T19:37:40.659841Z",
     "iopub.status.idle": "2022-06-30T19:37:40.665564Z",
     "shell.execute_reply": "2022-06-30T19:37:40.664757Z"
    },
    "papermill": {
     "duration": 0.025218,
     "end_time": "2022-06-30T19:37:40.667575",
     "exception": false,
     "start_time": "2022-06-30T19:37:40.642357",
     "status": "completed"
    },
    "tags": []
   },
   "outputs": [],
   "source": [
    "# encode the target variable\n",
    "\n",
    "le = LabelEncoder()\n",
    "data['type_encoded'] = le.fit_transform(data['type'])"
   ]
  },
  {
   "cell_type": "markdown",
   "id": "901976f4",
   "metadata": {
    "papermill": {
     "duration": 0.01581,
     "end_time": "2022-06-30T19:37:40.699063",
     "exception": false,
     "start_time": "2022-06-30T19:37:40.683253",
     "status": "completed"
    },
    "tags": []
   },
   "source": [
    "**Explore Features**"
   ]
  },
  {
   "cell_type": "code",
   "execution_count": 7,
   "id": "e4931647",
   "metadata": {
    "execution": {
     "iopub.execute_input": "2022-06-30T19:37:40.733053Z",
     "iopub.status.busy": "2022-06-30T19:37:40.732664Z",
     "iopub.status.idle": "2022-06-30T19:37:40.747396Z",
     "shell.execute_reply": "2022-06-30T19:37:40.745808Z"
    },
    "papermill": {
     "duration": 0.03564,
     "end_time": "2022-06-30T19:37:40.750651",
     "exception": false,
     "start_time": "2022-06-30T19:37:40.715011",
     "status": "completed"
    },
    "tags": []
   },
   "outputs": [
    {
     "data": {
      "text/plain": [
       "{'age': (51, dtype('int64')),\n",
       " 'duration': (3, dtype('int64')),\n",
       " 'frequency': (8, dtype('int64')),\n",
       " 'location': (3, dtype('int64')),\n",
       " 'character': (3, dtype('int64')),\n",
       " 'intensity': (4, dtype('int64')),\n",
       " 'nausea': (2, dtype('int64')),\n",
       " 'vomit': (2, dtype('int64')),\n",
       " 'phonophobia': (2, dtype('int64')),\n",
       " 'photophobia': (2, dtype('int64')),\n",
       " 'visual': (5, dtype('int64')),\n",
       " 'sensory': (3, dtype('int64')),\n",
       " 'dysphasia': (2, dtype('int64')),\n",
       " 'dysarthria': (2, dtype('int64')),\n",
       " 'vertigo': (2, dtype('int64')),\n",
       " 'tinnitus': (2, dtype('int64')),\n",
       " 'hypoacusis': (2, dtype('int64')),\n",
       " 'diplopia': (2, dtype('int64')),\n",
       " 'defect': (2, dtype('int64')),\n",
       " 'ataxia': (1, dtype('int64')),\n",
       " 'conscience': (2, dtype('int64')),\n",
       " 'paresthesia': (2, dtype('int64')),\n",
       " 'dpf': (2, dtype('int64')),\n",
       " 'type': (7, dtype('O')),\n",
       " 'type_encoded': (7, dtype('int64'))}"
      ]
     },
     "execution_count": 7,
     "metadata": {},
     "output_type": "execute_result"
    }
   ],
   "source": [
    "dictionary = {}\n",
    "cols = data.columns\n",
    "for col in cols:\n",
    "    unique = len(data[col].unique())\n",
    "    dtype = data[col].dtypes\n",
    "    \n",
    "    dictionary[col] = (unique, dtype)\n",
    "    \n",
    "dictionary"
   ]
  },
  {
   "cell_type": "code",
   "execution_count": 8,
   "id": "baff8cd8",
   "metadata": {
    "execution": {
     "iopub.execute_input": "2022-06-30T19:37:40.784799Z",
     "iopub.status.busy": "2022-06-30T19:37:40.784316Z",
     "iopub.status.idle": "2022-06-30T19:37:40.791863Z",
     "shell.execute_reply": "2022-06-30T19:37:40.790499Z"
    },
    "papermill": {
     "duration": 0.027851,
     "end_time": "2022-06-30T19:37:40.794476",
     "exception": false,
     "start_time": "2022-06-30T19:37:40.766625",
     "status": "completed"
    },
    "tags": []
   },
   "outputs": [],
   "source": [
    "# split features into continuous and categorical\n",
    "\n",
    "continuous_variables = ['age']\n",
    "categorical_variables = ['duration','frequency','location','character','intensity','nausea','vomit',\n",
    "                        'phonophobia','photophobia','visual','sensory','dysphasia','dysarthria','vertigo',\n",
    "                        'tinnitus','hypoacusis','diplopia','defect','ataxia','conscience','paresthesia',\n",
    "                        'dpf']"
   ]
  },
  {
   "cell_type": "code",
   "execution_count": 9,
   "id": "b1e45b90",
   "metadata": {
    "execution": {
     "iopub.execute_input": "2022-06-30T19:37:40.828225Z",
     "iopub.status.busy": "2022-06-30T19:37:40.827795Z",
     "iopub.status.idle": "2022-06-30T19:37:40.840130Z",
     "shell.execute_reply": "2022-06-30T19:37:40.838629Z"
    },
    "papermill": {
     "duration": 0.033132,
     "end_time": "2022-06-30T19:37:40.843371",
     "exception": false,
     "start_time": "2022-06-30T19:37:40.810239",
     "status": "completed"
    },
    "tags": []
   },
   "outputs": [
    {
     "data": {
      "text/plain": [
       "age             0\n",
       "duration        0\n",
       "frequency       0\n",
       "location        0\n",
       "character       0\n",
       "intensity       0\n",
       "nausea          0\n",
       "vomit           0\n",
       "phonophobia     0\n",
       "photophobia     0\n",
       "visual          0\n",
       "sensory         0\n",
       "dysphasia       0\n",
       "dysarthria      0\n",
       "vertigo         0\n",
       "tinnitus        0\n",
       "hypoacusis      0\n",
       "diplopia        0\n",
       "defect          0\n",
       "ataxia          0\n",
       "conscience      0\n",
       "paresthesia     0\n",
       "dpf             0\n",
       "type            0\n",
       "type_encoded    0\n",
       "dtype: int64"
      ]
     },
     "execution_count": 9,
     "metadata": {},
     "output_type": "execute_result"
    }
   ],
   "source": [
    "# check for missing values\n",
    "\n",
    "data.isna().sum()"
   ]
  },
  {
   "cell_type": "code",
   "execution_count": 10,
   "id": "e7cbf681",
   "metadata": {
    "execution": {
     "iopub.execute_input": "2022-06-30T19:37:40.876975Z",
     "iopub.status.busy": "2022-06-30T19:37:40.876596Z",
     "iopub.status.idle": "2022-06-30T19:37:41.113442Z",
     "shell.execute_reply": "2022-06-30T19:37:41.112615Z"
    },
    "papermill": {
     "duration": 0.256318,
     "end_time": "2022-06-30T19:37:41.115798",
     "exception": false,
     "start_time": "2022-06-30T19:37:40.859480",
     "status": "completed"
    },
    "tags": []
   },
   "outputs": [
    {
     "data": {
      "image/png": "[encoded data removed]",
      "text/plain": [
       "<Figure size 432x288 with 1 Axes>"
      ]
     },
     "metadata": {
      "needs_background": "light"
     },
     "output_type": "display_data"
    }
   ],
   "source": [
    "ax = sns.histplot(x=data['age'])\n",
    "plt.show()"
   ]
  },
  {
   "cell_type": "markdown",
   "id": "4c9db64a",
   "metadata": {
    "papermill": {
     "duration": 0.015586,
     "end_time": "2022-06-30T19:37:41.147111",
     "exception": false,
     "start_time": "2022-06-30T19:37:41.131525",
     "status": "completed"
    },
    "tags": []
   },
   "source": [
    "Only one column is numerical. Everything else is boolean or categorical.\n",
    "\n",
    "Age is right skewed and will need transformation."
   ]
  },
  {
   "cell_type": "markdown",
   "id": "4cb77b3a",
   "metadata": {
    "papermill": {
     "duration": 0.015586,
     "end_time": "2022-06-30T19:37:41.178674",
     "exception": false,
     "start_time": "2022-06-30T19:37:41.163088",
     "status": "completed"
    },
    "tags": []
   },
   "source": [
    "**Independence and Correlation Testing**"
   ]
  },
  {
   "cell_type": "code",
   "execution_count": 11,
   "id": "cb963c5a",
   "metadata": {
    "execution": {
     "iopub.execute_input": "2022-06-30T19:37:41.212262Z",
     "iopub.status.busy": "2022-06-30T19:37:41.211485Z",
     "iopub.status.idle": "2022-06-30T19:37:41.218023Z",
     "shell.execute_reply": "2022-06-30T19:37:41.216780Z"
    },
    "papermill": {
     "duration": 0.026275,
     "end_time": "2022-06-30T19:37:41.220463",
     "exception": false,
     "start_time": "2022-06-30T19:37:41.194188",
     "status": "completed"
    },
    "tags": []
   },
   "outputs": [],
   "source": [
    "# define function that tests independence between two categorical values\n",
    "\n",
    "def check_cat_cat_ind(data, col1, col2):\n",
    "    cross_tab = pd.crosstab(data[col1],data[col2])\n",
    "    \n",
    "    stat, p, dof, expected = chi2_contingency(cross_tab)\n",
    "    \n",
    "    return p"
   ]
  },
  {
   "cell_type": "code",
   "execution_count": 12,
   "id": "e14fd567",
   "metadata": {
    "execution": {
     "iopub.execute_input": "2022-06-30T19:37:41.253674Z",
     "iopub.status.busy": "2022-06-30T19:37:41.253053Z",
     "iopub.status.idle": "2022-06-30T19:37:41.258618Z",
     "shell.execute_reply": "2022-06-30T19:37:41.257802Z"
    },
    "papermill": {
     "duration": 0.024985,
     "end_time": "2022-06-30T19:37:41.260887",
     "exception": false,
     "start_time": "2022-06-30T19:37:41.235902",
     "status": "completed"
    },
    "tags": []
   },
   "outputs": [],
   "source": [
    "# define function that tests independence between categorical and continuous\n",
    "\n",
    "def check_cat_cont_ind(data, col1, col2):\n",
    "    s, p = stats.f_oneway(data['age'], data['type_encoded'])\n",
    "    \n",
    "    return p"
   ]
  },
  {
   "cell_type": "code",
   "execution_count": 13,
   "id": "226bd1b6",
   "metadata": {
    "execution": {
     "iopub.execute_input": "2022-06-30T19:37:41.295161Z",
     "iopub.status.busy": "2022-06-30T19:37:41.294365Z",
     "iopub.status.idle": "2022-06-30T19:37:41.579744Z",
     "shell.execute_reply": "2022-06-30T19:37:41.578412Z"
    },
    "papermill": {
     "duration": 0.305583,
     "end_time": "2022-06-30T19:37:41.582726",
     "exception": false,
     "start_time": "2022-06-30T19:37:41.277143",
     "status": "completed"
    },
    "tags": []
   },
   "outputs": [],
   "source": [
    "results = pd.DataFrame(columns = ['column','p-value'])\n",
    "\n",
    "for var in continuous_variables:\n",
    "    p = check_cat_cont_ind(data, var, \"type_encoded\")\n",
    "    results = results.append({'column': var, 'p-value': p}, ignore_index=True)\n",
    "    \n",
    "for var in categorical_variables:\n",
    "    p = check_cat_cat_ind(data, var, \"type_encoded\")\n",
    "    results = results.append({'column': var, 'p-value': p}, ignore_index=True)\n",
    "    "
   ]
  },
  {
   "cell_type": "code",
   "execution_count": 14,
   "id": "84d259f3",
   "metadata": {
    "execution": {
     "iopub.execute_input": "2022-06-30T19:37:41.616511Z",
     "iopub.status.busy": "2022-06-30T19:37:41.616039Z",
     "iopub.status.idle": "2022-06-30T19:37:41.638906Z",
     "shell.execute_reply": "2022-06-30T19:37:41.636791Z"
    },
    "papermill": {
     "duration": 0.043743,
     "end_time": "2022-06-30T19:37:41.642191",
     "exception": false,
     "start_time": "2022-06-30T19:37:41.598448",
     "status": "completed"
    },
    "tags": []
   },
   "outputs": [
    {
     "data": {
      "text/html": [
       "<div>\n",
       "<style scoped>\n",
       "    .dataframe tbody tr th:only-of-type {\n",
       "        vertical-align: middle;\n",
       "    }\n",
       "\n",
       "    .dataframe tbody tr th {\n",
       "        vertical-align: top;\n",
       "    }\n",
       "\n",
       "    .dataframe thead th {\n",
       "        text-align: right;\n",
       "    }\n",
       "</style>\n",
       "<table border=\"1\" class=\"dataframe\">\n",
       "  <thead>\n",
       "    <tr style=\"text-align: right;\">\n",
       "      <th></th>\n",
       "      <th>column</th>\n",
       "      <th>p-value</th>\n",
       "    </tr>\n",
       "  </thead>\n",
       "  <tbody>\n",
       "    <tr>\n",
       "      <th>0</th>\n",
       "      <td>age</td>\n",
       "      <td>2.856593e-222</td>\n",
       "    </tr>\n",
       "    <tr>\n",
       "      <th>4</th>\n",
       "      <td>character</td>\n",
       "      <td>2.261615e-132</td>\n",
       "    </tr>\n",
       "    <tr>\n",
       "      <th>3</th>\n",
       "      <td>location</td>\n",
       "      <td>3.076542e-122</td>\n",
       "    </tr>\n",
       "    <tr>\n",
       "      <th>5</th>\n",
       "      <td>intensity</td>\n",
       "      <td>1.919289e-101</td>\n",
       "    </tr>\n",
       "    <tr>\n",
       "      <th>10</th>\n",
       "      <td>visual</td>\n",
       "      <td>2.698760e-76</td>\n",
       "    </tr>\n",
       "    <tr>\n",
       "      <th>8</th>\n",
       "      <td>phonophobia</td>\n",
       "      <td>4.963241e-42</td>\n",
       "    </tr>\n",
       "    <tr>\n",
       "      <th>9</th>\n",
       "      <td>photophobia</td>\n",
       "      <td>5.003330e-37</td>\n",
       "    </tr>\n",
       "    <tr>\n",
       "      <th>14</th>\n",
       "      <td>vertigo</td>\n",
       "      <td>9.393514e-33</td>\n",
       "    </tr>\n",
       "    <tr>\n",
       "      <th>18</th>\n",
       "      <td>defect</td>\n",
       "      <td>1.828978e-25</td>\n",
       "    </tr>\n",
       "    <tr>\n",
       "      <th>16</th>\n",
       "      <td>hypoacusis</td>\n",
       "      <td>1.828978e-25</td>\n",
       "    </tr>\n",
       "    <tr>\n",
       "      <th>12</th>\n",
       "      <td>dysphasia</td>\n",
       "      <td>5.614902e-22</td>\n",
       "    </tr>\n",
       "    <tr>\n",
       "      <th>15</th>\n",
       "      <td>tinnitus</td>\n",
       "      <td>1.306504e-18</td>\n",
       "    </tr>\n",
       "    <tr>\n",
       "      <th>6</th>\n",
       "      <td>nausea</td>\n",
       "      <td>3.434389e-14</td>\n",
       "    </tr>\n",
       "    <tr>\n",
       "      <th>2</th>\n",
       "      <td>frequency</td>\n",
       "      <td>8.964760e-13</td>\n",
       "    </tr>\n",
       "    <tr>\n",
       "      <th>22</th>\n",
       "      <td>dpf</td>\n",
       "      <td>4.777667e-12</td>\n",
       "    </tr>\n",
       "    <tr>\n",
       "      <th>21</th>\n",
       "      <td>paresthesia</td>\n",
       "      <td>6.439097e-12</td>\n",
       "    </tr>\n",
       "    <tr>\n",
       "      <th>20</th>\n",
       "      <td>conscience</td>\n",
       "      <td>5.841182e-10</td>\n",
       "    </tr>\n",
       "    <tr>\n",
       "      <th>17</th>\n",
       "      <td>diplopia</td>\n",
       "      <td>1.363215e-07</td>\n",
       "    </tr>\n",
       "    <tr>\n",
       "      <th>11</th>\n",
       "      <td>sensory</td>\n",
       "      <td>1.364640e-05</td>\n",
       "    </tr>\n",
       "    <tr>\n",
       "      <th>7</th>\n",
       "      <td>vomit</td>\n",
       "      <td>1.513694e-05</td>\n",
       "    </tr>\n",
       "    <tr>\n",
       "      <th>1</th>\n",
       "      <td>duration</td>\n",
       "      <td>9.632495e-05</td>\n",
       "    </tr>\n",
       "    <tr>\n",
       "      <th>13</th>\n",
       "      <td>dysarthria</td>\n",
       "      <td>1.097969e-04</td>\n",
       "    </tr>\n",
       "    <tr>\n",
       "      <th>19</th>\n",
       "      <td>ataxia</td>\n",
       "      <td>1.000000e+00</td>\n",
       "    </tr>\n",
       "  </tbody>\n",
       "</table>\n",
       "</div>"
      ],
      "text/plain": [
       "         column        p-value\n",
       "0           age  2.856593e-222\n",
       "4     character  2.261615e-132\n",
       "3      location  3.076542e-122\n",
       "5     intensity  1.919289e-101\n",
       "10       visual   2.698760e-76\n",
       "8   phonophobia   4.963241e-42\n",
       "9   photophobia   5.003330e-37\n",
       "14      vertigo   9.393514e-33\n",
       "18       defect   1.828978e-25\n",
       "16   hypoacusis   1.828978e-25\n",
       "12    dysphasia   5.614902e-22\n",
       "15     tinnitus   1.306504e-18\n",
       "6        nausea   3.434389e-14\n",
       "2     frequency   8.964760e-13\n",
       "22          dpf   4.777667e-12\n",
       "21  paresthesia   6.439097e-12\n",
       "20   conscience   5.841182e-10\n",
       "17     diplopia   1.363215e-07\n",
       "11      sensory   1.364640e-05\n",
       "7         vomit   1.513694e-05\n",
       "1      duration   9.632495e-05\n",
       "13   dysarthria   1.097969e-04\n",
       "19       ataxia   1.000000e+00"
      ]
     },
     "execution_count": 14,
     "metadata": {},
     "output_type": "execute_result"
    }
   ],
   "source": [
    "# Every feature except for ataxia is meaningful / has some impact on our target value\n",
    "\n",
    "results.sort_values(by=['p-value'], ascending=True)"
   ]
  },
  {
   "cell_type": "markdown",
   "id": "1ee3cc9b",
   "metadata": {
    "papermill": {
     "duration": 0.017822,
     "end_time": "2022-06-30T19:37:41.677300",
     "exception": false,
     "start_time": "2022-06-30T19:37:41.659478",
     "status": "completed"
    },
    "tags": []
   },
   "source": [
    "**Clean and Transform Data**"
   ]
  },
  {
   "cell_type": "markdown",
   "id": "29f5dff5",
   "metadata": {
    "papermill": {
     "duration": 0.016928,
     "end_time": "2022-06-30T19:37:41.711258",
     "exception": false,
     "start_time": "2022-06-30T19:37:41.694330",
     "status": "completed"
    },
    "tags": []
   },
   "source": [
    "There are no missing values - no cleaning\n",
    "\n",
    "All features are categorical (numerically encoded) - no cleaning\n",
    "\n",
    "Age is right skewed - apply log transform\n",
    "\n",
    "Data is unbalanced, so we will need to resample"
   ]
  },
  {
   "cell_type": "code",
   "execution_count": 15,
   "id": "ad0b8778",
   "metadata": {
    "execution": {
     "iopub.execute_input": "2022-06-30T19:37:41.747321Z",
     "iopub.status.busy": "2022-06-30T19:37:41.746288Z",
     "iopub.status.idle": "2022-06-30T19:37:41.752714Z",
     "shell.execute_reply": "2022-06-30T19:37:41.751223Z"
    },
    "papermill": {
     "duration": 0.027132,
     "end_time": "2022-06-30T19:37:41.755007",
     "exception": false,
     "start_time": "2022-06-30T19:37:41.727875",
     "status": "completed"
    },
    "tags": []
   },
   "outputs": [],
   "source": [
    "from sklearn.utils import resample, shuffle"
   ]
  },
  {
   "cell_type": "code",
   "execution_count": 16,
   "id": "e9a05443",
   "metadata": {
    "execution": {
     "iopub.execute_input": "2022-06-30T19:37:41.791396Z",
     "iopub.status.busy": "2022-06-30T19:37:41.791010Z",
     "iopub.status.idle": "2022-06-30T19:37:41.799140Z",
     "shell.execute_reply": "2022-06-30T19:37:41.798295Z"
    },
    "papermill": {
     "duration": 0.028686,
     "end_time": "2022-06-30T19:37:41.801285",
     "exception": false,
     "start_time": "2022-06-30T19:37:41.772599",
     "status": "completed"
    },
    "tags": []
   },
   "outputs": [],
   "source": [
    "def upsample_minorities(data, target_feature):\n",
    "    majority = data[target_feature].value_counts().reset_index()['index'][0]\n",
    "    minorities = data[target_feature].value_counts().reset_index()['index'][1:].values\n",
    "    \n",
    "    majority_df = data[data[target_feature]==majority]\n",
    "    \n",
    "    upsampled_dfs = []\n",
    "    upsampled_dfs.append(majority_df)\n",
    "    \n",
    "    for minority in minorities:\n",
    "        \n",
    "        minority_df = data[data[target_feature]==minority]\n",
    "        \n",
    "        minority_upsampled = resample(minority_df,\n",
    "                          replace=True, # sample with replacement\n",
    "                          n_samples=len(majority_df), # match number in majority class\n",
    "                          random_state=42) \n",
    "        \n",
    "        upsampled_dfs.append(minority_upsampled)\n",
    "        \n",
    "    ret = pd.concat(upsampled_dfs)\n",
    "    ret = shuffle(ret).reset_index(drop=True)\n",
    "    \n",
    "    return ret\n",
    "        \n",
    "        \n",
    "    "
   ]
  },
  {
   "cell_type": "code",
   "execution_count": 17,
   "id": "d63cb4f0",
   "metadata": {
    "execution": {
     "iopub.execute_input": "2022-06-30T19:37:41.837827Z",
     "iopub.status.busy": "2022-06-30T19:37:41.837212Z",
     "iopub.status.idle": "2022-06-30T19:37:41.842300Z",
     "shell.execute_reply": "2022-06-30T19:37:41.841382Z"
    },
    "papermill": {
     "duration": 0.026826,
     "end_time": "2022-06-30T19:37:41.844999",
     "exception": false,
     "start_time": "2022-06-30T19:37:41.818173",
     "status": "completed"
    },
    "tags": []
   },
   "outputs": [],
   "source": [
    "# transform age to log_age\n",
    "data['age'] = np.log(data['age'])"
   ]
  },
  {
   "cell_type": "code",
   "execution_count": 18,
   "id": "d43efdc9",
   "metadata": {
    "execution": {
     "iopub.execute_input": "2022-06-30T19:37:41.880598Z",
     "iopub.status.busy": "2022-06-30T19:37:41.879966Z",
     "iopub.status.idle": "2022-06-30T19:37:42.111511Z",
     "shell.execute_reply": "2022-06-30T19:37:42.109391Z"
    },
    "papermill": {
     "duration": 0.2528,
     "end_time": "2022-06-30T19:37:42.114550",
     "exception": false,
     "start_time": "2022-06-30T19:37:41.861750",
     "status": "completed"
    },
    "tags": []
   },
   "outputs": [
    {
     "name": "stdout",
     "output_type": "stream",
     "text": [
      "skewness has been mitigated\n"
     ]
    },
    {
     "data": {
      "image/png": "[encoded data removed]",
      "text/plain": [
       "<Figure size 432x288 with 1 Axes>"
      ]
     },
     "metadata": {
      "needs_background": "light"
     },
     "output_type": "display_data"
    }
   ],
   "source": [
    "ax = sns.histplot(data['age'])\n",
    "\n",
    "print(\"skewness has been mitigated\")"
   ]
  },
  {
   "cell_type": "markdown",
   "id": "af1fdb21",
   "metadata": {
    "papermill": {
     "duration": 0.016185,
     "end_time": "2022-06-30T19:37:42.147236",
     "exception": false,
     "start_time": "2022-06-30T19:37:42.131051",
     "status": "completed"
    },
    "tags": []
   },
   "source": [
    "**One Hot Encode Categorical**"
   ]
  },
  {
   "cell_type": "code",
   "execution_count": 19,
   "id": "838f4642",
   "metadata": {
    "execution": {
     "iopub.execute_input": "2022-06-30T19:37:42.182222Z",
     "iopub.status.busy": "2022-06-30T19:37:42.181829Z",
     "iopub.status.idle": "2022-06-30T19:37:42.221059Z",
     "shell.execute_reply": "2022-06-30T19:37:42.219781Z"
    },
    "papermill": {
     "duration": 0.060304,
     "end_time": "2022-06-30T19:37:42.224014",
     "exception": false,
     "start_time": "2022-06-30T19:37:42.163710",
     "status": "completed"
    },
    "tags": []
   },
   "outputs": [],
   "source": [
    "numerical_df = data[continuous_variables]\n",
    "categorical_df = data[categorical_variables]\n",
    "target = data['type_encoded']\n",
    "categorical_df = categorical_df.astype(str)\n",
    "ohe_categorical = pd.get_dummies(categorical_df)"
   ]
  },
  {
   "cell_type": "code",
   "execution_count": 20,
   "id": "066b397c",
   "metadata": {
    "execution": {
     "iopub.execute_input": "2022-06-30T19:37:42.258311Z",
     "iopub.status.busy": "2022-06-30T19:37:42.257934Z",
     "iopub.status.idle": "2022-06-30T19:37:42.266422Z",
     "shell.execute_reply": "2022-06-30T19:37:42.265446Z"
    },
    "papermill": {
     "duration": 0.028457,
     "end_time": "2022-06-30T19:37:42.268757",
     "exception": false,
     "start_time": "2022-06-30T19:37:42.240300",
     "status": "completed"
    },
    "tags": []
   },
   "outputs": [],
   "source": [
    "ohe_df = numerical_df.join(ohe_categorical)\n",
    "features = ohe_df.columns\n",
    "ohe_df['type_encoded'] = target"
   ]
  },
  {
   "cell_type": "markdown",
   "id": "96c7be89",
   "metadata": {
    "papermill": {
     "duration": 0.016234,
     "end_time": "2022-06-30T19:37:42.302057",
     "exception": false,
     "start_time": "2022-06-30T19:37:42.285823",
     "status": "completed"
    },
    "tags": []
   },
   "source": [
    "**Testing out linear model**"
   ]
  },
  {
   "cell_type": "code",
   "execution_count": 21,
   "id": "f1640f70",
   "metadata": {
    "execution": {
     "iopub.execute_input": "2022-06-30T19:37:42.337859Z",
     "iopub.status.busy": "2022-06-30T19:37:42.336525Z",
     "iopub.status.idle": "2022-06-30T19:37:42.640250Z",
     "shell.execute_reply": "2022-06-30T19:37:42.639041Z"
    },
    "papermill": {
     "duration": 0.324751,
     "end_time": "2022-06-30T19:37:42.643209",
     "exception": false,
     "start_time": "2022-06-30T19:37:42.318458",
     "status": "completed"
    },
    "tags": []
   },
   "outputs": [],
   "source": [
    "from sklearn.linear_model import LogisticRegression\n",
    "from sklearn.ensemble import RandomForestClassifier\n",
    "from sklearn.model_selection import train_test_split\n",
    "from sklearn.preprocessing import StandardScaler, MinMaxScaler\n",
    "from sklearn.metrics import classification_report, confusion_matrix, roc_curve"
   ]
  },
  {
   "cell_type": "code",
   "execution_count": 22,
   "id": "105a7e70",
   "metadata": {
    "execution": {
     "iopub.execute_input": "2022-06-30T19:37:42.680620Z",
     "iopub.status.busy": "2022-06-30T19:37:42.679580Z",
     "iopub.status.idle": "2022-06-30T19:37:42.686544Z",
     "shell.execute_reply": "2022-06-30T19:37:42.685706Z"
    },
    "papermill": {
     "duration": 0.028383,
     "end_time": "2022-06-30T19:37:42.689403",
     "exception": false,
     "start_time": "2022-06-30T19:37:42.661020",
     "status": "completed"
    },
    "tags": []
   },
   "outputs": [],
   "source": [
    "shuffled = shuffle(ohe_df).reset_index()"
   ]
  },
  {
   "cell_type": "code",
   "execution_count": 23,
   "id": "6bed8b4a",
   "metadata": {
    "execution": {
     "iopub.execute_input": "2022-06-30T19:37:42.725650Z",
     "iopub.status.busy": "2022-06-30T19:37:42.725028Z",
     "iopub.status.idle": "2022-06-30T19:37:42.729948Z",
     "shell.execute_reply": "2022-06-30T19:37:42.729198Z"
    },
    "papermill": {
     "duration": 0.026168,
     "end_time": "2022-06-30T19:37:42.732449",
     "exception": false,
     "start_time": "2022-06-30T19:37:42.706281",
     "status": "completed"
    },
    "tags": []
   },
   "outputs": [],
   "source": [
    "test_threshold = int(np.floor(shuffled.shape[0] * .324))"
   ]
  },
  {
   "cell_type": "code",
   "execution_count": 24,
   "id": "cdd71635",
   "metadata": {
    "execution": {
     "iopub.execute_input": "2022-06-30T19:37:42.769186Z",
     "iopub.status.busy": "2022-06-30T19:37:42.768517Z",
     "iopub.status.idle": "2022-06-30T19:37:42.773820Z",
     "shell.execute_reply": "2022-06-30T19:37:42.772780Z"
    },
    "papermill": {
     "duration": 0.026411,
     "end_time": "2022-06-30T19:37:42.776629",
     "exception": false,
     "start_time": "2022-06-30T19:37:42.750218",
     "status": "completed"
    },
    "tags": []
   },
   "outputs": [],
   "source": [
    "test = shuffled.iloc[0:test_threshold, :]\n",
    "train = shuffled.iloc[test_threshold:,:]"
   ]
  },
  {
   "cell_type": "code",
   "execution_count": 25,
   "id": "d46f2287",
   "metadata": {
    "execution": {
     "iopub.execute_input": "2022-06-30T19:37:42.812540Z",
     "iopub.status.busy": "2022-06-30T19:37:42.812108Z",
     "iopub.status.idle": "2022-06-30T19:37:42.833755Z",
     "shell.execute_reply": "2022-06-30T19:37:42.832503Z"
    },
    "papermill": {
     "duration": 0.042758,
     "end_time": "2022-06-30T19:37:42.836540",
     "exception": false,
     "start_time": "2022-06-30T19:37:42.793782",
     "status": "completed"
    },
    "tags": []
   },
   "outputs": [],
   "source": [
    "upsampled_train = upsample_minorities(train, \"type_encoded\")"
   ]
  },
  {
   "cell_type": "code",
   "execution_count": 26,
   "id": "96e5f556",
   "metadata": {
    "execution": {
     "iopub.execute_input": "2022-06-30T19:37:42.872186Z",
     "iopub.status.busy": "2022-06-30T19:37:42.871793Z",
     "iopub.status.idle": "2022-06-30T19:37:42.880768Z",
     "shell.execute_reply": "2022-06-30T19:37:42.879480Z"
    },
    "papermill": {
     "duration": 0.029906,
     "end_time": "2022-06-30T19:37:42.883373",
     "exception": false,
     "start_time": "2022-06-30T19:37:42.853467",
     "status": "completed"
    },
    "tags": []
   },
   "outputs": [],
   "source": [
    "X_train = upsampled_train[features].values\n",
    "y_train = upsampled_train['type_encoded']\n",
    "\n",
    "X_test = test[features].values\n",
    "y_test = test['type_encoded']"
   ]
  },
  {
   "cell_type": "code",
   "execution_count": 27,
   "id": "2a4bb70a",
   "metadata": {
    "execution": {
     "iopub.execute_input": "2022-06-30T19:37:42.919611Z",
     "iopub.status.busy": "2022-06-30T19:37:42.919162Z",
     "iopub.status.idle": "2022-06-30T19:37:42.927215Z",
     "shell.execute_reply": "2022-06-30T19:37:42.926383Z"
    },
    "papermill": {
     "duration": 0.028732,
     "end_time": "2022-06-30T19:37:42.929534",
     "exception": false,
     "start_time": "2022-06-30T19:37:42.900802",
     "status": "completed"
    },
    "tags": []
   },
   "outputs": [],
   "source": [
    "scaler = StandardScaler()\n",
    "scaler.fit(X_train)\n",
    "X_train_scaled = scaler.transform(X_train)\n",
    "X_test_scaled = scaler.transform(X_test)"
   ]
  },
  {
   "cell_type": "code",
   "execution_count": 28,
   "id": "a4f2fb68",
   "metadata": {
    "execution": {
     "iopub.execute_input": "2022-06-30T19:37:42.965265Z",
     "iopub.status.busy": "2022-06-30T19:37:42.964887Z",
     "iopub.status.idle": "2022-06-30T19:37:42.972337Z",
     "shell.execute_reply": "2022-06-30T19:37:42.970821Z"
    },
    "papermill": {
     "duration": 0.029046,
     "end_time": "2022-06-30T19:37:42.975337",
     "exception": false,
     "start_time": "2022-06-30T19:37:42.946291",
     "status": "completed"
    },
    "tags": []
   },
   "outputs": [],
   "source": [
    "mscaler = MinMaxScaler()\n",
    "mscaler.fit(X_train_scaled)\n",
    "X_train_scaled = mscaler.transform(X_train_scaled)\n",
    "X_test_scaled = mscaler.transform(X_test_scaled)"
   ]
  },
  {
   "cell_type": "code",
   "execution_count": 29,
   "id": "109a3133",
   "metadata": {
    "execution": {
     "iopub.execute_input": "2022-06-30T19:37:43.015195Z",
     "iopub.status.busy": "2022-06-30T19:37:43.014819Z",
     "iopub.status.idle": "2022-06-30T19:37:43.551381Z",
     "shell.execute_reply": "2022-06-30T19:37:43.549868Z"
    },
    "papermill": {
     "duration": 0.562882,
     "end_time": "2022-06-30T19:37:43.555373",
     "exception": false,
     "start_time": "2022-06-30T19:37:42.992491",
     "status": "completed"
    },
    "tags": []
   },
   "outputs": [],
   "source": [
    "model = LogisticRegression(max_iter=1000)\n",
    "model.fit(X_train_scaled, y_train)\n",
    "predictions = model.predict(X_test_scaled)\n"
   ]
  },
  {
   "cell_type": "code",
   "execution_count": 30,
   "id": "3b2348cf",
   "metadata": {
    "execution": {
     "iopub.execute_input": "2022-06-30T19:37:43.620478Z",
     "iopub.status.busy": "2022-06-30T19:37:43.619742Z",
     "iopub.status.idle": "2022-06-30T19:37:43.646471Z",
     "shell.execute_reply": "2022-06-30T19:37:43.644395Z"
    },
    "papermill": {
     "duration": 0.064895,
     "end_time": "2022-06-30T19:37:43.652447",
     "exception": false,
     "start_time": "2022-06-30T19:37:43.587552",
     "status": "completed"
    },
    "tags": []
   },
   "outputs": [
    {
     "name": "stdout",
     "output_type": "stream",
     "text": [
      "              precision    recall  f1-score   support\n",
      "\n",
      "           0       0.80      0.57      0.67         7\n",
      "           1       0.56      0.56      0.56         9\n",
      "           2       0.93      1.00      0.96        25\n",
      "           3       1.00      1.00      1.00         5\n",
      "           4       0.43      1.00      0.60         3\n",
      "           5       0.96      0.91      0.93        75\n",
      "           6       1.00      1.00      1.00         5\n",
      "\n",
      "    accuracy                           0.89       129\n",
      "   macro avg       0.81      0.86      0.82       129\n",
      "weighted avg       0.91      0.89      0.89       129\n",
      "\n"
     ]
    }
   ],
   "source": [
    "print(classification_report(y_test, predictions))"
   ]
  },
  {
   "cell_type": "markdown",
   "id": "c94ce095",
   "metadata": {
    "papermill": {
     "duration": 0.022265,
     "end_time": "2022-06-30T19:37:43.700366",
     "exception": false,
     "start_time": "2022-06-30T19:37:43.678101",
     "status": "completed"
    },
    "tags": []
   },
   "source": [
    "**Random Forest**"
   ]
  },
  {
   "cell_type": "code",
   "execution_count": 31,
   "id": "7084b9cd",
   "metadata": {
    "execution": {
     "iopub.execute_input": "2022-06-30T19:37:43.737989Z",
     "iopub.status.busy": "2022-06-30T19:37:43.737536Z",
     "iopub.status.idle": "2022-06-30T19:37:43.998751Z",
     "shell.execute_reply": "2022-06-30T19:37:43.997358Z"
    },
    "papermill": {
     "duration": 0.283171,
     "end_time": "2022-06-30T19:37:44.001657",
     "exception": false,
     "start_time": "2022-06-30T19:37:43.718486",
     "status": "completed"
    },
    "tags": []
   },
   "outputs": [],
   "source": [
    "forest = RandomForestClassifier()\n",
    "forest.fit(X_train_scaled, y_train)\n",
    "predictions = forest.predict(X_test_scaled)"
   ]
  },
  {
   "cell_type": "code",
   "execution_count": 32,
   "id": "8c0da937",
   "metadata": {
    "execution": {
     "iopub.execute_input": "2022-06-30T19:37:44.036771Z",
     "iopub.status.busy": "2022-06-30T19:37:44.035655Z",
     "iopub.status.idle": "2022-06-30T19:37:44.046512Z",
     "shell.execute_reply": "2022-06-30T19:37:44.045634Z"
    },
    "papermill": {
     "duration": 0.031573,
     "end_time": "2022-06-30T19:37:44.049523",
     "exception": false,
     "start_time": "2022-06-30T19:37:44.017950",
     "status": "completed"
    },
    "tags": []
   },
   "outputs": [
    {
     "name": "stdout",
     "output_type": "stream",
     "text": [
      "              precision    recall  f1-score   support\n",
      "\n",
      "           0       1.00      0.57      0.73         7\n",
      "           1       1.00      0.56      0.71         9\n",
      "           2       0.93      1.00      0.96        25\n",
      "           3       1.00      1.00      1.00         5\n",
      "           4       0.60      1.00      0.75         3\n",
      "           5       0.94      0.97      0.95        75\n",
      "           6       1.00      1.00      1.00         5\n",
      "\n",
      "    accuracy                           0.93       129\n",
      "   macro avg       0.92      0.87      0.87       129\n",
      "weighted avg       0.94      0.93      0.93       129\n",
      "\n"
     ]
    }
   ],
   "source": [
    "print(classification_report(y_test, predictions))"
   ]
  },
  {
   "cell_type": "code",
   "execution_count": 33,
   "id": "954bafdd",
   "metadata": {
    "execution": {
     "iopub.execute_input": "2022-06-30T19:37:44.084184Z",
     "iopub.status.busy": "2022-06-30T19:37:44.083806Z",
     "iopub.status.idle": "2022-06-30T19:37:44.100455Z",
     "shell.execute_reply": "2022-06-30T19:37:44.099489Z"
    },
    "papermill": {
     "duration": 0.037246,
     "end_time": "2022-06-30T19:37:44.103200",
     "exception": false,
     "start_time": "2022-06-30T19:37:44.065954",
     "status": "completed"
    },
    "tags": []
   },
   "outputs": [],
   "source": [
    "feat_importance = pd.DataFrame(list(zip(features, forest.feature_importances_)), columns = ['feature','importance'])\n",
    "\n",
    "feat_importance = feat_importance.sort_values(by=['importance'], ascending=False)"
   ]
  },
  {
   "cell_type": "code",
   "execution_count": 34,
   "id": "61f84166",
   "metadata": {
    "execution": {
     "iopub.execute_input": "2022-06-30T19:37:44.140074Z",
     "iopub.status.busy": "2022-06-30T19:37:44.139391Z",
     "iopub.status.idle": "2022-06-30T19:37:44.381738Z",
     "shell.execute_reply": "2022-06-30T19:37:44.379833Z"
    },
    "papermill": {
     "duration": 0.264438,
     "end_time": "2022-06-30T19:37:44.384660",
     "exception": false,
     "start_time": "2022-06-30T19:37:44.120222",
     "status": "completed"
    },
    "tags": []
   },
   "outputs": [
    {
     "data": {
      "image/png": "[encoded data removed]",
      "text/plain": [
       "<Figure size 720x360 with 1 Axes>"
      ]
     },
     "metadata": {
      "needs_background": "light"
     },
     "output_type": "display_data"
    }
   ],
   "source": [
    "plt.figure(figsize=(10,5))\n",
    "ax = sns.barplot(x='feature',y='importance', data=feat_importance.iloc[0:11, :])\n",
    "plt.xticks(rotation = 45)\n",
    "plt.show()"
   ]
  },
  {
   "cell_type": "code",
   "execution_count": 35,
   "id": "f058e371",
   "metadata": {
    "execution": {
     "iopub.execute_input": "2022-06-30T19:37:44.422641Z",
     "iopub.status.busy": "2022-06-30T19:37:44.420967Z",
     "iopub.status.idle": "2022-06-30T19:37:44.426496Z",
     "shell.execute_reply": "2022-06-30T19:37:44.425614Z"
    },
    "papermill": {
     "duration": 0.026245,
     "end_time": "2022-06-30T19:37:44.428546",
     "exception": false,
     "start_time": "2022-06-30T19:37:44.402301",
     "status": "completed"
    },
    "tags": []
   },
   "outputs": [],
   "source": [
    "from sklearn.model_selection import GridSearchCV"
   ]
  },
  {
   "cell_type": "code",
   "execution_count": 36,
   "id": "68982cbb",
   "metadata": {
    "execution": {
     "iopub.execute_input": "2022-06-30T19:37:44.464618Z",
     "iopub.status.busy": "2022-06-30T19:37:44.463729Z",
     "iopub.status.idle": "2022-06-30T19:37:44.469073Z",
     "shell.execute_reply": "2022-06-30T19:37:44.468194Z"
    },
    "papermill": {
     "duration": 0.025982,
     "end_time": "2022-06-30T19:37:44.471177",
     "exception": false,
     "start_time": "2022-06-30T19:37:44.445195",
     "status": "completed"
    },
    "tags": []
   },
   "outputs": [],
   "source": [
    "param_grid={'max_depth': [50, None],\n",
    "            'max_features': [\"sqrt\", \"log2\", None],\n",
    "            'criterion': [\"gini\", \"entropy\"]}"
   ]
  },
  {
   "cell_type": "code",
   "execution_count": 37,
   "id": "82fbcc75",
   "metadata": {
    "execution": {
     "iopub.execute_input": "2022-06-30T19:37:44.506945Z",
     "iopub.status.busy": "2022-06-30T19:37:44.506453Z",
     "iopub.status.idle": "2022-06-30T19:38:00.536920Z",
     "shell.execute_reply": "2022-06-30T19:38:00.536060Z"
    },
    "papermill": {
     "duration": 16.051938,
     "end_time": "2022-06-30T19:38:00.539792",
     "exception": false,
     "start_time": "2022-06-30T19:37:44.487854",
     "status": "completed"
    },
    "tags": []
   },
   "outputs": [],
   "source": [
    "grid = GridSearchCV(estimator=RandomForestClassifier(),\n",
    "             param_grid=param_grid)\n",
    "grid.fit(X_train_scaled, y_train)\n",
    "predictions = grid.predict(X_test_scaled)"
   ]
  },
  {
   "cell_type": "code",
   "execution_count": 38,
   "id": "6f02bc17",
   "metadata": {
    "execution": {
     "iopub.execute_input": "2022-06-30T19:38:00.578110Z",
     "iopub.status.busy": "2022-06-30T19:38:00.577389Z",
     "iopub.status.idle": "2022-06-30T19:38:00.586655Z",
     "shell.execute_reply": "2022-06-30T19:38:00.585499Z"
    },
    "papermill": {
     "duration": 0.031299,
     "end_time": "2022-06-30T19:38:00.589260",
     "exception": false,
     "start_time": "2022-06-30T19:38:00.557961",
     "status": "completed"
    },
    "tags": []
   },
   "outputs": [
    {
     "data": {
      "text/plain": [
       "RandomForestClassifier(max_features='log2')"
      ]
     },
     "execution_count": 38,
     "metadata": {},
     "output_type": "execute_result"
    }
   ],
   "source": [
    "grid.best_estimator_"
   ]
  },
  {
   "cell_type": "code",
   "execution_count": 39,
   "id": "e6ae60d8",
   "metadata": {
    "execution": {
     "iopub.execute_input": "2022-06-30T19:38:00.628513Z",
     "iopub.status.busy": "2022-06-30T19:38:00.627729Z",
     "iopub.status.idle": "2022-06-30T19:38:00.637373Z",
     "shell.execute_reply": "2022-06-30T19:38:00.636485Z"
    },
    "papermill": {
     "duration": 0.032864,
     "end_time": "2022-06-30T19:38:00.640634",
     "exception": false,
     "start_time": "2022-06-30T19:38:00.607770",
     "status": "completed"
    },
    "tags": []
   },
   "outputs": [
    {
     "name": "stdout",
     "output_type": "stream",
     "text": [
      "              precision    recall  f1-score   support\n",
      "\n",
      "           0       1.00      0.57      0.73         7\n",
      "           1       0.83      0.56      0.67         9\n",
      "           2       1.00      1.00      1.00        25\n",
      "           3       1.00      0.80      0.89         5\n",
      "           4       0.50      0.67      0.57         3\n",
      "           5       0.93      1.00      0.96        75\n",
      "           6       1.00      1.00      1.00         5\n",
      "\n",
      "    accuracy                           0.93       129\n",
      "   macro avg       0.89      0.80      0.83       129\n",
      "weighted avg       0.93      0.93      0.93       129\n",
      "\n"
     ]
    }
   ],
   "source": [
    "print(classification_report(y_test, predictions))"
   ]
  },
  {
   "cell_type": "markdown",
   "id": "e7c1a831",
   "metadata": {
    "papermill": {
     "duration": 0.017506,
     "end_time": "2022-06-30T19:38:00.676605",
     "exception": false,
     "start_time": "2022-06-30T19:38:00.659099",
     "status": "completed"
    },
    "tags": []
   },
   "source": [
    "**KNN**"
   ]
  },
  {
   "cell_type": "code",
   "execution_count": 40,
   "id": "056f959e",
   "metadata": {
    "execution": {
     "iopub.execute_input": "2022-06-30T19:38:00.714400Z",
     "iopub.status.busy": "2022-06-30T19:38:00.713672Z",
     "iopub.status.idle": "2022-06-30T19:38:00.719240Z",
     "shell.execute_reply": "2022-06-30T19:38:00.717917Z"
    },
    "papermill": {
     "duration": 0.027545,
     "end_time": "2022-06-30T19:38:00.721995",
     "exception": false,
     "start_time": "2022-06-30T19:38:00.694450",
     "status": "completed"
    },
    "tags": []
   },
   "outputs": [],
   "source": [
    "from sklearn.neighbors import KNeighborsClassifier"
   ]
  },
  {
   "cell_type": "code",
   "execution_count": 41,
   "id": "4cda0a52",
   "metadata": {
    "execution": {
     "iopub.execute_input": "2022-06-30T19:38:00.760242Z",
     "iopub.status.busy": "2022-06-30T19:38:00.759476Z",
     "iopub.status.idle": "2022-06-30T19:38:00.781692Z",
     "shell.execute_reply": "2022-06-30T19:38:00.780307Z"
    },
    "papermill": {
     "duration": 0.046215,
     "end_time": "2022-06-30T19:38:00.786287",
     "exception": false,
     "start_time": "2022-06-30T19:38:00.740072",
     "status": "completed"
    },
    "tags": []
   },
   "outputs": [],
   "source": [
    "knn = KNeighborsClassifier(n_neighbors=1)\n",
    "knn.fit(X_train_scaled, y_train)\n",
    "\n",
    "predictions = knn.predict(X_test_scaled)"
   ]
  },
  {
   "cell_type": "code",
   "execution_count": 42,
   "id": "ccb01b67",
   "metadata": {
    "execution": {
     "iopub.execute_input": "2022-06-30T19:38:00.856539Z",
     "iopub.status.busy": "2022-06-30T19:38:00.855937Z",
     "iopub.status.idle": "2022-06-30T19:38:00.873028Z",
     "shell.execute_reply": "2022-06-30T19:38:00.870676Z"
    },
    "papermill": {
     "duration": 0.056148,
     "end_time": "2022-06-30T19:38:00.877717",
     "exception": false,
     "start_time": "2022-06-30T19:38:00.821569",
     "status": "completed"
    },
    "tags": []
   },
   "outputs": [
    {
     "name": "stdout",
     "output_type": "stream",
     "text": [
      "              precision    recall  f1-score   support\n",
      "\n",
      "           0       1.00      0.14      0.25         7\n",
      "           1       0.67      0.22      0.33         9\n",
      "           2       0.96      0.92      0.94        25\n",
      "           3       0.43      0.60      0.50         5\n",
      "           4       0.67      0.67      0.67         3\n",
      "           5       0.85      0.97      0.91        75\n",
      "           6       1.00      1.00      1.00         5\n",
      "\n",
      "    accuracy                           0.84       129\n",
      "   macro avg       0.80      0.65      0.66       129\n",
      "weighted avg       0.85      0.84      0.82       129\n",
      "\n"
     ]
    }
   ],
   "source": [
    "print(classification_report(y_test, predictions))"
   ]
  },
  {
   "cell_type": "code",
   "execution_count": 43,
   "id": "6b3cbcae",
   "metadata": {
    "execution": {
     "iopub.execute_input": "2022-06-30T19:38:00.927279Z",
     "iopub.status.busy": "2022-06-30T19:38:00.926906Z",
     "iopub.status.idle": "2022-06-30T19:38:01.820436Z",
     "shell.execute_reply": "2022-06-30T19:38:01.819095Z"
    },
    "papermill": {
     "duration": 0.923704,
     "end_time": "2022-06-30T19:38:01.824012",
     "exception": false,
     "start_time": "2022-06-30T19:38:00.900308",
     "status": "completed"
    },
    "tags": []
   },
   "outputs": [],
   "source": [
    "error_rate = []\n",
    "# Will take some time\n",
    "for i in range(1,40):\n",
    "    knn = KNeighborsClassifier(n_neighbors=i)\n",
    "    knn.fit(X_train_scaled,y_train)\n",
    "    pred_i = knn.predict(X_test_scaled)\n",
    "    error_rate.append(np.mean(pred_i != y_test))"
   ]
  },
  {
   "cell_type": "code",
   "execution_count": 44,
   "id": "fbc4bb50",
   "metadata": {
    "execution": {
     "iopub.execute_input": "2022-06-30T19:38:01.940231Z",
     "iopub.status.busy": "2022-06-30T19:38:01.939819Z",
     "iopub.status.idle": "2022-06-30T19:38:02.164290Z",
     "shell.execute_reply": "2022-06-30T19:38:02.163209Z"
    },
    "papermill": {
     "duration": 0.278128,
     "end_time": "2022-06-30T19:38:02.166910",
     "exception": false,
     "start_time": "2022-06-30T19:38:01.888782",
     "status": "completed"
    },
    "tags": []
   },
   "outputs": [
    {
     "data": {
      "text/plain": [
       "[<matplotlib.lines.Line2D at 0x7f7b28a93490>]"
      ]
     },
     "execution_count": 44,
     "metadata": {},
     "output_type": "execute_result"
    },
    {
     "data": {
      "image/png": "[encoded data removed]",
      "text/plain": [
       "<Figure size 432x288 with 1 Axes>"
      ]
     },
     "metadata": {
      "needs_background": "light"
     },
     "output_type": "display_data"
    }
   ],
   "source": [
    "plt.plot(list(range(1,40)), error_rate)"
   ]
  },
  {
   "cell_type": "markdown",
   "id": "78295f3e",
   "metadata": {
    "papermill": {
     "duration": 0.018514,
     "end_time": "2022-06-30T19:38:02.205288",
     "exception": false,
     "start_time": "2022-06-30T19:38:02.186774",
     "status": "completed"
    },
    "tags": []
   },
   "source": [
    "**Voting Classifier**"
   ]
  },
  {
   "cell_type": "code",
   "execution_count": 45,
   "id": "a1f0a75a",
   "metadata": {
    "execution": {
     "iopub.execute_input": "2022-06-30T19:38:02.245368Z",
     "iopub.status.busy": "2022-06-30T19:38:02.244954Z",
     "iopub.status.idle": "2022-06-30T19:38:02.250223Z",
     "shell.execute_reply": "2022-06-30T19:38:02.249262Z"
    },
    "papermill": {
     "duration": 0.028691,
     "end_time": "2022-06-30T19:38:02.253245",
     "exception": false,
     "start_time": "2022-06-30T19:38:02.224554",
     "status": "completed"
    },
    "tags": []
   },
   "outputs": [],
   "source": [
    "from sklearn.ensemble import VotingClassifier"
   ]
  },
  {
   "cell_type": "code",
   "execution_count": 46,
   "id": "442f3521",
   "metadata": {
    "execution": {
     "iopub.execute_input": "2022-06-30T19:38:02.314189Z",
     "iopub.status.busy": "2022-06-30T19:38:02.313451Z",
     "iopub.status.idle": "2022-06-30T19:38:02.322016Z",
     "shell.execute_reply": "2022-06-30T19:38:02.320710Z"
    },
    "papermill": {
     "duration": 0.045111,
     "end_time": "2022-06-30T19:38:02.328911",
     "exception": false,
     "start_time": "2022-06-30T19:38:02.283800",
     "status": "completed"
    },
    "tags": []
   },
   "outputs": [],
   "source": [
    "clf1 = LogisticRegression(max_iter=1000)\n",
    "clf2 = RandomForestClassifier()\n",
    "clf3 = KNeighborsClassifier(n_neighbors=5)\n",
    "\n",
    "estimators = [(\"logistic_regression\", clf1), (\"random_forest\", clf2), (\"knn\", clf3)]"
   ]
  },
  {
   "cell_type": "code",
   "execution_count": 47,
   "id": "05b27a54",
   "metadata": {
    "execution": {
     "iopub.execute_input": "2022-06-30T19:38:02.367639Z",
     "iopub.status.busy": "2022-06-30T19:38:02.366781Z",
     "iopub.status.idle": "2022-06-30T19:38:03.221493Z",
     "shell.execute_reply": "2022-06-30T19:38:03.220019Z"
    },
    "papermill": {
     "duration": 0.878282,
     "end_time": "2022-06-30T19:38:03.225463",
     "exception": false,
     "start_time": "2022-06-30T19:38:02.347181",
     "status": "completed"
    },
    "tags": []
   },
   "outputs": [],
   "source": [
    "vc = VotingClassifier(estimators=estimators, voting=\"soft\")\n",
    "vc.fit(X_train_scaled, y_train)\n",
    "predictions = vc.predict(X_test_scaled)"
   ]
  },
  {
   "cell_type": "code",
   "execution_count": 48,
   "id": "d0359ab2",
   "metadata": {
    "execution": {
     "iopub.execute_input": "2022-06-30T19:38:03.293743Z",
     "iopub.status.busy": "2022-06-30T19:38:03.293022Z",
     "iopub.status.idle": "2022-06-30T19:38:03.308999Z",
     "shell.execute_reply": "2022-06-30T19:38:03.307828Z"
    },
    "papermill": {
     "duration": 0.053266,
     "end_time": "2022-06-30T19:38:03.312468",
     "exception": false,
     "start_time": "2022-06-30T19:38:03.259202",
     "status": "completed"
    },
    "tags": []
   },
   "outputs": [
    {
     "name": "stdout",
     "output_type": "stream",
     "text": [
      "              precision    recall  f1-score   support\n",
      "\n",
      "           0       1.00      0.57      0.73         7\n",
      "           1       0.62      0.56      0.59         9\n",
      "           2       0.96      1.00      0.98        25\n",
      "           3       0.71      1.00      0.83         5\n",
      "           4       0.60      1.00      0.75         3\n",
      "           5       0.95      0.93      0.94        75\n",
      "           6       1.00      1.00      1.00         5\n",
      "\n",
      "    accuracy                           0.91       129\n",
      "   macro avg       0.84      0.87      0.83       129\n",
      "weighted avg       0.91      0.91      0.91       129\n",
      "\n"
     ]
    }
   ],
   "source": [
    "print(classification_report(y_test, predictions))"
   ]
  },
  {
   "cell_type": "code",
   "execution_count": null,
   "id": "b51fae19",
   "metadata": {
    "papermill": {
     "duration": 0.017291,
     "end_time": "2022-06-30T19:38:03.356961",
     "exception": false,
     "start_time": "2022-06-30T19:38:03.339670",
     "status": "completed"
    },
    "tags": []
   },
   "outputs": [],
   "source": []
  }
 ],
 "metadata": {
  "kernelspec": {
   "display_name": "Python 3",
   "language": "python",
   "name": "python3"
  },
  "language_info": {
   "codemirror_mode": {
    "name": "ipython",
    "version": 3
   },
   "file_extension": ".py",
   "mimetype": "text/x-python",
   "name": "python",
   "nbconvert_exporter": "python",
   "pygments_lexer": "ipython3",
   "version": "3.7.12"
  },
  "papermill": {
   "default_parameters": {},
   "duration": 36.809786,
   "end_time": "2022-06-30T19:38:04.198740",
   "environment_variables": {},
   "exception": null,
   "input_path": "__notebook__.ipynb",
   "output_path": "__notebook__.ipynb",
   "parameters": {},
   "start_time": "2022-06-30T19:37:27.388954",
   "version": "2.3.4"
  }
 },
 "nbformat": 4,
 "nbformat_minor": 5
}
