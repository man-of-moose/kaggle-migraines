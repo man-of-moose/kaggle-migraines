{
 "cells": [
  {
   "cell_type": "code",
   "execution_count": 1,
   "id": "5c7e26c2",
   "metadata": {
    "_cell_guid": "b1076dfc-b9ad-4769-8c92-a6c4dae69d19",
    "_uuid": "8f2839f25d086af736a60e9eeb907d3b93b6e0e5",
    "execution": {
     "iopub.execute_input": "2022-06-30T19:13:08.463142Z",
     "iopub.status.busy": "2022-06-30T19:13:08.461863Z",
     "iopub.status.idle": "2022-06-30T19:13:08.485018Z",
     "shell.execute_reply": "2022-06-30T19:13:08.484192Z"
    },
    "papermill": {
     "duration": 0.042692,
     "end_time": "2022-06-30T19:13:08.488011",
     "exception": false,
     "start_time": "2022-06-30T19:13:08.445319",
     "status": "completed"
    },
    "tags": []
   },
   "outputs": [
    {
     "name": "stdout",
     "output_type": "stream",
     "text": [
      "/kaggle/input/migraine-classification/data.csv\n"
     ]
    }
   ],
   "source": [
    "# This Python 3 environment comes with many helpful analytics libraries installed\n",
    "# It is defined by the kaggle/python Docker image: https://github.com/kaggle/docker-python\n",
    "# For example, here's several helpful packages to load\n",
    "\n",
    "import numpy as np # linear algebra\n",
    "import pandas as pd # data processing, CSV file I/O (e.g. pd.read_csv)\n",
    "\n",
    "# Input data files are available in the read-only \"../input/\" directory\n",
    "# For example, running this (by clicking run or pressing Shift+Enter) will list all files under the input directory\n",
    "\n",
    "import os\n",
    "for dirname, _, filenames in os.walk('/kaggle/input'):\n",
    "    for filename in filenames:\n",
    "        print(os.path.join(dirname, filename))\n",
    "\n",
    "# You can write up to 20GB to the current directory (/kaggle/working/) that gets preserved as output when you create a version using \"Save & Run All\" \n",
    "# You can also write temporary files to /kaggle/temp/, but they won't be saved outside of the current session"
   ]
  },
  {
   "cell_type": "code",
   "execution_count": 2,
   "id": "75c9169c",
   "metadata": {
    "execution": {
     "iopub.execute_input": "2022-06-30T19:13:08.517674Z",
     "iopub.status.busy": "2022-06-30T19:13:08.517272Z",
     "iopub.status.idle": "2022-06-30T19:13:09.869418Z",
     "shell.execute_reply": "2022-06-30T19:13:09.868325Z"
    },
    "papermill": {
     "duration": 1.370194,
     "end_time": "2022-06-30T19:13:09.872254",
     "exception": false,
     "start_time": "2022-06-30T19:13:08.502060",
     "status": "completed"
    },
    "tags": []
   },
   "outputs": [],
   "source": [
    "from scipy.stats import chi2_contingency\n",
    "from sklearn.preprocessing import LabelEncoder\n",
    "import seaborn as sns\n",
    "import matplotlib.pyplot as plt\n",
    "import scipy.stats as stats"
   ]
  },
  {
   "cell_type": "code",
   "execution_count": 3,
   "id": "f6f7f06f",
   "metadata": {
    "execution": {
     "iopub.execute_input": "2022-06-30T19:13:09.901547Z",
     "iopub.status.busy": "2022-06-30T19:13:09.900623Z",
     "iopub.status.idle": "2022-06-30T19:13:09.920591Z",
     "shell.execute_reply": "2022-06-30T19:13:09.919513Z"
    },
    "papermill": {
     "duration": 0.037388,
     "end_time": "2022-06-30T19:13:09.923218",
     "exception": false,
     "start_time": "2022-06-30T19:13:09.885830",
     "status": "completed"
    },
    "tags": []
   },
   "outputs": [],
   "source": [
    "data = pd.read_csv(\"/kaggle/input/migraine-classification/data.csv\")"
   ]
  },
  {
   "cell_type": "code",
   "execution_count": 4,
   "id": "6eeea86d",
   "metadata": {
    "execution": {
     "iopub.execute_input": "2022-06-30T19:13:09.953851Z",
     "iopub.status.busy": "2022-06-30T19:13:09.953450Z",
     "iopub.status.idle": "2022-06-30T19:13:09.958496Z",
     "shell.execute_reply": "2022-06-30T19:13:09.957451Z"
    },
    "papermill": {
     "duration": 0.023303,
     "end_time": "2022-06-30T19:13:09.960689",
     "exception": false,
     "start_time": "2022-06-30T19:13:09.937386",
     "status": "completed"
    },
    "tags": []
   },
   "outputs": [],
   "source": [
    "data.columns = [x.lower() for x in data.columns]"
   ]
  },
  {
   "cell_type": "markdown",
   "id": "303f5d49",
   "metadata": {
    "papermill": {
     "duration": 0.013269,
     "end_time": "2022-06-30T19:13:09.987795",
     "exception": false,
     "start_time": "2022-06-30T19:13:09.974526",
     "status": "completed"
    },
    "tags": []
   },
   "source": [
    "**Visualize Target Class**"
   ]
  },
  {
   "cell_type": "code",
   "execution_count": 5,
   "id": "37a02cf8",
   "metadata": {
    "execution": {
     "iopub.execute_input": "2022-06-30T19:13:10.016359Z",
     "iopub.status.busy": "2022-06-30T19:13:10.015967Z",
     "iopub.status.idle": "2022-06-30T19:13:10.283766Z",
     "shell.execute_reply": "2022-06-30T19:13:10.282398Z"
    },
    "papermill": {
     "duration": 0.285121,
     "end_time": "2022-06-30T19:13:10.286254",
     "exception": false,
     "start_time": "2022-06-30T19:13:10.001133",
     "status": "completed"
    },
    "tags": []
   },
   "outputs": [
    {
     "data": {
      "text/plain": [
       "<AxesSubplot:>"
      ]
     },
     "execution_count": 5,
     "metadata": {},
     "output_type": "execute_result"
    },
    {
     "data": {
      "image/png": "[encoded data removed]",
      "text/plain": [
       "<Figure size 432x288 with 1 Axes>"
      ]
     },
     "metadata": {
      "needs_background": "light"
     },
     "output_type": "display_data"
    }
   ],
   "source": [
    "# class imbalance\n",
    "\n",
    "data['type'].value_counts().plot(kind=\"bar\")"
   ]
  },
  {
   "cell_type": "code",
   "execution_count": 6,
   "id": "c1fe2d34",
   "metadata": {
    "execution": {
     "iopub.execute_input": "2022-06-30T19:13:10.316903Z",
     "iopub.status.busy": "2022-06-30T19:13:10.315799Z",
     "iopub.status.idle": "2022-06-30T19:13:10.322958Z",
     "shell.execute_reply": "2022-06-30T19:13:10.321710Z"
    },
    "papermill": {
     "duration": 0.025445,
     "end_time": "2022-06-30T19:13:10.325725",
     "exception": false,
     "start_time": "2022-06-30T19:13:10.300280",
     "status": "completed"
    },
    "tags": []
   },
   "outputs": [],
   "source": [
    "# encode the target variable\n",
    "\n",
    "le = LabelEncoder()\n",
    "data['type_encoded'] = le.fit_transform(data['type'])"
   ]
  },
  {
   "cell_type": "markdown",
   "id": "fad36c55",
   "metadata": {
    "papermill": {
     "duration": 0.013644,
     "end_time": "2022-06-30T19:13:10.353182",
     "exception": false,
     "start_time": "2022-06-30T19:13:10.339538",
     "status": "completed"
    },
    "tags": []
   },
   "source": [
    "**Explore Features**"
   ]
  },
  {
   "cell_type": "code",
   "execution_count": 7,
   "id": "2a4a2158",
   "metadata": {
    "execution": {
     "iopub.execute_input": "2022-06-30T19:13:10.383174Z",
     "iopub.status.busy": "2022-06-30T19:13:10.382402Z",
     "iopub.status.idle": "2022-06-30T19:13:10.395563Z",
     "shell.execute_reply": "2022-06-30T19:13:10.394634Z"
    },
    "papermill": {
     "duration": 0.03075,
     "end_time": "2022-06-30T19:13:10.397816",
     "exception": false,
     "start_time": "2022-06-30T19:13:10.367066",
     "status": "completed"
    },
    "tags": []
   },
   "outputs": [
    {
     "data": {
      "text/plain": [
       "{'age': (51, dtype('int64')),\n",
       " 'duration': (3, dtype('int64')),\n",
       " 'frequency': (8, dtype('int64')),\n",
       " 'location': (3, dtype('int64')),\n",
       " 'character': (3, dtype('int64')),\n",
       " 'intensity': (4, dtype('int64')),\n",
       " 'nausea': (2, dtype('int64')),\n",
       " 'vomit': (2, dtype('int64')),\n",
       " 'phonophobia': (2, dtype('int64')),\n",
       " 'photophobia': (2, dtype('int64')),\n",
       " 'visual': (5, dtype('int64')),\n",
       " 'sensory': (3, dtype('int64')),\n",
       " 'dysphasia': (2, dtype('int64')),\n",
       " 'dysarthria': (2, dtype('int64')),\n",
       " 'vertigo': (2, dtype('int64')),\n",
       " 'tinnitus': (2, dtype('int64')),\n",
       " 'hypoacusis': (2, dtype('int64')),\n",
       " 'diplopia': (2, dtype('int64')),\n",
       " 'defect': (2, dtype('int64')),\n",
       " 'ataxia': (1, dtype('int64')),\n",
       " 'conscience': (2, dtype('int64')),\n",
       " 'paresthesia': (2, dtype('int64')),\n",
       " 'dpf': (2, dtype('int64')),\n",
       " 'type': (7, dtype('O')),\n",
       " 'type_encoded': (7, dtype('int64'))}"
      ]
     },
     "execution_count": 7,
     "metadata": {},
     "output_type": "execute_result"
    }
   ],
   "source": [
    "dictionary = {}\n",
    "cols = data.columns\n",
    "for col in cols:\n",
    "    unique = len(data[col].unique())\n",
    "    dtype = data[col].dtypes\n",
    "    \n",
    "    dictionary[col] = (unique, dtype)\n",
    "    \n",
    "dictionary"
   ]
  },
  {
   "cell_type": "code",
   "execution_count": 8,
   "id": "5e4deafd",
   "metadata": {
    "execution": {
     "iopub.execute_input": "2022-06-30T19:13:10.427894Z",
     "iopub.status.busy": "2022-06-30T19:13:10.427512Z",
     "iopub.status.idle": "2022-06-30T19:13:10.433151Z",
     "shell.execute_reply": "2022-06-30T19:13:10.431992Z"
    },
    "papermill": {
     "duration": 0.023481,
     "end_time": "2022-06-30T19:13:10.435309",
     "exception": false,
     "start_time": "2022-06-30T19:13:10.411828",
     "status": "completed"
    },
    "tags": []
   },
   "outputs": [],
   "source": [
    "# split features into continuous and categorical\n",
    "\n",
    "continuous_variables = ['age']\n",
    "categorical_variables = ['duration','frequency','location','character','intensity','nausea','vomit',\n",
    "                        'phonophobia','photophobia','visual','sensory','dysphasia','dysarthria','vertigo',\n",
    "                        'tinnitus','hypoacusis','diplopia','defect','ataxia','conscience','paresthesia',\n",
    "                        'dpf']"
   ]
  },
  {
   "cell_type": "code",
   "execution_count": 9,
   "id": "bc5821ab",
   "metadata": {
    "execution": {
     "iopub.execute_input": "2022-06-30T19:13:10.465744Z",
     "iopub.status.busy": "2022-06-30T19:13:10.464833Z",
     "iopub.status.idle": "2022-06-30T19:13:10.474820Z",
     "shell.execute_reply": "2022-06-30T19:13:10.473745Z"
    },
    "papermill": {
     "duration": 0.027835,
     "end_time": "2022-06-30T19:13:10.477076",
     "exception": false,
     "start_time": "2022-06-30T19:13:10.449241",
     "status": "completed"
    },
    "tags": []
   },
   "outputs": [
    {
     "data": {
      "text/plain": [
       "age             0\n",
       "duration        0\n",
       "frequency       0\n",
       "location        0\n",
       "character       0\n",
       "intensity       0\n",
       "nausea          0\n",
       "vomit           0\n",
       "phonophobia     0\n",
       "photophobia     0\n",
       "visual          0\n",
       "sensory         0\n",
       "dysphasia       0\n",
       "dysarthria      0\n",
       "vertigo         0\n",
       "tinnitus        0\n",
       "hypoacusis      0\n",
       "diplopia        0\n",
       "defect          0\n",
       "ataxia          0\n",
       "conscience      0\n",
       "paresthesia     0\n",
       "dpf             0\n",
       "type            0\n",
       "type_encoded    0\n",
       "dtype: int64"
      ]
     },
     "execution_count": 9,
     "metadata": {},
     "output_type": "execute_result"
    }
   ],
   "source": [
    "# check for missing values\n",
    "\n",
    "data.isna().sum()"
   ]
  },
  {
   "cell_type": "code",
   "execution_count": 10,
   "id": "7ae746a0",
   "metadata": {
    "execution": {
     "iopub.execute_input": "2022-06-30T19:13:10.507321Z",
     "iopub.status.busy": "2022-06-30T19:13:10.506509Z",
     "iopub.status.idle": "2022-06-30T19:13:10.738464Z",
     "shell.execute_reply": "2022-06-30T19:13:10.737307Z"
    },
    "papermill": {
     "duration": 0.249644,
     "end_time": "2022-06-30T19:13:10.740907",
     "exception": false,
     "start_time": "2022-06-30T19:13:10.491263",
     "status": "completed"
    },
    "tags": []
   },
   "outputs": [
    {
     "data": {
      "image/png": "[encoded data removed]",
      "text/plain": [
       "<Figure size 432x288 with 1 Axes>"
      ]
     },
     "metadata": {
      "needs_background": "light"
     },
     "output_type": "display_data"
    }
   ],
   "source": [
    "ax = sns.histplot(x=data['age'])\n",
    "plt.show()"
   ]
  },
  {
   "cell_type": "markdown",
   "id": "359e5a95",
   "metadata": {
    "papermill": {
     "duration": 0.014021,
     "end_time": "2022-06-30T19:13:10.769332",
     "exception": false,
     "start_time": "2022-06-30T19:13:10.755311",
     "status": "completed"
    },
    "tags": []
   },
   "source": [
    "Only one column is numerical. Everything else is boolean or categorical.\n",
    "\n",
    "Age is right skewed and will need transformation."
   ]
  },
  {
   "cell_type": "markdown",
   "id": "fdb54d85",
   "metadata": {
    "papermill": {
     "duration": 0.014616,
     "end_time": "2022-06-30T19:13:10.798352",
     "exception": false,
     "start_time": "2022-06-30T19:13:10.783736",
     "status": "completed"
    },
    "tags": []
   },
   "source": [
    "**Independence and Correlation Testing**"
   ]
  },
  {
   "cell_type": "code",
   "execution_count": 11,
   "id": "a534d067",
   "metadata": {
    "execution": {
     "iopub.execute_input": "2022-06-30T19:13:10.828643Z",
     "iopub.status.busy": "2022-06-30T19:13:10.828259Z",
     "iopub.status.idle": "2022-06-30T19:13:10.834124Z",
     "shell.execute_reply": "2022-06-30T19:13:10.832987Z"
    },
    "papermill": {
     "duration": 0.02351,
     "end_time": "2022-06-30T19:13:10.836269",
     "exception": false,
     "start_time": "2022-06-30T19:13:10.812759",
     "status": "completed"
    },
    "tags": []
   },
   "outputs": [],
   "source": [
    "# define function that tests independence between two categorical values\n",
    "\n",
    "def check_cat_cat_ind(data, col1, col2):\n",
    "    cross_tab = pd.crosstab(data[col1],data[col2])\n",
    "    \n",
    "    stat, p, dof, expected = chi2_contingency(cross_tab)\n",
    "    \n",
    "    return p"
   ]
  },
  {
   "cell_type": "code",
   "execution_count": 12,
   "id": "6574a22b",
   "metadata": {
    "execution": {
     "iopub.execute_input": "2022-06-30T19:13:10.867043Z",
     "iopub.status.busy": "2022-06-30T19:13:10.866266Z",
     "iopub.status.idle": "2022-06-30T19:13:10.871769Z",
     "shell.execute_reply": "2022-06-30T19:13:10.871054Z"
    },
    "papermill": {
     "duration": 0.023517,
     "end_time": "2022-06-30T19:13:10.874031",
     "exception": false,
     "start_time": "2022-06-30T19:13:10.850514",
     "status": "completed"
    },
    "tags": []
   },
   "outputs": [],
   "source": [
    "# define function that tests independence between categorical and continuous\n",
    "\n",
    "def check_cat_cont_ind(data, col1, col2):\n",
    "    s, p = stats.f_oneway(data['age'], data['type_encoded'])\n",
    "    \n",
    "    return p"
   ]
  },
  {
   "cell_type": "code",
   "execution_count": 13,
   "id": "23a25e76",
   "metadata": {
    "execution": {
     "iopub.execute_input": "2022-06-30T19:13:10.904729Z",
     "iopub.status.busy": "2022-06-30T19:13:10.903975Z",
     "iopub.status.idle": "2022-06-30T19:13:11.193067Z",
     "shell.execute_reply": "2022-06-30T19:13:11.191940Z"
    },
    "papermill": {
     "duration": 0.308095,
     "end_time": "2022-06-30T19:13:11.196314",
     "exception": false,
     "start_time": "2022-06-30T19:13:10.888219",
     "status": "completed"
    },
    "tags": []
   },
   "outputs": [],
   "source": [
    "results = pd.DataFrame(columns = ['column','p-value'])\n",
    "\n",
    "for var in continuous_variables:\n",
    "    p = check_cat_cont_ind(data, var, \"type_encoded\")\n",
    "    results = results.append({'column': var, 'p-value': p}, ignore_index=True)\n",
    "    \n",
    "for var in categorical_variables:\n",
    "    p = check_cat_cat_ind(data, var, \"type_encoded\")\n",
    "    results = results.append({'column': var, 'p-value': p}, ignore_index=True)\n",
    "    "
   ]
  },
  {
   "cell_type": "code",
   "execution_count": 14,
   "id": "2448934e",
   "metadata": {
    "execution": {
     "iopub.execute_input": "2022-06-30T19:13:11.227882Z",
     "iopub.status.busy": "2022-06-30T19:13:11.227478Z",
     "iopub.status.idle": "2022-06-30T19:13:11.245697Z",
     "shell.execute_reply": "2022-06-30T19:13:11.244470Z"
    },
    "papermill": {
     "duration": 0.036716,
     "end_time": "2022-06-30T19:13:11.248249",
     "exception": false,
     "start_time": "2022-06-30T19:13:11.211533",
     "status": "completed"
    },
    "tags": []
   },
   "outputs": [
    {
     "data": {
      "text/html": [
       "<div>\n",
       "<style scoped>\n",
       "    .dataframe tbody tr th:only-of-type {\n",
       "        vertical-align: middle;\n",
       "    }\n",
       "\n",
       "    .dataframe tbody tr th {\n",
       "        vertical-align: top;\n",
       "    }\n",
       "\n",
       "    .dataframe thead th {\n",
       "        text-align: right;\n",
       "    }\n",
       "</style>\n",
       "<table border=\"1\" class=\"dataframe\">\n",
       "  <thead>\n",
       "    <tr style=\"text-align: right;\">\n",
       "      <th></th>\n",
       "      <th>column</th>\n",
       "      <th>p-value</th>\n",
       "    </tr>\n",
       "  </thead>\n",
       "  <tbody>\n",
       "    <tr>\n",
       "      <th>0</th>\n",
       "      <td>age</td>\n",
       "      <td>2.856593e-222</td>\n",
       "    </tr>\n",
       "    <tr>\n",
       "      <th>4</th>\n",
       "      <td>character</td>\n",
       "      <td>2.261615e-132</td>\n",
       "    </tr>\n",
       "    <tr>\n",
       "      <th>3</th>\n",
       "      <td>location</td>\n",
       "      <td>3.076542e-122</td>\n",
       "    </tr>\n",
       "    <tr>\n",
       "      <th>5</th>\n",
       "      <td>intensity</td>\n",
       "      <td>1.919289e-101</td>\n",
       "    </tr>\n",
       "    <tr>\n",
       "      <th>10</th>\n",
       "      <td>visual</td>\n",
       "      <td>2.698760e-76</td>\n",
       "    </tr>\n",
       "    <tr>\n",
       "      <th>8</th>\n",
       "      <td>phonophobia</td>\n",
       "      <td>4.963241e-42</td>\n",
       "    </tr>\n",
       "    <tr>\n",
       "      <th>9</th>\n",
       "      <td>photophobia</td>\n",
       "      <td>5.003330e-37</td>\n",
       "    </tr>\n",
       "    <tr>\n",
       "      <th>14</th>\n",
       "      <td>vertigo</td>\n",
       "      <td>9.393514e-33</td>\n",
       "    </tr>\n",
       "    <tr>\n",
       "      <th>18</th>\n",
       "      <td>defect</td>\n",
       "      <td>1.828978e-25</td>\n",
       "    </tr>\n",
       "    <tr>\n",
       "      <th>16</th>\n",
       "      <td>hypoacusis</td>\n",
       "      <td>1.828978e-25</td>\n",
       "    </tr>\n",
       "    <tr>\n",
       "      <th>12</th>\n",
       "      <td>dysphasia</td>\n",
       "      <td>5.614902e-22</td>\n",
       "    </tr>\n",
       "    <tr>\n",
       "      <th>15</th>\n",
       "      <td>tinnitus</td>\n",
       "      <td>1.306504e-18</td>\n",
       "    </tr>\n",
       "    <tr>\n",
       "      <th>6</th>\n",
       "      <td>nausea</td>\n",
       "      <td>3.434389e-14</td>\n",
       "    </tr>\n",
       "    <tr>\n",
       "      <th>2</th>\n",
       "      <td>frequency</td>\n",
       "      <td>8.964760e-13</td>\n",
       "    </tr>\n",
       "    <tr>\n",
       "      <th>22</th>\n",
       "      <td>dpf</td>\n",
       "      <td>4.777667e-12</td>\n",
       "    </tr>\n",
       "    <tr>\n",
       "      <th>21</th>\n",
       "      <td>paresthesia</td>\n",
       "      <td>6.439097e-12</td>\n",
       "    </tr>\n",
       "    <tr>\n",
       "      <th>20</th>\n",
       "      <td>conscience</td>\n",
       "      <td>5.841182e-10</td>\n",
       "    </tr>\n",
       "    <tr>\n",
       "      <th>17</th>\n",
       "      <td>diplopia</td>\n",
       "      <td>1.363215e-07</td>\n",
       "    </tr>\n",
       "    <tr>\n",
       "      <th>11</th>\n",
       "      <td>sensory</td>\n",
       "      <td>1.364640e-05</td>\n",
       "    </tr>\n",
       "    <tr>\n",
       "      <th>7</th>\n",
       "      <td>vomit</td>\n",
       "      <td>1.513694e-05</td>\n",
       "    </tr>\n",
       "    <tr>\n",
       "      <th>1</th>\n",
       "      <td>duration</td>\n",
       "      <td>9.632495e-05</td>\n",
       "    </tr>\n",
       "    <tr>\n",
       "      <th>13</th>\n",
       "      <td>dysarthria</td>\n",
       "      <td>1.097969e-04</td>\n",
       "    </tr>\n",
       "    <tr>\n",
       "      <th>19</th>\n",
       "      <td>ataxia</td>\n",
       "      <td>1.000000e+00</td>\n",
       "    </tr>\n",
       "  </tbody>\n",
       "</table>\n",
       "</div>"
      ],
      "text/plain": [
       "         column        p-value\n",
       "0           age  2.856593e-222\n",
       "4     character  2.261615e-132\n",
       "3      location  3.076542e-122\n",
       "5     intensity  1.919289e-101\n",
       "10       visual   2.698760e-76\n",
       "8   phonophobia   4.963241e-42\n",
       "9   photophobia   5.003330e-37\n",
       "14      vertigo   9.393514e-33\n",
       "18       defect   1.828978e-25\n",
       "16   hypoacusis   1.828978e-25\n",
       "12    dysphasia   5.614902e-22\n",
       "15     tinnitus   1.306504e-18\n",
       "6        nausea   3.434389e-14\n",
       "2     frequency   8.964760e-13\n",
       "22          dpf   4.777667e-12\n",
       "21  paresthesia   6.439097e-12\n",
       "20   conscience   5.841182e-10\n",
       "17     diplopia   1.363215e-07\n",
       "11      sensory   1.364640e-05\n",
       "7         vomit   1.513694e-05\n",
       "1      duration   9.632495e-05\n",
       "13   dysarthria   1.097969e-04\n",
       "19       ataxia   1.000000e+00"
      ]
     },
     "execution_count": 14,
     "metadata": {},
     "output_type": "execute_result"
    }
   ],
   "source": [
    "# Every feature except for ataxia is meaningful / has some impact on our target value\n",
    "\n",
    "results.sort_values(by=['p-value'], ascending=True)"
   ]
  },
  {
   "cell_type": "markdown",
   "id": "d08ab813",
   "metadata": {
    "papermill": {
     "duration": 0.01443,
     "end_time": "2022-06-30T19:13:11.277355",
     "exception": false,
     "start_time": "2022-06-30T19:13:11.262925",
     "status": "completed"
    },
    "tags": []
   },
   "source": [
    "**Clean and Transform Data**"
   ]
  },
  {
   "cell_type": "markdown",
   "id": "f6d6ae6e",
   "metadata": {
    "papermill": {
     "duration": 0.014418,
     "end_time": "2022-06-30T19:13:11.306618",
     "exception": false,
     "start_time": "2022-06-30T19:13:11.292200",
     "status": "completed"
    },
    "tags": []
   },
   "source": [
    "There are no missing values - no cleaning\n",
    "\n",
    "All features are categorical (numerically encoded) - no cleaning\n",
    "\n",
    "Age is right skewed - apply log transform\n",
    "\n",
    "Data is unbalanced, so we will need to resample"
   ]
  },
  {
   "cell_type": "code",
   "execution_count": 15,
   "id": "bd0a16e2",
   "metadata": {
    "execution": {
     "iopub.execute_input": "2022-06-30T19:13:11.338250Z",
     "iopub.status.busy": "2022-06-30T19:13:11.337457Z",
     "iopub.status.idle": "2022-06-30T19:13:11.342644Z",
     "shell.execute_reply": "2022-06-30T19:13:11.341861Z"
    },
    "papermill": {
     "duration": 0.023633,
     "end_time": "2022-06-30T19:13:11.344900",
     "exception": false,
     "start_time": "2022-06-30T19:13:11.321267",
     "status": "completed"
    },
    "tags": []
   },
   "outputs": [],
   "source": [
    "from sklearn.utils import resample, shuffle"
   ]
  },
  {
   "cell_type": "code",
   "execution_count": 16,
   "id": "b58f3a70",
   "metadata": {
    "execution": {
     "iopub.execute_input": "2022-06-30T19:13:11.376334Z",
     "iopub.status.busy": "2022-06-30T19:13:11.375537Z",
     "iopub.status.idle": "2022-06-30T19:13:11.384439Z",
     "shell.execute_reply": "2022-06-30T19:13:11.383637Z"
    },
    "papermill": {
     "duration": 0.027424,
     "end_time": "2022-06-30T19:13:11.386837",
     "exception": false,
     "start_time": "2022-06-30T19:13:11.359413",
     "status": "completed"
    },
    "tags": []
   },
   "outputs": [],
   "source": [
    "def upsample_minorities(data, target_feature):\n",
    "    majority = data[target_feature].value_counts().reset_index()['index'][0]\n",
    "    minorities = data[target_feature].value_counts().reset_index()['index'][1:].values\n",
    "    \n",
    "    majority_df = data[data[target_feature]==majority]\n",
    "    \n",
    "    upsampled_dfs = []\n",
    "    upsampled_dfs.append(majority_df)\n",
    "    \n",
    "    for minority in minorities:\n",
    "        \n",
    "        minority_df = data[data[target_feature]==minority]\n",
    "        \n",
    "        minority_upsampled = resample(minority_df,\n",
    "                          replace=True, # sample with replacement\n",
    "                          n_samples=len(majority_df), # match number in majority class\n",
    "                          random_state=42) \n",
    "        \n",
    "        upsampled_dfs.append(minority_upsampled)\n",
    "        \n",
    "    ret = pd.concat(upsampled_dfs)\n",
    "    ret = shuffle(ret).reset_index(drop=True)\n",
    "    \n",
    "    return ret\n",
    "        \n",
    "        \n",
    "    "
   ]
  },
  {
   "cell_type": "code",
   "execution_count": 17,
   "id": "0a49221e",
   "metadata": {
    "execution": {
     "iopub.execute_input": "2022-06-30T19:13:11.418422Z",
     "iopub.status.busy": "2022-06-30T19:13:11.417667Z",
     "iopub.status.idle": "2022-06-30T19:13:11.423530Z",
     "shell.execute_reply": "2022-06-30T19:13:11.422748Z"
    },
    "papermill": {
     "duration": 0.024499,
     "end_time": "2022-06-30T19:13:11.425852",
     "exception": false,
     "start_time": "2022-06-30T19:13:11.401353",
     "status": "completed"
    },
    "tags": []
   },
   "outputs": [],
   "source": [
    "# transform age to log_age\n",
    "data['age'] = np.log(data['age'])"
   ]
  },
  {
   "cell_type": "code",
   "execution_count": 18,
   "id": "057e5934",
   "metadata": {
    "execution": {
     "iopub.execute_input": "2022-06-30T19:13:11.457288Z",
     "iopub.status.busy": "2022-06-30T19:13:11.456605Z",
     "iopub.status.idle": "2022-06-30T19:13:11.678443Z",
     "shell.execute_reply": "2022-06-30T19:13:11.676997Z"
    },
    "papermill": {
     "duration": 0.240684,
     "end_time": "2022-06-30T19:13:11.681100",
     "exception": false,
     "start_time": "2022-06-30T19:13:11.440416",
     "status": "completed"
    },
    "tags": []
   },
   "outputs": [
    {
     "name": "stdout",
     "output_type": "stream",
     "text": [
      "skewness has been mitigated\n"
     ]
    },
    {
     "data": {
      "image/png": "[encoded data removed]",
      "text/plain": [
       "<Figure size 432x288 with 1 Axes>"
      ]
     },
     "metadata": {
      "needs_background": "light"
     },
     "output_type": "display_data"
    }
   ],
   "source": [
    "ax = sns.histplot(data['age'])\n",
    "\n",
    "print(\"skewness has been mitigated\")"
   ]
  },
  {
   "cell_type": "markdown",
   "id": "fce39810",
   "metadata": {
    "papermill": {
     "duration": 0.014925,
     "end_time": "2022-06-30T19:13:11.711222",
     "exception": false,
     "start_time": "2022-06-30T19:13:11.696297",
     "status": "completed"
    },
    "tags": []
   },
   "source": [
    "**One Hot Encode Categorical**"
   ]
  },
  {
   "cell_type": "code",
   "execution_count": 19,
   "id": "3dd09429",
   "metadata": {
    "execution": {
     "iopub.execute_input": "2022-06-30T19:13:11.743322Z",
     "iopub.status.busy": "2022-06-30T19:13:11.742921Z",
     "iopub.status.idle": "2022-06-30T19:13:11.777627Z",
     "shell.execute_reply": "2022-06-30T19:13:11.776026Z"
    },
    "papermill": {
     "duration": 0.053955,
     "end_time": "2022-06-30T19:13:11.780322",
     "exception": false,
     "start_time": "2022-06-30T19:13:11.726367",
     "status": "completed"
    },
    "tags": []
   },
   "outputs": [],
   "source": [
    "numerical_df = data[continuous_variables]\n",
    "categorical_df = data[categorical_variables]\n",
    "target = data['type_encoded']\n",
    "categorical_df = categorical_df.astype(str)\n",
    "ohe_categorical = pd.get_dummies(categorical_df)"
   ]
  },
  {
   "cell_type": "code",
   "execution_count": 20,
   "id": "8491464f",
   "metadata": {
    "execution": {
     "iopub.execute_input": "2022-06-30T19:13:11.812914Z",
     "iopub.status.busy": "2022-06-30T19:13:11.812499Z",
     "iopub.status.idle": "2022-06-30T19:13:11.819502Z",
     "shell.execute_reply": "2022-06-30T19:13:11.818766Z"
    },
    "papermill": {
     "duration": 0.026257,
     "end_time": "2022-06-30T19:13:11.821720",
     "exception": false,
     "start_time": "2022-06-30T19:13:11.795463",
     "status": "completed"
    },
    "tags": []
   },
   "outputs": [],
   "source": [
    "ohe_df = numerical_df.join(ohe_categorical)\n",
    "features = ohe_df.columns\n",
    "ohe_df['type_encoded'] = target"
   ]
  },
  {
   "cell_type": "markdown",
   "id": "91e6ae17",
   "metadata": {
    "papermill": {
     "duration": 0.014981,
     "end_time": "2022-06-30T19:13:11.852430",
     "exception": false,
     "start_time": "2022-06-30T19:13:11.837449",
     "status": "completed"
    },
    "tags": []
   },
   "source": [
    "**Testing out linear model**"
   ]
  },
  {
   "cell_type": "code",
   "execution_count": 21,
   "id": "5f82e37a",
   "metadata": {
    "execution": {
     "iopub.execute_input": "2022-06-30T19:13:11.884805Z",
     "iopub.status.busy": "2022-06-30T19:13:11.884418Z",
     "iopub.status.idle": "2022-06-30T19:13:12.204332Z",
     "shell.execute_reply": "2022-06-30T19:13:12.203083Z"
    },
    "papermill": {
     "duration": 0.339419,
     "end_time": "2022-06-30T19:13:12.207139",
     "exception": false,
     "start_time": "2022-06-30T19:13:11.867720",
     "status": "completed"
    },
    "tags": []
   },
   "outputs": [],
   "source": [
    "from sklearn.linear_model import LogisticRegression\n",
    "from sklearn.ensemble import RandomForestClassifier\n",
    "from sklearn.model_selection import train_test_split\n",
    "from sklearn.preprocessing import StandardScaler, MinMaxScaler\n",
    "from sklearn.metrics import classification_report, confusion_matrix, roc_curve"
   ]
  },
  {
   "cell_type": "code",
   "execution_count": 22,
   "id": "0c8c5323",
   "metadata": {
    "execution": {
     "iopub.execute_input": "2022-06-30T19:13:12.239750Z",
     "iopub.status.busy": "2022-06-30T19:13:12.239310Z",
     "iopub.status.idle": "2022-06-30T19:13:12.246968Z",
     "shell.execute_reply": "2022-06-30T19:13:12.246120Z"
    },
    "papermill": {
     "duration": 0.026196,
     "end_time": "2022-06-30T19:13:12.249152",
     "exception": false,
     "start_time": "2022-06-30T19:13:12.222956",
     "status": "completed"
    },
    "tags": []
   },
   "outputs": [],
   "source": [
    "shuffled = shuffle(ohe_df).reset_index()"
   ]
  },
  {
   "cell_type": "code",
   "execution_count": 23,
   "id": "be790592",
   "metadata": {
    "execution": {
     "iopub.execute_input": "2022-06-30T19:13:12.282088Z",
     "iopub.status.busy": "2022-06-30T19:13:12.281083Z",
     "iopub.status.idle": "2022-06-30T19:13:12.286502Z",
     "shell.execute_reply": "2022-06-30T19:13:12.285464Z"
    },
    "papermill": {
     "duration": 0.024136,
     "end_time": "2022-06-30T19:13:12.288818",
     "exception": false,
     "start_time": "2022-06-30T19:13:12.264682",
     "status": "completed"
    },
    "tags": []
   },
   "outputs": [],
   "source": [
    "test_threshold = int(np.floor(shuffled.shape[0] * .324))"
   ]
  },
  {
   "cell_type": "code",
   "execution_count": 24,
   "id": "fc45c8a3",
   "metadata": {
    "execution": {
     "iopub.execute_input": "2022-06-30T19:13:12.320426Z",
     "iopub.status.busy": "2022-06-30T19:13:12.320032Z",
     "iopub.status.idle": "2022-06-30T19:13:12.325547Z",
     "shell.execute_reply": "2022-06-30T19:13:12.324482Z"
    },
    "papermill": {
     "duration": 0.023881,
     "end_time": "2022-06-30T19:13:12.327734",
     "exception": false,
     "start_time": "2022-06-30T19:13:12.303853",
     "status": "completed"
    },
    "tags": []
   },
   "outputs": [],
   "source": [
    "test = shuffled.iloc[0:test_threshold, :]\n",
    "train = shuffled.iloc[test_threshold:,:]"
   ]
  },
  {
   "cell_type": "code",
   "execution_count": 25,
   "id": "e288a011",
   "metadata": {
    "execution": {
     "iopub.execute_input": "2022-06-30T19:13:12.359549Z",
     "iopub.status.busy": "2022-06-30T19:13:12.359114Z",
     "iopub.status.idle": "2022-06-30T19:13:12.380564Z",
     "shell.execute_reply": "2022-06-30T19:13:12.379232Z"
    },
    "papermill": {
     "duration": 0.040444,
     "end_time": "2022-06-30T19:13:12.383185",
     "exception": false,
     "start_time": "2022-06-30T19:13:12.342741",
     "status": "completed"
    },
    "tags": []
   },
   "outputs": [],
   "source": [
    "upsampled_train = upsample_minorities(train, \"type_encoded\")"
   ]
  },
  {
   "cell_type": "code",
   "execution_count": 26,
   "id": "588d1d8e",
   "metadata": {
    "execution": {
     "iopub.execute_input": "2022-06-30T19:13:12.415347Z",
     "iopub.status.busy": "2022-06-30T19:13:12.414953Z",
     "iopub.status.idle": "2022-06-30T19:13:12.423841Z",
     "shell.execute_reply": "2022-06-30T19:13:12.422735Z"
    },
    "papermill": {
     "duration": 0.027927,
     "end_time": "2022-06-30T19:13:12.426420",
     "exception": false,
     "start_time": "2022-06-30T19:13:12.398493",
     "status": "completed"
    },
    "tags": []
   },
   "outputs": [],
   "source": [
    "X_train = upsampled_train[features].values\n",
    "y_train = upsampled_train['type_encoded']\n",
    "\n",
    "X_test = test[features].values\n",
    "y_test = test['type_encoded']"
   ]
  },
  {
   "cell_type": "code",
   "execution_count": 27,
   "id": "2da14778",
   "metadata": {
    "execution": {
     "iopub.execute_input": "2022-06-30T19:13:12.459377Z",
     "iopub.status.busy": "2022-06-30T19:13:12.458976Z",
     "iopub.status.idle": "2022-06-30T19:13:12.466782Z",
     "shell.execute_reply": "2022-06-30T19:13:12.465649Z"
    },
    "papermill": {
     "duration": 0.026957,
     "end_time": "2022-06-30T19:13:12.469185",
     "exception": false,
     "start_time": "2022-06-30T19:13:12.442228",
     "status": "completed"
    },
    "tags": []
   },
   "outputs": [],
   "source": [
    "scaler = StandardScaler()\n",
    "scaler.fit(X_train)\n",
    "X_train_scaled = scaler.transform(X_train)\n",
    "X_test_scaled = scaler.transform(X_test)"
   ]
  },
  {
   "cell_type": "code",
   "execution_count": 28,
   "id": "59abe9cf",
   "metadata": {
    "execution": {
     "iopub.execute_input": "2022-06-30T19:13:12.500834Z",
     "iopub.status.busy": "2022-06-30T19:13:12.500438Z",
     "iopub.status.idle": "2022-06-30T19:13:12.507859Z",
     "shell.execute_reply": "2022-06-30T19:13:12.506763Z"
    },
    "papermill": {
     "duration": 0.025827,
     "end_time": "2022-06-30T19:13:12.510109",
     "exception": false,
     "start_time": "2022-06-30T19:13:12.484282",
     "status": "completed"
    },
    "tags": []
   },
   "outputs": [],
   "source": [
    "mscaler = MinMaxScaler()\n",
    "mscaler.fit(X_train_scaled)\n",
    "X_train_scaled = mscaler.transform(X_train_scaled)\n",
    "X_test_scaled = mscaler.transform(X_test_scaled)"
   ]
  },
  {
   "cell_type": "code",
   "execution_count": 29,
   "id": "f844e93a",
   "metadata": {
    "execution": {
     "iopub.execute_input": "2022-06-30T19:13:12.541767Z",
     "iopub.status.busy": "2022-06-30T19:13:12.541348Z",
     "iopub.status.idle": "2022-06-30T19:13:12.981843Z",
     "shell.execute_reply": "2022-06-30T19:13:12.980521Z"
    },
    "papermill": {
     "duration": 0.460629,
     "end_time": "2022-06-30T19:13:12.985813",
     "exception": false,
     "start_time": "2022-06-30T19:13:12.525184",
     "status": "completed"
    },
    "tags": []
   },
   "outputs": [],
   "source": [
    "model = LogisticRegression(max_iter=1000)\n",
    "model.fit(X_train_scaled, y_train)\n",
    "predictions = model.predict(X_test_scaled)\n"
   ]
  },
  {
   "cell_type": "code",
   "execution_count": 30,
   "id": "65617ce6",
   "metadata": {
    "execution": {
     "iopub.execute_input": "2022-06-30T19:13:13.043984Z",
     "iopub.status.busy": "2022-06-30T19:13:13.043348Z",
     "iopub.status.idle": "2022-06-30T19:13:13.059969Z",
     "shell.execute_reply": "2022-06-30T19:13:13.057595Z"
    },
    "papermill": {
     "duration": 0.049559,
     "end_time": "2022-06-30T19:13:13.063403",
     "exception": false,
     "start_time": "2022-06-30T19:13:13.013844",
     "status": "completed"
    },
    "tags": []
   },
   "outputs": [
    {
     "name": "stdout",
     "output_type": "stream",
     "text": [
      "              precision    recall  f1-score   support\n",
      "\n",
      "           0       0.67      0.67      0.67         6\n",
      "           1       0.55      0.67      0.60         9\n",
      "           2       0.90      1.00      0.95        18\n",
      "           3       1.00      0.75      0.86         4\n",
      "           4       0.17      0.25      0.20         4\n",
      "           5       0.96      0.90      0.93        81\n",
      "           6       1.00      1.00      1.00         7\n",
      "\n",
      "    accuracy                           0.87       129\n",
      "   macro avg       0.75      0.75      0.74       129\n",
      "weighted avg       0.89      0.87      0.88       129\n",
      "\n"
     ]
    }
   ],
   "source": [
    "print(classification_report(y_test, predictions))"
   ]
  },
  {
   "cell_type": "markdown",
   "id": "baf4da22",
   "metadata": {
    "papermill": {
     "duration": 0.018557,
     "end_time": "2022-06-30T19:13:13.110316",
     "exception": false,
     "start_time": "2022-06-30T19:13:13.091759",
     "status": "completed"
    },
    "tags": []
   },
   "source": [
    "**Random Forest**"
   ]
  },
  {
   "cell_type": "code",
   "execution_count": 31,
   "id": "7f4afa3b",
   "metadata": {
    "execution": {
     "iopub.execute_input": "2022-06-30T19:13:13.143604Z",
     "iopub.status.busy": "2022-06-30T19:13:13.142458Z",
     "iopub.status.idle": "2022-06-30T19:13:13.389235Z",
     "shell.execute_reply": "2022-06-30T19:13:13.388248Z"
    },
    "papermill": {
     "duration": 0.265709,
     "end_time": "2022-06-30T19:13:13.391804",
     "exception": false,
     "start_time": "2022-06-30T19:13:13.126095",
     "status": "completed"
    },
    "tags": []
   },
   "outputs": [],
   "source": [
    "forest = RandomForestClassifier()\n",
    "forest.fit(X_train_scaled, y_train)\n",
    "predictions = forest.predict(X_test_scaled)"
   ]
  },
  {
   "cell_type": "code",
   "execution_count": 32,
   "id": "86654af0",
   "metadata": {
    "execution": {
     "iopub.execute_input": "2022-06-30T19:13:13.424742Z",
     "iopub.status.busy": "2022-06-30T19:13:13.423681Z",
     "iopub.status.idle": "2022-06-30T19:13:13.435015Z",
     "shell.execute_reply": "2022-06-30T19:13:13.434119Z"
    },
    "papermill": {
     "duration": 0.030132,
     "end_time": "2022-06-30T19:13:13.437278",
     "exception": false,
     "start_time": "2022-06-30T19:13:13.407146",
     "status": "completed"
    },
    "tags": []
   },
   "outputs": [
    {
     "name": "stdout",
     "output_type": "stream",
     "text": [
      "              precision    recall  f1-score   support\n",
      "\n",
      "           0       0.67      0.67      0.67         6\n",
      "           1       0.56      0.56      0.56         9\n",
      "           2       0.95      1.00      0.97        18\n",
      "           3       1.00      0.75      0.86         4\n",
      "           4       0.50      0.25      0.33         4\n",
      "           5       0.94      0.96      0.95        81\n",
      "           6       1.00      1.00      1.00         7\n",
      "\n",
      "    accuracy                           0.90       129\n",
      "   macro avg       0.80      0.74      0.76       129\n",
      "weighted avg       0.89      0.90      0.89       129\n",
      "\n"
     ]
    }
   ],
   "source": [
    "print(classification_report(y_test, predictions))"
   ]
  },
  {
   "cell_type": "code",
   "execution_count": 33,
   "id": "6b96abb6",
   "metadata": {
    "execution": {
     "iopub.execute_input": "2022-06-30T19:13:13.470666Z",
     "iopub.status.busy": "2022-06-30T19:13:13.469947Z",
     "iopub.status.idle": "2022-06-30T19:13:13.487100Z",
     "shell.execute_reply": "2022-06-30T19:13:13.486237Z"
    },
    "papermill": {
     "duration": 0.036734,
     "end_time": "2022-06-30T19:13:13.489564",
     "exception": false,
     "start_time": "2022-06-30T19:13:13.452830",
     "status": "completed"
    },
    "tags": []
   },
   "outputs": [],
   "source": [
    "feat_importance = pd.DataFrame(list(zip(features, forest.feature_importances_)), columns = ['feature','importance'])\n",
    "\n",
    "feat_importance = feat_importance.sort_values(by=['importance'], ascending=False)"
   ]
  },
  {
   "cell_type": "code",
   "execution_count": 34,
   "id": "f9167433",
   "metadata": {
    "execution": {
     "iopub.execute_input": "2022-06-30T19:13:13.522264Z",
     "iopub.status.busy": "2022-06-30T19:13:13.521682Z",
     "iopub.status.idle": "2022-06-30T19:13:13.772625Z",
     "shell.execute_reply": "2022-06-30T19:13:13.771835Z"
    },
    "papermill": {
     "duration": 0.27005,
     "end_time": "2022-06-30T19:13:13.774852",
     "exception": false,
     "start_time": "2022-06-30T19:13:13.504802",
     "status": "completed"
    },
    "tags": []
   },
   "outputs": [
    {
     "data": {
      "image/png": "[encoded data removed]",
      "text/plain": [
       "<Figure size 720x360 with 1 Axes>"
      ]
     },
     "metadata": {
      "needs_background": "light"
     },
     "output_type": "display_data"
    }
   ],
   "source": [
    "plt.figure(figsize=(10,5))\n",
    "ax = sns.barplot(x='feature',y='importance', data=feat_importance.iloc[0:11, :])\n",
    "plt.xticks(rotation = 45)\n",
    "plt.show()"
   ]
  },
  {
   "cell_type": "markdown",
   "id": "b708a9b6",
   "metadata": {
    "papermill": {
     "duration": 0.015303,
     "end_time": "2022-06-30T19:13:13.806051",
     "exception": false,
     "start_time": "2022-06-30T19:13:13.790748",
     "status": "completed"
    },
    "tags": []
   },
   "source": [
    "**KNN**"
   ]
  },
  {
   "cell_type": "code",
   "execution_count": 35,
   "id": "e3122441",
   "metadata": {
    "execution": {
     "iopub.execute_input": "2022-06-30T19:13:13.839862Z",
     "iopub.status.busy": "2022-06-30T19:13:13.839235Z",
     "iopub.status.idle": "2022-06-30T19:13:13.843375Z",
     "shell.execute_reply": "2022-06-30T19:13:13.842633Z"
    },
    "papermill": {
     "duration": 0.023113,
     "end_time": "2022-06-30T19:13:13.845370",
     "exception": false,
     "start_time": "2022-06-30T19:13:13.822257",
     "status": "completed"
    },
    "tags": []
   },
   "outputs": [],
   "source": [
    "from sklearn.neighbors import KNeighborsClassifier"
   ]
  },
  {
   "cell_type": "code",
   "execution_count": 36,
   "id": "e0a40b0c",
   "metadata": {
    "execution": {
     "iopub.execute_input": "2022-06-30T19:13:13.878796Z",
     "iopub.status.busy": "2022-06-30T19:13:13.878361Z",
     "iopub.status.idle": "2022-06-30T19:13:13.900721Z",
     "shell.execute_reply": "2022-06-30T19:13:13.899329Z"
    },
    "papermill": {
     "duration": 0.0432,
     "end_time": "2022-06-30T19:13:13.904378",
     "exception": false,
     "start_time": "2022-06-30T19:13:13.861178",
     "status": "completed"
    },
    "tags": []
   },
   "outputs": [],
   "source": [
    "knn = KNeighborsClassifier(n_neighbors=1)\n",
    "knn.fit(X_train_scaled, y_train)\n",
    "\n",
    "predictions = knn.predict(X_test_scaled)"
   ]
  },
  {
   "cell_type": "code",
   "execution_count": 37,
   "id": "beffeac3",
   "metadata": {
    "execution": {
     "iopub.execute_input": "2022-06-30T19:13:13.963759Z",
     "iopub.status.busy": "2022-06-30T19:13:13.963187Z",
     "iopub.status.idle": "2022-06-30T19:13:13.977883Z",
     "shell.execute_reply": "2022-06-30T19:13:13.976765Z"
    },
    "papermill": {
     "duration": 0.048104,
     "end_time": "2022-06-30T19:13:13.981174",
     "exception": false,
     "start_time": "2022-06-30T19:13:13.933070",
     "status": "completed"
    },
    "tags": []
   },
   "outputs": [
    {
     "name": "stdout",
     "output_type": "stream",
     "text": [
      "              precision    recall  f1-score   support\n",
      "\n",
      "           0       1.00      0.17      0.29         6\n",
      "           1       0.38      0.33      0.35         9\n",
      "           2       0.89      0.94      0.92        18\n",
      "           3       1.00      0.75      0.86         4\n",
      "           4       0.33      0.25      0.29         4\n",
      "           5       0.84      0.91      0.88        81\n",
      "           6       1.00      1.00      1.00         7\n",
      "\n",
      "    accuracy                           0.82       129\n",
      "   macro avg       0.78      0.62      0.65       129\n",
      "weighted avg       0.82      0.82      0.81       129\n",
      "\n"
     ]
    }
   ],
   "source": [
    "print(classification_report(y_test, predictions))"
   ]
  },
  {
   "cell_type": "code",
   "execution_count": 38,
   "id": "e709b104",
   "metadata": {
    "execution": {
     "iopub.execute_input": "2022-06-30T19:13:14.026555Z",
     "iopub.status.busy": "2022-06-30T19:13:14.026200Z",
     "iopub.status.idle": "2022-06-30T19:13:14.624831Z",
     "shell.execute_reply": "2022-06-30T19:13:14.623488Z"
    },
    "papermill": {
     "duration": 0.619612,
     "end_time": "2022-06-30T19:13:14.628259",
     "exception": false,
     "start_time": "2022-06-30T19:13:14.008647",
     "status": "completed"
    },
    "tags": []
   },
   "outputs": [],
   "source": [
    "error_rate = []\n",
    "# Will take some time\n",
    "for i in range(1,40):\n",
    "    knn = KNeighborsClassifier(n_neighbors=i)\n",
    "    knn.fit(X_train_scaled,y_train)\n",
    "    pred_i = knn.predict(X_test_scaled)\n",
    "    error_rate.append(np.mean(pred_i != y_test))"
   ]
  },
  {
   "cell_type": "code",
   "execution_count": 39,
   "id": "e7048560",
   "metadata": {
    "execution": {
     "iopub.execute_input": "2022-06-30T19:13:14.687731Z",
     "iopub.status.busy": "2022-06-30T19:13:14.687117Z",
     "iopub.status.idle": "2022-06-30T19:13:14.895694Z",
     "shell.execute_reply": "2022-06-30T19:13:14.894492Z"
    },
    "papermill": {
     "duration": 0.241517,
     "end_time": "2022-06-30T19:13:14.898319",
     "exception": false,
     "start_time": "2022-06-30T19:13:14.656802",
     "status": "completed"
    },
    "tags": []
   },
   "outputs": [
    {
     "data": {
      "text/plain": [
       "[<matplotlib.lines.Line2D at 0x7fdc204b5a10>]"
      ]
     },
     "execution_count": 39,
     "metadata": {},
     "output_type": "execute_result"
    },
    {
     "data": {
      "image/png": "[encoded data removed]",
      "text/plain": [
       "<Figure size 432x288 with 1 Axes>"
      ]
     },
     "metadata": {
      "needs_background": "light"
     },
     "output_type": "display_data"
    }
   ],
   "source": [
    "plt.plot(list(range(1,40)), error_rate)"
   ]
  },
  {
   "cell_type": "markdown",
   "id": "3d635d78",
   "metadata": {
    "papermill": {
     "duration": 0.016086,
     "end_time": "2022-06-30T19:13:14.931182",
     "exception": false,
     "start_time": "2022-06-30T19:13:14.915096",
     "status": "completed"
    },
    "tags": []
   },
   "source": [
    "**Voting Classifier**"
   ]
  },
  {
   "cell_type": "code",
   "execution_count": 40,
   "id": "da2ad1a5",
   "metadata": {
    "execution": {
     "iopub.execute_input": "2022-06-30T19:13:14.966315Z",
     "iopub.status.busy": "2022-06-30T19:13:14.965658Z",
     "iopub.status.idle": "2022-06-30T19:13:14.970891Z",
     "shell.execute_reply": "2022-06-30T19:13:14.969833Z"
    },
    "papermill": {
     "duration": 0.025173,
     "end_time": "2022-06-30T19:13:14.973244",
     "exception": false,
     "start_time": "2022-06-30T19:13:14.948071",
     "status": "completed"
    },
    "tags": []
   },
   "outputs": [],
   "source": [
    "from sklearn.ensemble import VotingClassifier"
   ]
  },
  {
   "cell_type": "code",
   "execution_count": 41,
   "id": "61cacb12",
   "metadata": {
    "execution": {
     "iopub.execute_input": "2022-06-30T19:13:15.007843Z",
     "iopub.status.busy": "2022-06-30T19:13:15.007191Z",
     "iopub.status.idle": "2022-06-30T19:13:15.012656Z",
     "shell.execute_reply": "2022-06-30T19:13:15.011854Z"
    },
    "papermill": {
     "duration": 0.024942,
     "end_time": "2022-06-30T19:13:15.014602",
     "exception": false,
     "start_time": "2022-06-30T19:13:14.989660",
     "status": "completed"
    },
    "tags": []
   },
   "outputs": [],
   "source": [
    "clf1 = LogisticRegression(max_iter=1000)\n",
    "clf2 = RandomForestClassifier()\n",
    "clf3 = KNeighborsClassifier()\n",
    "\n",
    "estimators = [(\"logistic_regression\", clf1), (\"random_forest\", clf2), (\"knn\", clf3)]"
   ]
  },
  {
   "cell_type": "code",
   "execution_count": 42,
   "id": "8486ab8b",
   "metadata": {
    "execution": {
     "iopub.execute_input": "2022-06-30T19:13:15.048783Z",
     "iopub.status.busy": "2022-06-30T19:13:15.048350Z",
     "iopub.status.idle": "2022-06-30T19:13:15.789098Z",
     "shell.execute_reply": "2022-06-30T19:13:15.787680Z"
    },
    "papermill": {
     "duration": 0.762178,
     "end_time": "2022-06-30T19:13:15.793028",
     "exception": false,
     "start_time": "2022-06-30T19:13:15.030850",
     "status": "completed"
    },
    "tags": []
   },
   "outputs": [],
   "source": [
    "vc = VotingClassifier(estimators=estimators, voting=\"soft\")\n",
    "vc.fit(X_train_scaled, y_train)\n",
    "predictions = vc.predict(X_test_scaled)"
   ]
  },
  {
   "cell_type": "code",
   "execution_count": 43,
   "id": "7e490beb",
   "metadata": {
    "execution": {
     "iopub.execute_input": "2022-06-30T19:13:15.857478Z",
     "iopub.status.busy": "2022-06-30T19:13:15.856884Z",
     "iopub.status.idle": "2022-06-30T19:13:15.881961Z",
     "shell.execute_reply": "2022-06-30T19:13:15.879850Z"
    },
    "papermill": {
     "duration": 0.06116,
     "end_time": "2022-06-30T19:13:15.886399",
     "exception": false,
     "start_time": "2022-06-30T19:13:15.825239",
     "status": "completed"
    },
    "tags": []
   },
   "outputs": [
    {
     "name": "stdout",
     "output_type": "stream",
     "text": [
      "              precision    recall  f1-score   support\n",
      "\n",
      "           0       0.50      0.50      0.50         6\n",
      "           1       0.50      0.56      0.53         9\n",
      "           2       0.90      1.00      0.95        18\n",
      "           3       1.00      0.75      0.86         4\n",
      "           4       0.33      0.50      0.40         4\n",
      "           5       0.95      0.90      0.92        81\n",
      "           6       1.00      1.00      1.00         7\n",
      "\n",
      "    accuracy                           0.86       129\n",
      "   macro avg       0.74      0.74      0.74       129\n",
      "weighted avg       0.87      0.86      0.87       129\n",
      "\n"
     ]
    }
   ],
   "source": [
    "print(classification_report(y_test, predictions))"
   ]
  },
  {
   "cell_type": "code",
   "execution_count": null,
   "id": "1ccca1c3",
   "metadata": {
    "papermill": {
     "duration": 0.015863,
     "end_time": "2022-06-30T19:13:15.925839",
     "exception": false,
     "start_time": "2022-06-30T19:13:15.909976",
     "status": "completed"
    },
    "tags": []
   },
   "outputs": [],
   "source": []
  }
 ],
 "metadata": {
  "kernelspec": {
   "display_name": "Python 3",
   "language": "python",
   "name": "python3"
  },
  "language_info": {
   "codemirror_mode": {
    "name": "ipython",
    "version": 3
   },
   "file_extension": ".py",
   "mimetype": "text/x-python",
   "name": "python",
   "nbconvert_exporter": "python",
   "pygments_lexer": "ipython3",
   "version": "3.7.12"
  },
  "papermill": {
   "default_parameters": {},
   "duration": 18.686468,
   "end_time": "2022-06-30T19:13:16.764501",
   "environment_variables": {},
   "exception": null,
   "input_path": "__notebook__.ipynb",
   "output_path": "__notebook__.ipynb",
   "parameters": {},
   "start_time": "2022-06-30T19:12:58.078033",
   "version": "2.3.4"
  }
 },
 "nbformat": 4,
 "nbformat_minor": 5
}
