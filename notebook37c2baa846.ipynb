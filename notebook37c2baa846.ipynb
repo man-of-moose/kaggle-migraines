{
 "cells": [
  {
   "cell_type": "code",
   "execution_count": 1,
   "id": "f8a3740a",
   "metadata": {
    "_cell_guid": "b1076dfc-b9ad-4769-8c92-a6c4dae69d19",
    "_uuid": "8f2839f25d086af736a60e9eeb907d3b93b6e0e5",
    "execution": {
     "iopub.execute_input": "2022-06-30T18:20:56.914928Z",
     "iopub.status.busy": "2022-06-30T18:20:56.914438Z",
     "iopub.status.idle": "2022-06-30T18:20:56.935495Z",
     "shell.execute_reply": "2022-06-30T18:20:56.934663Z"
    },
    "papermill": {
     "duration": 0.039259,
     "end_time": "2022-06-30T18:20:56.938341",
     "exception": false,
     "start_time": "2022-06-30T18:20:56.899082",
     "status": "completed"
    },
    "tags": []
   },
   "outputs": [
    {
     "name": "stdout",
     "output_type": "stream",
     "text": [
      "/kaggle/input/migraine-classification/data.csv\n"
     ]
    }
   ],
   "source": [
    "# This Python 3 environment comes with many helpful analytics libraries installed\n",
    "# It is defined by the kaggle/python Docker image: https://github.com/kaggle/docker-python\n",
    "# For example, here's several helpful packages to load\n",
    "\n",
    "import numpy as np # linear algebra\n",
    "import pandas as pd # data processing, CSV file I/O (e.g. pd.read_csv)\n",
    "\n",
    "# Input data files are available in the read-only \"../input/\" directory\n",
    "# For example, running this (by clicking run or pressing Shift+Enter) will list all files under the input directory\n",
    "\n",
    "import os\n",
    "for dirname, _, filenames in os.walk('/kaggle/input'):\n",
    "    for filename in filenames:\n",
    "        print(os.path.join(dirname, filename))\n",
    "\n",
    "# You can write up to 20GB to the current directory (/kaggle/working/) that gets preserved as output when you create a version using \"Save & Run All\" \n",
    "# You can also write temporary files to /kaggle/temp/, but they won't be saved outside of the current session"
   ]
  },
  {
   "cell_type": "code",
   "execution_count": 2,
   "id": "ccb42eac",
   "metadata": {
    "execution": {
     "iopub.execute_input": "2022-06-30T18:20:56.964912Z",
     "iopub.status.busy": "2022-06-30T18:20:56.964508Z",
     "iopub.status.idle": "2022-06-30T18:20:58.167689Z",
     "shell.execute_reply": "2022-06-30T18:20:58.166502Z"
    },
    "papermill": {
     "duration": 1.219524,
     "end_time": "2022-06-30T18:20:58.170467",
     "exception": false,
     "start_time": "2022-06-30T18:20:56.950943",
     "status": "completed"
    },
    "tags": []
   },
   "outputs": [],
   "source": [
    "from scipy.stats import chi2_contingency\n",
    "from sklearn.preprocessing import LabelEncoder\n",
    "import seaborn as sns\n",
    "import matplotlib.pyplot as plt\n",
    "import scipy.stats as stats"
   ]
  },
  {
   "cell_type": "code",
   "execution_count": 3,
   "id": "325bd2a7",
   "metadata": {
    "execution": {
     "iopub.execute_input": "2022-06-30T18:20:58.197149Z",
     "iopub.status.busy": "2022-06-30T18:20:58.196208Z",
     "iopub.status.idle": "2022-06-30T18:20:58.212528Z",
     "shell.execute_reply": "2022-06-30T18:20:58.211349Z"
    },
    "papermill": {
     "duration": 0.0325,
     "end_time": "2022-06-30T18:20:58.215304",
     "exception": false,
     "start_time": "2022-06-30T18:20:58.182804",
     "status": "completed"
    },
    "tags": []
   },
   "outputs": [],
   "source": [
    "data = pd.read_csv(\"/kaggle/input/migraine-classification/data.csv\")"
   ]
  },
  {
   "cell_type": "code",
   "execution_count": 4,
   "id": "dfde50a6",
   "metadata": {
    "execution": {
     "iopub.execute_input": "2022-06-30T18:20:58.242508Z",
     "iopub.status.busy": "2022-06-30T18:20:58.241795Z",
     "iopub.status.idle": "2022-06-30T18:20:58.246360Z",
     "shell.execute_reply": "2022-06-30T18:20:58.245624Z"
    },
    "papermill": {
     "duration": 0.020316,
     "end_time": "2022-06-30T18:20:58.248399",
     "exception": false,
     "start_time": "2022-06-30T18:20:58.228083",
     "status": "completed"
    },
    "tags": []
   },
   "outputs": [],
   "source": [
    "data.columns = [x.lower() for x in data.columns]"
   ]
  },
  {
   "cell_type": "markdown",
   "id": "880d1c93",
   "metadata": {
    "papermill": {
     "duration": 0.012786,
     "end_time": "2022-06-30T18:20:58.273555",
     "exception": false,
     "start_time": "2022-06-30T18:20:58.260769",
     "status": "completed"
    },
    "tags": []
   },
   "source": [
    "**Visualize Target Class**"
   ]
  },
  {
   "cell_type": "code",
   "execution_count": 5,
   "id": "cea73c5f",
   "metadata": {
    "execution": {
     "iopub.execute_input": "2022-06-30T18:20:58.300111Z",
     "iopub.status.busy": "2022-06-30T18:20:58.299411Z",
     "iopub.status.idle": "2022-06-30T18:20:58.558466Z",
     "shell.execute_reply": "2022-06-30T18:20:58.557243Z"
    },
    "papermill": {
     "duration": 0.27516,
     "end_time": "2022-06-30T18:20:58.561025",
     "exception": false,
     "start_time": "2022-06-30T18:20:58.285865",
     "status": "completed"
    },
    "tags": []
   },
   "outputs": [
    {
     "data": {
      "text/plain": [
       "<AxesSubplot:>"
      ]
     },
     "execution_count": 5,
     "metadata": {},
     "output_type": "execute_result"
    },
    {
     "data": {
      "image/png": "[encoded data removed]",
      "text/plain": [
       "<Figure size 432x288 with 1 Axes>"
      ]
     },
     "metadata": {
      "needs_background": "light"
     },
     "output_type": "display_data"
    }
   ],
   "source": [
    "# class imbalance\n",
    "\n",
    "data['type'].value_counts().plot(kind=\"bar\")"
   ]
  },
  {
   "cell_type": "code",
   "execution_count": 6,
   "id": "d0b58ff9",
   "metadata": {
    "execution": {
     "iopub.execute_input": "2022-06-30T18:20:58.589338Z",
     "iopub.status.busy": "2022-06-30T18:20:58.588534Z",
     "iopub.status.idle": "2022-06-30T18:20:58.594694Z",
     "shell.execute_reply": "2022-06-30T18:20:58.593963Z"
    },
    "papermill": {
     "duration": 0.023277,
     "end_time": "2022-06-30T18:20:58.597012",
     "exception": false,
     "start_time": "2022-06-30T18:20:58.573735",
     "status": "completed"
    },
    "tags": []
   },
   "outputs": [],
   "source": [
    "le = LabelEncoder()\n",
    "data['type_encoded'] = le.fit_transform(data['type'])"
   ]
  },
  {
   "cell_type": "markdown",
   "id": "ab651082",
   "metadata": {
    "papermill": {
     "duration": 0.012667,
     "end_time": "2022-06-30T18:20:58.622202",
     "exception": false,
     "start_time": "2022-06-30T18:20:58.609535",
     "status": "completed"
    },
    "tags": []
   },
   "source": [
    "**Explore Features**"
   ]
  },
  {
   "cell_type": "code",
   "execution_count": 7,
   "id": "c731e141",
   "metadata": {
    "execution": {
     "iopub.execute_input": "2022-06-30T18:20:58.649692Z",
     "iopub.status.busy": "2022-06-30T18:20:58.649286Z",
     "iopub.status.idle": "2022-06-30T18:20:58.663447Z",
     "shell.execute_reply": "2022-06-30T18:20:58.662614Z"
    },
    "papermill": {
     "duration": 0.030727,
     "end_time": "2022-06-30T18:20:58.665545",
     "exception": false,
     "start_time": "2022-06-30T18:20:58.634818",
     "status": "completed"
    },
    "tags": []
   },
   "outputs": [
    {
     "data": {
      "text/plain": [
       "{'age': (51, dtype('int64')),\n",
       " 'duration': (3, dtype('int64')),\n",
       " 'frequency': (8, dtype('int64')),\n",
       " 'location': (3, dtype('int64')),\n",
       " 'character': (3, dtype('int64')),\n",
       " 'intensity': (4, dtype('int64')),\n",
       " 'nausea': (2, dtype('int64')),\n",
       " 'vomit': (2, dtype('int64')),\n",
       " 'phonophobia': (2, dtype('int64')),\n",
       " 'photophobia': (2, dtype('int64')),\n",
       " 'visual': (5, dtype('int64')),\n",
       " 'sensory': (3, dtype('int64')),\n",
       " 'dysphasia': (2, dtype('int64')),\n",
       " 'dysarthria': (2, dtype('int64')),\n",
       " 'vertigo': (2, dtype('int64')),\n",
       " 'tinnitus': (2, dtype('int64')),\n",
       " 'hypoacusis': (2, dtype('int64')),\n",
       " 'diplopia': (2, dtype('int64')),\n",
       " 'defect': (2, dtype('int64')),\n",
       " 'ataxia': (1, dtype('int64')),\n",
       " 'conscience': (2, dtype('int64')),\n",
       " 'paresthesia': (2, dtype('int64')),\n",
       " 'dpf': (2, dtype('int64')),\n",
       " 'type': (7, dtype('O')),\n",
       " 'type_encoded': (7, dtype('int64'))}"
      ]
     },
     "execution_count": 7,
     "metadata": {},
     "output_type": "execute_result"
    }
   ],
   "source": [
    "dictionary = {}\n",
    "cols = data.columns\n",
    "for col in cols:\n",
    "    unique = len(data[col].unique())\n",
    "    dtype = data[col].dtypes\n",
    "    \n",
    "    dictionary[col] = (unique, dtype)\n",
    "    \n",
    "dictionary"
   ]
  },
  {
   "cell_type": "code",
   "execution_count": 8,
   "id": "3ffc935b",
   "metadata": {
    "execution": {
     "iopub.execute_input": "2022-06-30T18:20:58.693988Z",
     "iopub.status.busy": "2022-06-30T18:20:58.693394Z",
     "iopub.status.idle": "2022-06-30T18:20:58.698619Z",
     "shell.execute_reply": "2022-06-30T18:20:58.697744Z"
    },
    "papermill": {
     "duration": 0.022308,
     "end_time": "2022-06-30T18:20:58.700811",
     "exception": false,
     "start_time": "2022-06-30T18:20:58.678503",
     "status": "completed"
    },
    "tags": []
   },
   "outputs": [],
   "source": [
    "# split features into continuous and categorical\n",
    "\n",
    "continuous_variables = ['age']\n",
    "categorical_variables = ['duration','frequency','location','character','intensity','nausea','vomit',\n",
    "                        'phonophobia','photophobia','visual','sensory','dysphasia','dysarthria','vertigo',\n",
    "                        'tinnitus','hypoacusis','diplopia','defect','ataxia','conscience','paresthesia',\n",
    "                        'dpf']"
   ]
  },
  {
   "cell_type": "code",
   "execution_count": 9,
   "id": "2cbb3207",
   "metadata": {
    "execution": {
     "iopub.execute_input": "2022-06-30T18:20:58.729550Z",
     "iopub.status.busy": "2022-06-30T18:20:58.728927Z",
     "iopub.status.idle": "2022-06-30T18:20:58.737687Z",
     "shell.execute_reply": "2022-06-30T18:20:58.736921Z"
    },
    "papermill": {
     "duration": 0.025955,
     "end_time": "2022-06-30T18:20:58.739944",
     "exception": false,
     "start_time": "2022-06-30T18:20:58.713989",
     "status": "completed"
    },
    "tags": []
   },
   "outputs": [
    {
     "data": {
      "text/plain": [
       "age             0\n",
       "duration        0\n",
       "frequency       0\n",
       "location        0\n",
       "character       0\n",
       "intensity       0\n",
       "nausea          0\n",
       "vomit           0\n",
       "phonophobia     0\n",
       "photophobia     0\n",
       "visual          0\n",
       "sensory         0\n",
       "dysphasia       0\n",
       "dysarthria      0\n",
       "vertigo         0\n",
       "tinnitus        0\n",
       "hypoacusis      0\n",
       "diplopia        0\n",
       "defect          0\n",
       "ataxia          0\n",
       "conscience      0\n",
       "paresthesia     0\n",
       "dpf             0\n",
       "type            0\n",
       "type_encoded    0\n",
       "dtype: int64"
      ]
     },
     "execution_count": 9,
     "metadata": {},
     "output_type": "execute_result"
    }
   ],
   "source": [
    "# check for missing values\n",
    "\n",
    "data.isna().sum()"
   ]
  },
  {
   "cell_type": "code",
   "execution_count": 10,
   "id": "0072cf77",
   "metadata": {
    "execution": {
     "iopub.execute_input": "2022-06-30T18:20:58.768123Z",
     "iopub.status.busy": "2022-06-30T18:20:58.767655Z",
     "iopub.status.idle": "2022-06-30T18:20:58.998665Z",
     "shell.execute_reply": "2022-06-30T18:20:58.997479Z"
    },
    "papermill": {
     "duration": 0.248067,
     "end_time": "2022-06-30T18:20:59.001286",
     "exception": false,
     "start_time": "2022-06-30T18:20:58.753219",
     "status": "completed"
    },
    "tags": []
   },
   "outputs": [
    {
     "data": {
      "image/png": "[encoded data removed]",
      "text/plain": [
       "<Figure size 432x288 with 1 Axes>"
      ]
     },
     "metadata": {
      "needs_background": "light"
     },
     "output_type": "display_data"
    }
   ],
   "source": [
    "ax = sns.histplot(x=data['age'])\n",
    "plt.show()"
   ]
  },
  {
   "cell_type": "markdown",
   "id": "e380ab51",
   "metadata": {
    "papermill": {
     "duration": 0.013253,
     "end_time": "2022-06-30T18:20:59.028038",
     "exception": false,
     "start_time": "2022-06-30T18:20:59.014785",
     "status": "completed"
    },
    "tags": []
   },
   "source": [
    "Only one column is numerical. Everything else is boolean or categorical.\n",
    "\n",
    "Age is right skewed and will need transformation."
   ]
  },
  {
   "cell_type": "markdown",
   "id": "0d316d73",
   "metadata": {
    "papermill": {
     "duration": 0.013576,
     "end_time": "2022-06-30T18:20:59.055414",
     "exception": false,
     "start_time": "2022-06-30T18:20:59.041838",
     "status": "completed"
    },
    "tags": []
   },
   "source": [
    "**Independence and Correlation Testing**"
   ]
  },
  {
   "cell_type": "code",
   "execution_count": 11,
   "id": "fc03d390",
   "metadata": {
    "execution": {
     "iopub.execute_input": "2022-06-30T18:20:59.083833Z",
     "iopub.status.busy": "2022-06-30T18:20:59.083422Z",
     "iopub.status.idle": "2022-06-30T18:20:59.089344Z",
     "shell.execute_reply": "2022-06-30T18:20:59.088257Z"
    },
    "papermill": {
     "duration": 0.022777,
     "end_time": "2022-06-30T18:20:59.091537",
     "exception": false,
     "start_time": "2022-06-30T18:20:59.068760",
     "status": "completed"
    },
    "tags": []
   },
   "outputs": [],
   "source": [
    "# define function that tests independence between two categorical values\n",
    "\n",
    "def check_cat_cat_ind(data, col1, col2):\n",
    "    cross_tab = pd.crosstab(data[col1],data[col2])\n",
    "    \n",
    "    stat, p, dof, expected = chi2_contingency(cross_tab)\n",
    "    \n",
    "    return p"
   ]
  },
  {
   "cell_type": "code",
   "execution_count": 12,
   "id": "519395eb",
   "metadata": {
    "execution": {
     "iopub.execute_input": "2022-06-30T18:20:59.119726Z",
     "iopub.status.busy": "2022-06-30T18:20:59.119319Z",
     "iopub.status.idle": "2022-06-30T18:20:59.124845Z",
     "shell.execute_reply": "2022-06-30T18:20:59.123726Z"
    },
    "papermill": {
     "duration": 0.022124,
     "end_time": "2022-06-30T18:20:59.127143",
     "exception": false,
     "start_time": "2022-06-30T18:20:59.105019",
     "status": "completed"
    },
    "tags": []
   },
   "outputs": [],
   "source": [
    "# define function that tests independence between categorical and continuous\n",
    "\n",
    "def check_cat_cont_ind(data, col1, col2):\n",
    "    s, p = stats.f_oneway(data['age'], data['type_encoded'])\n",
    "    \n",
    "    return p"
   ]
  },
  {
   "cell_type": "code",
   "execution_count": 13,
   "id": "6d93c70f",
   "metadata": {
    "execution": {
     "iopub.execute_input": "2022-06-30T18:20:59.156244Z",
     "iopub.status.busy": "2022-06-30T18:20:59.155202Z",
     "iopub.status.idle": "2022-06-30T18:20:59.447795Z",
     "shell.execute_reply": "2022-06-30T18:20:59.446612Z"
    },
    "papermill": {
     "duration": 0.310221,
     "end_time": "2022-06-30T18:20:59.450589",
     "exception": false,
     "start_time": "2022-06-30T18:20:59.140368",
     "status": "completed"
    },
    "tags": []
   },
   "outputs": [],
   "source": [
    "results = pd.DataFrame(columns = ['column','p-value'])\n",
    "\n",
    "for var in continuous_variables:\n",
    "    p = check_cat_cont_ind(data, var, \"type_encoded\")\n",
    "    results = results.append({'column': var, 'p-value': p}, ignore_index=True)\n",
    "    \n",
    "for var in categorical_variables:\n",
    "    p = check_cat_cat_ind(data, var, \"type_encoded\")\n",
    "    results = results.append({'column': var, 'p-value': p}, ignore_index=True)\n",
    "    "
   ]
  },
  {
   "cell_type": "code",
   "execution_count": 14,
   "id": "7da03085",
   "metadata": {
    "execution": {
     "iopub.execute_input": "2022-06-30T18:20:59.478917Z",
     "iopub.status.busy": "2022-06-30T18:20:59.478500Z",
     "iopub.status.idle": "2022-06-30T18:20:59.496440Z",
     "shell.execute_reply": "2022-06-30T18:20:59.495390Z"
    },
    "papermill": {
     "duration": 0.035391,
     "end_time": "2022-06-30T18:20:59.499242",
     "exception": false,
     "start_time": "2022-06-30T18:20:59.463851",
     "status": "completed"
    },
    "tags": []
   },
   "outputs": [
    {
     "data": {
      "text/html": [
       "<div>\n",
       "<style scoped>\n",
       "    .dataframe tbody tr th:only-of-type {\n",
       "        vertical-align: middle;\n",
       "    }\n",
       "\n",
       "    .dataframe tbody tr th {\n",
       "        vertical-align: top;\n",
       "    }\n",
       "\n",
       "    .dataframe thead th {\n",
       "        text-align: right;\n",
       "    }\n",
       "</style>\n",
       "<table border=\"1\" class=\"dataframe\">\n",
       "  <thead>\n",
       "    <tr style=\"text-align: right;\">\n",
       "      <th></th>\n",
       "      <th>column</th>\n",
       "      <th>p-value</th>\n",
       "    </tr>\n",
       "  </thead>\n",
       "  <tbody>\n",
       "    <tr>\n",
       "      <th>0</th>\n",
       "      <td>age</td>\n",
       "      <td>2.856593e-222</td>\n",
       "    </tr>\n",
       "    <tr>\n",
       "      <th>4</th>\n",
       "      <td>character</td>\n",
       "      <td>2.261615e-132</td>\n",
       "    </tr>\n",
       "    <tr>\n",
       "      <th>3</th>\n",
       "      <td>location</td>\n",
       "      <td>3.076542e-122</td>\n",
       "    </tr>\n",
       "    <tr>\n",
       "      <th>5</th>\n",
       "      <td>intensity</td>\n",
       "      <td>1.919289e-101</td>\n",
       "    </tr>\n",
       "    <tr>\n",
       "      <th>10</th>\n",
       "      <td>visual</td>\n",
       "      <td>2.698760e-76</td>\n",
       "    </tr>\n",
       "    <tr>\n",
       "      <th>8</th>\n",
       "      <td>phonophobia</td>\n",
       "      <td>4.963241e-42</td>\n",
       "    </tr>\n",
       "    <tr>\n",
       "      <th>9</th>\n",
       "      <td>photophobia</td>\n",
       "      <td>5.003330e-37</td>\n",
       "    </tr>\n",
       "    <tr>\n",
       "      <th>14</th>\n",
       "      <td>vertigo</td>\n",
       "      <td>9.393514e-33</td>\n",
       "    </tr>\n",
       "    <tr>\n",
       "      <th>18</th>\n",
       "      <td>defect</td>\n",
       "      <td>1.828978e-25</td>\n",
       "    </tr>\n",
       "    <tr>\n",
       "      <th>16</th>\n",
       "      <td>hypoacusis</td>\n",
       "      <td>1.828978e-25</td>\n",
       "    </tr>\n",
       "    <tr>\n",
       "      <th>12</th>\n",
       "      <td>dysphasia</td>\n",
       "      <td>5.614902e-22</td>\n",
       "    </tr>\n",
       "    <tr>\n",
       "      <th>15</th>\n",
       "      <td>tinnitus</td>\n",
       "      <td>1.306504e-18</td>\n",
       "    </tr>\n",
       "    <tr>\n",
       "      <th>6</th>\n",
       "      <td>nausea</td>\n",
       "      <td>3.434389e-14</td>\n",
       "    </tr>\n",
       "    <tr>\n",
       "      <th>2</th>\n",
       "      <td>frequency</td>\n",
       "      <td>8.964760e-13</td>\n",
       "    </tr>\n",
       "    <tr>\n",
       "      <th>22</th>\n",
       "      <td>dpf</td>\n",
       "      <td>4.777667e-12</td>\n",
       "    </tr>\n",
       "    <tr>\n",
       "      <th>21</th>\n",
       "      <td>paresthesia</td>\n",
       "      <td>6.439097e-12</td>\n",
       "    </tr>\n",
       "    <tr>\n",
       "      <th>20</th>\n",
       "      <td>conscience</td>\n",
       "      <td>5.841182e-10</td>\n",
       "    </tr>\n",
       "    <tr>\n",
       "      <th>17</th>\n",
       "      <td>diplopia</td>\n",
       "      <td>1.363215e-07</td>\n",
       "    </tr>\n",
       "    <tr>\n",
       "      <th>11</th>\n",
       "      <td>sensory</td>\n",
       "      <td>1.364640e-05</td>\n",
       "    </tr>\n",
       "    <tr>\n",
       "      <th>7</th>\n",
       "      <td>vomit</td>\n",
       "      <td>1.513694e-05</td>\n",
       "    </tr>\n",
       "    <tr>\n",
       "      <th>1</th>\n",
       "      <td>duration</td>\n",
       "      <td>9.632495e-05</td>\n",
       "    </tr>\n",
       "    <tr>\n",
       "      <th>13</th>\n",
       "      <td>dysarthria</td>\n",
       "      <td>1.097969e-04</td>\n",
       "    </tr>\n",
       "    <tr>\n",
       "      <th>19</th>\n",
       "      <td>ataxia</td>\n",
       "      <td>1.000000e+00</td>\n",
       "    </tr>\n",
       "  </tbody>\n",
       "</table>\n",
       "</div>"
      ],
      "text/plain": [
       "         column        p-value\n",
       "0           age  2.856593e-222\n",
       "4     character  2.261615e-132\n",
       "3      location  3.076542e-122\n",
       "5     intensity  1.919289e-101\n",
       "10       visual   2.698760e-76\n",
       "8   phonophobia   4.963241e-42\n",
       "9   photophobia   5.003330e-37\n",
       "14      vertigo   9.393514e-33\n",
       "18       defect   1.828978e-25\n",
       "16   hypoacusis   1.828978e-25\n",
       "12    dysphasia   5.614902e-22\n",
       "15     tinnitus   1.306504e-18\n",
       "6        nausea   3.434389e-14\n",
       "2     frequency   8.964760e-13\n",
       "22          dpf   4.777667e-12\n",
       "21  paresthesia   6.439097e-12\n",
       "20   conscience   5.841182e-10\n",
       "17     diplopia   1.363215e-07\n",
       "11      sensory   1.364640e-05\n",
       "7         vomit   1.513694e-05\n",
       "1      duration   9.632495e-05\n",
       "13   dysarthria   1.097969e-04\n",
       "19       ataxia   1.000000e+00"
      ]
     },
     "execution_count": 14,
     "metadata": {},
     "output_type": "execute_result"
    }
   ],
   "source": [
    "# Every feature except for ataxia is meaningful / has some impact on our target value\n",
    "\n",
    "results.sort_values(by=['p-value'], ascending=True)"
   ]
  },
  {
   "cell_type": "markdown",
   "id": "d028bef3",
   "metadata": {
    "papermill": {
     "duration": 0.013092,
     "end_time": "2022-06-30T18:20:59.525851",
     "exception": false,
     "start_time": "2022-06-30T18:20:59.512759",
     "status": "completed"
    },
    "tags": []
   },
   "source": [
    "**Clean and Transform Data**"
   ]
  },
  {
   "cell_type": "markdown",
   "id": "24a4821b",
   "metadata": {
    "papermill": {
     "duration": 0.013023,
     "end_time": "2022-06-30T18:20:59.552408",
     "exception": false,
     "start_time": "2022-06-30T18:20:59.539385",
     "status": "completed"
    },
    "tags": []
   },
   "source": [
    "There are no missing values - no cleaning\n",
    "\n",
    "All features are categorical (numerically encoded) - no cleaning\n",
    "\n",
    "Age is right skewed - apply log transform\n",
    "\n",
    "Data is unbalanced, so we will need to resample"
   ]
  },
  {
   "cell_type": "code",
   "execution_count": 15,
   "id": "b125fb92",
   "metadata": {
    "execution": {
     "iopub.execute_input": "2022-06-30T18:20:59.581075Z",
     "iopub.status.busy": "2022-06-30T18:20:59.580634Z",
     "iopub.status.idle": "2022-06-30T18:20:59.585713Z",
     "shell.execute_reply": "2022-06-30T18:20:59.584587Z"
    },
    "papermill": {
     "duration": 0.022198,
     "end_time": "2022-06-30T18:20:59.587927",
     "exception": false,
     "start_time": "2022-06-30T18:20:59.565729",
     "status": "completed"
    },
    "tags": []
   },
   "outputs": [],
   "source": [
    "from sklearn.utils import resample, shuffle"
   ]
  },
  {
   "cell_type": "code",
   "execution_count": 16,
   "id": "ba35760b",
   "metadata": {
    "execution": {
     "iopub.execute_input": "2022-06-30T18:20:59.616827Z",
     "iopub.status.busy": "2022-06-30T18:20:59.616017Z",
     "iopub.status.idle": "2022-06-30T18:20:59.625419Z",
     "shell.execute_reply": "2022-06-30T18:20:59.624516Z"
    },
    "papermill": {
     "duration": 0.026715,
     "end_time": "2022-06-30T18:20:59.627938",
     "exception": false,
     "start_time": "2022-06-30T18:20:59.601223",
     "status": "completed"
    },
    "tags": []
   },
   "outputs": [],
   "source": [
    "def upsample_minorities(data, target_feature):\n",
    "    majority = data[target_feature].value_counts().reset_index()['index'][0]\n",
    "    minorities = data[target_feature].value_counts().reset_index()['index'][1:].values\n",
    "    \n",
    "    majority_df = data[data[target_feature]==majority]\n",
    "    \n",
    "    upsampled_dfs = []\n",
    "    upsampled_dfs.append(majority_df)\n",
    "    \n",
    "    for minority in minorities:\n",
    "        \n",
    "        minority_df = data[data[target_feature]==minority]\n",
    "        \n",
    "        minority_upsampled = resample(minority_df,\n",
    "                          replace=True, # sample with replacement\n",
    "                          n_samples=len(majority_df), # match number in majority class\n",
    "                          random_state=42) \n",
    "        \n",
    "        upsampled_dfs.append(minority_upsampled)\n",
    "        \n",
    "    ret = pd.concat(upsampled_dfs)\n",
    "    ret = shuffle(ret).reset_index(drop=True)\n",
    "    \n",
    "    return ret\n",
    "        \n",
    "        \n",
    "    "
   ]
  },
  {
   "cell_type": "code",
   "execution_count": 17,
   "id": "c17d8065",
   "metadata": {
    "execution": {
     "iopub.execute_input": "2022-06-30T18:20:59.657261Z",
     "iopub.status.busy": "2022-06-30T18:20:59.656488Z",
     "iopub.status.idle": "2022-06-30T18:20:59.662195Z",
     "shell.execute_reply": "2022-06-30T18:20:59.661433Z"
    },
    "papermill": {
     "duration": 0.023085,
     "end_time": "2022-06-30T18:20:59.664394",
     "exception": false,
     "start_time": "2022-06-30T18:20:59.641309",
     "status": "completed"
    },
    "tags": []
   },
   "outputs": [],
   "source": [
    "# transform age to log_age\n",
    "data['age'] = np.log(data['age'])"
   ]
  },
  {
   "cell_type": "code",
   "execution_count": 18,
   "id": "fc79fbe3",
   "metadata": {
    "execution": {
     "iopub.execute_input": "2022-06-30T18:20:59.693253Z",
     "iopub.status.busy": "2022-06-30T18:20:59.692480Z",
     "iopub.status.idle": "2022-06-30T18:20:59.923101Z",
     "shell.execute_reply": "2022-06-30T18:20:59.921966Z"
    },
    "papermill": {
     "duration": 0.247799,
     "end_time": "2022-06-30T18:20:59.925431",
     "exception": false,
     "start_time": "2022-06-30T18:20:59.677632",
     "status": "completed"
    },
    "tags": []
   },
   "outputs": [
    {
     "name": "stdout",
     "output_type": "stream",
     "text": [
      "skewness has been mitigated\n"
     ]
    },
    {
     "data": {
      "image/png": "[encoded data removed]",
      "text/plain": [
       "<Figure size 432x288 with 1 Axes>"
      ]
     },
     "metadata": {
      "needs_background": "light"
     },
     "output_type": "display_data"
    }
   ],
   "source": [
    "ax = sns.histplot(data['age'])\n",
    "\n",
    "print(\"skewness has been mitigated\")"
   ]
  },
  {
   "cell_type": "markdown",
   "id": "2b5b1c87",
   "metadata": {
    "papermill": {
     "duration": 0.013772,
     "end_time": "2022-06-30T18:20:59.953082",
     "exception": false,
     "start_time": "2022-06-30T18:20:59.939310",
     "status": "completed"
    },
    "tags": []
   },
   "source": [
    "**Testing out linear model**"
   ]
  },
  {
   "cell_type": "code",
   "execution_count": 19,
   "id": "3616baaa",
   "metadata": {
    "execution": {
     "iopub.execute_input": "2022-06-30T18:20:59.982944Z",
     "iopub.status.busy": "2022-06-30T18:20:59.982520Z",
     "iopub.status.idle": "2022-06-30T18:21:00.240475Z",
     "shell.execute_reply": "2022-06-30T18:21:00.239283Z"
    },
    "papermill": {
     "duration": 0.276769,
     "end_time": "2022-06-30T18:21:00.243645",
     "exception": false,
     "start_time": "2022-06-30T18:20:59.966876",
     "status": "completed"
    },
    "tags": []
   },
   "outputs": [],
   "source": [
    "from sklearn.linear_model import LogisticRegression\n",
    "from sklearn.ensemble import RandomForestClassifier\n",
    "from sklearn.model_selection import train_test_split\n",
    "from sklearn.preprocessing import StandardScaler, MinMaxScaler\n",
    "from sklearn.metrics import classification_report, confusion_matrix"
   ]
  },
  {
   "cell_type": "code",
   "execution_count": 20,
   "id": "6a16cc19",
   "metadata": {
    "execution": {
     "iopub.execute_input": "2022-06-30T18:21:00.275298Z",
     "iopub.status.busy": "2022-06-30T18:21:00.274512Z",
     "iopub.status.idle": "2022-06-30T18:21:00.279002Z",
     "shell.execute_reply": "2022-06-30T18:21:00.278178Z"
    },
    "papermill": {
     "duration": 0.022052,
     "end_time": "2022-06-30T18:21:00.281211",
     "exception": false,
     "start_time": "2022-06-30T18:21:00.259159",
     "status": "completed"
    },
    "tags": []
   },
   "outputs": [],
   "source": [
    "features = continuous_variables + categorical_variables"
   ]
  },
  {
   "cell_type": "code",
   "execution_count": 21,
   "id": "6049ee49",
   "metadata": {
    "execution": {
     "iopub.execute_input": "2022-06-30T18:21:00.312194Z",
     "iopub.status.busy": "2022-06-30T18:21:00.309982Z",
     "iopub.status.idle": "2022-06-30T18:21:00.318527Z",
     "shell.execute_reply": "2022-06-30T18:21:00.317511Z"
    },
    "papermill": {
     "duration": 0.026274,
     "end_time": "2022-06-30T18:21:00.321203",
     "exception": false,
     "start_time": "2022-06-30T18:21:00.294929",
     "status": "completed"
    },
    "tags": []
   },
   "outputs": [],
   "source": [
    "shuffled = shuffle(data).reset_index()"
   ]
  },
  {
   "cell_type": "code",
   "execution_count": 22,
   "id": "ba712d5c",
   "metadata": {
    "execution": {
     "iopub.execute_input": "2022-06-30T18:21:00.352270Z",
     "iopub.status.busy": "2022-06-30T18:21:00.351472Z",
     "iopub.status.idle": "2022-06-30T18:21:00.356889Z",
     "shell.execute_reply": "2022-06-30T18:21:00.356036Z"
    },
    "papermill": {
     "duration": 0.023828,
     "end_time": "2022-06-30T18:21:00.359219",
     "exception": false,
     "start_time": "2022-06-30T18:21:00.335391",
     "status": "completed"
    },
    "tags": []
   },
   "outputs": [],
   "source": [
    "test_threshold = int(np.floor(shuffled.shape[0] * .324))"
   ]
  },
  {
   "cell_type": "code",
   "execution_count": 23,
   "id": "fbefaca0",
   "metadata": {
    "execution": {
     "iopub.execute_input": "2022-06-30T18:21:00.390020Z",
     "iopub.status.busy": "2022-06-30T18:21:00.389164Z",
     "iopub.status.idle": "2022-06-30T18:21:00.394745Z",
     "shell.execute_reply": "2022-06-30T18:21:00.394008Z"
    },
    "papermill": {
     "duration": 0.023609,
     "end_time": "2022-06-30T18:21:00.396948",
     "exception": false,
     "start_time": "2022-06-30T18:21:00.373339",
     "status": "completed"
    },
    "tags": []
   },
   "outputs": [],
   "source": [
    "test = shuffled.iloc[0:test_threshold, :]\n",
    "train = shuffled.iloc[test_threshold:,:]"
   ]
  },
  {
   "cell_type": "code",
   "execution_count": 24,
   "id": "8452016c",
   "metadata": {
    "execution": {
     "iopub.execute_input": "2022-06-30T18:21:00.427385Z",
     "iopub.status.busy": "2022-06-30T18:21:00.426693Z",
     "iopub.status.idle": "2022-06-30T18:21:00.447439Z",
     "shell.execute_reply": "2022-06-30T18:21:00.446556Z"
    },
    "papermill": {
     "duration": 0.038808,
     "end_time": "2022-06-30T18:21:00.449879",
     "exception": false,
     "start_time": "2022-06-30T18:21:00.411071",
     "status": "completed"
    },
    "tags": []
   },
   "outputs": [],
   "source": [
    "upsampled_train = upsample_minorities(train, \"type_encoded\")"
   ]
  },
  {
   "cell_type": "code",
   "execution_count": 25,
   "id": "6da9af54",
   "metadata": {
    "execution": {
     "iopub.execute_input": "2022-06-30T18:21:00.479203Z",
     "iopub.status.busy": "2022-06-30T18:21:00.478809Z",
     "iopub.status.idle": "2022-06-30T18:21:00.487013Z",
     "shell.execute_reply": "2022-06-30T18:21:00.486207Z"
    },
    "papermill": {
     "duration": 0.025798,
     "end_time": "2022-06-30T18:21:00.489387",
     "exception": false,
     "start_time": "2022-06-30T18:21:00.463589",
     "status": "completed"
    },
    "tags": []
   },
   "outputs": [],
   "source": [
    "X_train = upsampled_train[features].values\n",
    "y_train = upsampled_train['type_encoded']\n",
    "\n",
    "X_test = test[features].values\n",
    "y_test = test['type_encoded']"
   ]
  },
  {
   "cell_type": "code",
   "execution_count": 26,
   "id": "a9e6e911",
   "metadata": {
    "execution": {
     "iopub.execute_input": "2022-06-30T18:21:00.520092Z",
     "iopub.status.busy": "2022-06-30T18:21:00.519295Z",
     "iopub.status.idle": "2022-06-30T18:21:00.526704Z",
     "shell.execute_reply": "2022-06-30T18:21:00.525790Z"
    },
    "papermill": {
     "duration": 0.02607,
     "end_time": "2022-06-30T18:21:00.529251",
     "exception": false,
     "start_time": "2022-06-30T18:21:00.503181",
     "status": "completed"
    },
    "tags": []
   },
   "outputs": [],
   "source": [
    "scaler = StandardScaler()\n",
    "scaler.fit(X_train)\n",
    "X_train_scaled = scaler.transform(X_train)\n",
    "X_test_scaled = scaler.transform(X_test)"
   ]
  },
  {
   "cell_type": "code",
   "execution_count": 27,
   "id": "72bff1a2",
   "metadata": {
    "execution": {
     "iopub.execute_input": "2022-06-30T18:21:00.559310Z",
     "iopub.status.busy": "2022-06-30T18:21:00.558245Z",
     "iopub.status.idle": "2022-06-30T18:21:00.564844Z",
     "shell.execute_reply": "2022-06-30T18:21:00.564052Z"
    },
    "papermill": {
     "duration": 0.023964,
     "end_time": "2022-06-30T18:21:00.567105",
     "exception": false,
     "start_time": "2022-06-30T18:21:00.543141",
     "status": "completed"
    },
    "tags": []
   },
   "outputs": [],
   "source": [
    "mscaler = MinMaxScaler()\n",
    "mscaler.fit(X_train_scaled)\n",
    "X_train_scaled = mscaler.transform(X_train_scaled)\n",
    "X_test_scaled = mscaler.transform(X_test_scaled)"
   ]
  },
  {
   "cell_type": "code",
   "execution_count": 28,
   "id": "f8e5eb38",
   "metadata": {
    "execution": {
     "iopub.execute_input": "2022-06-30T18:21:00.597538Z",
     "iopub.status.busy": "2022-06-30T18:21:00.596767Z",
     "iopub.status.idle": "2022-06-30T18:21:00.772035Z",
     "shell.execute_reply": "2022-06-30T18:21:00.770909Z"
    },
    "papermill": {
     "duration": 0.193196,
     "end_time": "2022-06-30T18:21:00.774555",
     "exception": false,
     "start_time": "2022-06-30T18:21:00.581359",
     "status": "completed"
    },
    "tags": []
   },
   "outputs": [],
   "source": [
    "model = LogisticRegression(max_iter=1000)\n",
    "model.fit(X_train_scaled, y_train)\n",
    "predictions = model.predict(X_test_scaled)\n"
   ]
  },
  {
   "cell_type": "code",
   "execution_count": 29,
   "id": "60af7237",
   "metadata": {
    "execution": {
     "iopub.execute_input": "2022-06-30T18:21:00.805763Z",
     "iopub.status.busy": "2022-06-30T18:21:00.805392Z",
     "iopub.status.idle": "2022-06-30T18:21:00.817708Z",
     "shell.execute_reply": "2022-06-30T18:21:00.816399Z"
    },
    "papermill": {
     "duration": 0.030422,
     "end_time": "2022-06-30T18:21:00.820131",
     "exception": false,
     "start_time": "2022-06-30T18:21:00.789709",
     "status": "completed"
    },
    "tags": []
   },
   "outputs": [
    {
     "name": "stdout",
     "output_type": "stream",
     "text": [
      "              precision    recall  f1-score   support\n",
      "\n",
      "           0       0.67      0.75      0.71         8\n",
      "           1       0.53      0.90      0.67        10\n",
      "           2       0.92      1.00      0.96        24\n",
      "           3       1.00      0.71      0.83         7\n",
      "           4       0.24      1.00      0.38         4\n",
      "           5       1.00      0.70      0.82        69\n",
      "           6       1.00      1.00      1.00         7\n",
      "\n",
      "    accuracy                           0.80       129\n",
      "   macro avg       0.76      0.87      0.77       129\n",
      "weighted avg       0.90      0.80      0.82       129\n",
      "\n"
     ]
    }
   ],
   "source": [
    "print(classification_report(y_test, predictions))"
   ]
  },
  {
   "cell_type": "markdown",
   "id": "b7f6f8d4",
   "metadata": {
    "papermill": {
     "duration": 0.013583,
     "end_time": "2022-06-30T18:21:00.847786",
     "exception": false,
     "start_time": "2022-06-30T18:21:00.834203",
     "status": "completed"
    },
    "tags": []
   },
   "source": [
    "**Random Forest**"
   ]
  },
  {
   "cell_type": "code",
   "execution_count": 30,
   "id": "daa67a18",
   "metadata": {
    "execution": {
     "iopub.execute_input": "2022-06-30T18:21:00.878022Z",
     "iopub.status.busy": "2022-06-30T18:21:00.876912Z",
     "iopub.status.idle": "2022-06-30T18:21:01.115864Z",
     "shell.execute_reply": "2022-06-30T18:21:01.114734Z"
    },
    "papermill": {
     "duration": 0.256779,
     "end_time": "2022-06-30T18:21:01.118517",
     "exception": false,
     "start_time": "2022-06-30T18:21:00.861738",
     "status": "completed"
    },
    "tags": []
   },
   "outputs": [],
   "source": [
    "forest = RandomForestClassifier()\n",
    "forest.fit(X_train_scaled, y_train)\n",
    "predictions = forest.predict(X_test_scaled)"
   ]
  },
  {
   "cell_type": "code",
   "execution_count": 31,
   "id": "76922df3",
   "metadata": {
    "execution": {
     "iopub.execute_input": "2022-06-30T18:21:01.148785Z",
     "iopub.status.busy": "2022-06-30T18:21:01.147535Z",
     "iopub.status.idle": "2022-06-30T18:21:01.158644Z",
     "shell.execute_reply": "2022-06-30T18:21:01.157356Z"
    },
    "papermill": {
     "duration": 0.030176,
     "end_time": "2022-06-30T18:21:01.162611",
     "exception": false,
     "start_time": "2022-06-30T18:21:01.132435",
     "status": "completed"
    },
    "tags": []
   },
   "outputs": [
    {
     "name": "stdout",
     "output_type": "stream",
     "text": [
      "              precision    recall  f1-score   support\n",
      "\n",
      "           0       0.86      0.75      0.80         8\n",
      "           1       0.70      0.70      0.70        10\n",
      "           2       0.89      1.00      0.94        24\n",
      "           3       1.00      0.71      0.83         7\n",
      "           4       0.50      0.50      0.50         4\n",
      "           5       0.96      0.96      0.96        69\n",
      "           6       1.00      1.00      1.00         7\n",
      "\n",
      "    accuracy                           0.91       129\n",
      "   macro avg       0.84      0.80      0.82       129\n",
      "weighted avg       0.91      0.91      0.91       129\n",
      "\n"
     ]
    }
   ],
   "source": [
    "print(classification_report(y_test, predictions))"
   ]
  },
  {
   "cell_type": "code",
   "execution_count": 32,
   "id": "ea0be432",
   "metadata": {
    "execution": {
     "iopub.execute_input": "2022-06-30T18:21:01.193176Z",
     "iopub.status.busy": "2022-06-30T18:21:01.192513Z",
     "iopub.status.idle": "2022-06-30T18:21:01.208940Z",
     "shell.execute_reply": "2022-06-30T18:21:01.207990Z"
    },
    "papermill": {
     "duration": 0.03421,
     "end_time": "2022-06-30T18:21:01.211447",
     "exception": false,
     "start_time": "2022-06-30T18:21:01.177237",
     "status": "completed"
    },
    "tags": []
   },
   "outputs": [],
   "source": [
    "feat_importance = pd.DataFrame(list(zip(features, forest.feature_importances_)), columns = ['feature','importance'])\n",
    "\n",
    "feat_importance = feat_importance.sort_values(by=['importance'], ascending=False)"
   ]
  },
  {
   "cell_type": "code",
   "execution_count": 33,
   "id": "af35dc49",
   "metadata": {
    "execution": {
     "iopub.execute_input": "2022-06-30T18:21:01.241797Z",
     "iopub.status.busy": "2022-06-30T18:21:01.241016Z",
     "iopub.status.idle": "2022-06-30T18:21:01.582131Z",
     "shell.execute_reply": "2022-06-30T18:21:01.581011Z"
    },
    "papermill": {
     "duration": 0.359062,
     "end_time": "2022-06-30T18:21:01.584596",
     "exception": false,
     "start_time": "2022-06-30T18:21:01.225534",
     "status": "completed"
    },
    "tags": []
   },
   "outputs": [
    {
     "data": {
      "image/png": "[encoded data removed]",
      "text/plain": [
       "<Figure size 720x360 with 1 Axes>"
      ]
     },
     "metadata": {
      "needs_background": "light"
     },
     "output_type": "display_data"
    }
   ],
   "source": [
    "plt.figure(figsize=(10,5))\n",
    "ax = sns.barplot(x='feature',y='importance', data=feat_importance)\n",
    "plt.xticks(rotation = 45)\n",
    "plt.show()"
   ]
  },
  {
   "cell_type": "markdown",
   "id": "d6a63e1f",
   "metadata": {
    "papermill": {
     "duration": 0.014265,
     "end_time": "2022-06-30T18:21:01.613571",
     "exception": false,
     "start_time": "2022-06-30T18:21:01.599306",
     "status": "completed"
    },
    "tags": []
   },
   "source": [
    "**KNN**"
   ]
  },
  {
   "cell_type": "code",
   "execution_count": 34,
   "id": "7ad31a93",
   "metadata": {
    "execution": {
     "iopub.execute_input": "2022-06-30T18:21:01.645221Z",
     "iopub.status.busy": "2022-06-30T18:21:01.644793Z",
     "iopub.status.idle": "2022-06-30T18:21:01.650095Z",
     "shell.execute_reply": "2022-06-30T18:21:01.649153Z"
    },
    "papermill": {
     "duration": 0.024042,
     "end_time": "2022-06-30T18:21:01.652377",
     "exception": false,
     "start_time": "2022-06-30T18:21:01.628335",
     "status": "completed"
    },
    "tags": []
   },
   "outputs": [],
   "source": [
    "from sklearn.neighbors import KNeighborsClassifier"
   ]
  },
  {
   "cell_type": "code",
   "execution_count": 35,
   "id": "21d1b4f0",
   "metadata": {
    "execution": {
     "iopub.execute_input": "2022-06-30T18:21:01.683259Z",
     "iopub.status.busy": "2022-06-30T18:21:01.682840Z",
     "iopub.status.idle": "2022-06-30T18:21:01.705771Z",
     "shell.execute_reply": "2022-06-30T18:21:01.704060Z"
    },
    "papermill": {
     "duration": 0.042822,
     "end_time": "2022-06-30T18:21:01.709735",
     "exception": false,
     "start_time": "2022-06-30T18:21:01.666913",
     "status": "completed"
    },
    "tags": []
   },
   "outputs": [],
   "source": [
    "knn = KNeighborsClassifier(n_neighbors=1)\n",
    "knn.fit(X_train_scaled, y_train)\n",
    "\n",
    "predictions = knn.predict(X_test_scaled)"
   ]
  },
  {
   "cell_type": "code",
   "execution_count": 36,
   "id": "b0fb0b6d",
   "metadata": {
    "execution": {
     "iopub.execute_input": "2022-06-30T18:21:01.765886Z",
     "iopub.status.busy": "2022-06-30T18:21:01.764640Z",
     "iopub.status.idle": "2022-06-30T18:21:01.779982Z",
     "shell.execute_reply": "2022-06-30T18:21:01.778836Z"
    },
    "papermill": {
     "duration": 0.047616,
     "end_time": "2022-06-30T18:21:01.783882",
     "exception": false,
     "start_time": "2022-06-30T18:21:01.736266",
     "status": "completed"
    },
    "tags": []
   },
   "outputs": [
    {
     "name": "stdout",
     "output_type": "stream",
     "text": [
      "              precision    recall  f1-score   support\n",
      "\n",
      "           0       0.83      0.62      0.71         8\n",
      "           1       0.55      0.60      0.57        10\n",
      "           2       0.86      0.75      0.80        24\n",
      "           3       0.50      0.14      0.22         7\n",
      "           4       0.40      0.50      0.44         4\n",
      "           5       0.82      0.91      0.86        69\n",
      "           6       1.00      1.00      1.00         7\n",
      "\n",
      "    accuracy                           0.79       129\n",
      "   macro avg       0.71      0.65      0.66       129\n",
      "weighted avg       0.78      0.79      0.78       129\n",
      "\n"
     ]
    }
   ],
   "source": [
    "print(classification_report(y_test, predictions))"
   ]
  },
  {
   "cell_type": "code",
   "execution_count": 37,
   "id": "b49bdd51",
   "metadata": {
    "execution": {
     "iopub.execute_input": "2022-06-30T18:21:01.828371Z",
     "iopub.status.busy": "2022-06-30T18:21:01.827921Z",
     "iopub.status.idle": "2022-06-30T18:21:02.443131Z",
     "shell.execute_reply": "2022-06-30T18:21:02.441790Z"
    },
    "papermill": {
     "duration": 0.635468,
     "end_time": "2022-06-30T18:21:02.446771",
     "exception": false,
     "start_time": "2022-06-30T18:21:01.811303",
     "status": "completed"
    },
    "tags": []
   },
   "outputs": [],
   "source": [
    "error_rate = []\n",
    "# Will take some time\n",
    "for i in range(1,40):\n",
    "    knn = KNeighborsClassifier(n_neighbors=i)\n",
    "    knn.fit(X_train_scaled,y_train)\n",
    "    pred_i = knn.predict(X_test_scaled)\n",
    "    error_rate.append(np.mean(pred_i != y_test))"
   ]
  },
  {
   "cell_type": "code",
   "execution_count": 38,
   "id": "7206cc97",
   "metadata": {
    "execution": {
     "iopub.execute_input": "2022-06-30T18:21:02.506288Z",
     "iopub.status.busy": "2022-06-30T18:21:02.505647Z",
     "iopub.status.idle": "2022-06-30T18:21:02.679093Z",
     "shell.execute_reply": "2022-06-30T18:21:02.677860Z"
    },
    "papermill": {
     "duration": 0.205136,
     "end_time": "2022-06-30T18:21:02.681592",
     "exception": false,
     "start_time": "2022-06-30T18:21:02.476456",
     "status": "completed"
    },
    "tags": []
   },
   "outputs": [
    {
     "data": {
      "text/plain": [
       "[<matplotlib.lines.Line2D at 0x7f0b3d41d050>]"
      ]
     },
     "execution_count": 38,
     "metadata": {},
     "output_type": "execute_result"
    },
    {
     "data": {
      "image/png": "[encoded data removed]",
      "text/plain": [
       "<Figure size 432x288 with 1 Axes>"
      ]
     },
     "metadata": {
      "needs_background": "light"
     },
     "output_type": "display_data"
    }
   ],
   "source": [
    "plt.plot(list(range(1,40)), error_rate)"
   ]
  },
  {
   "cell_type": "code",
   "execution_count": 39,
   "id": "b20aa081",
   "metadata": {
    "execution": {
     "iopub.execute_input": "2022-06-30T18:21:02.715190Z",
     "iopub.status.busy": "2022-06-30T18:21:02.714506Z",
     "iopub.status.idle": "2022-06-30T18:21:02.725230Z",
     "shell.execute_reply": "2022-06-30T18:21:02.724155Z"
    },
    "papermill": {
     "duration": 0.031456,
     "end_time": "2022-06-30T18:21:02.728455",
     "exception": false,
     "start_time": "2022-06-30T18:21:02.696999",
     "status": "completed"
    },
    "tags": []
   },
   "outputs": [
    {
     "name": "stdout",
     "output_type": "stream",
     "text": [
      "              precision    recall  f1-score   support\n",
      "\n",
      "           0       0.83      0.62      0.71         8\n",
      "           1       0.55      0.60      0.57        10\n",
      "           2       0.86      0.75      0.80        24\n",
      "           3       0.50      0.14      0.22         7\n",
      "           4       0.40      0.50      0.44         4\n",
      "           5       0.82      0.91      0.86        69\n",
      "           6       1.00      1.00      1.00         7\n",
      "\n",
      "    accuracy                           0.79       129\n",
      "   macro avg       0.71      0.65      0.66       129\n",
      "weighted avg       0.78      0.79      0.78       129\n",
      "\n"
     ]
    }
   ],
   "source": [
    "print(classification_report(y_test, predictions))"
   ]
  },
  {
   "cell_type": "code",
   "execution_count": null,
   "id": "e9ceb97f",
   "metadata": {
    "papermill": {
     "duration": 0.015644,
     "end_time": "2022-06-30T18:21:02.759563",
     "exception": false,
     "start_time": "2022-06-30T18:21:02.743919",
     "status": "completed"
    },
    "tags": []
   },
   "outputs": [],
   "source": []
  }
 ],
 "metadata": {
  "kernelspec": {
   "display_name": "Python 3",
   "language": "python",
   "name": "python3"
  },
  "language_info": {
   "codemirror_mode": {
    "name": "ipython",
    "version": 3
   },
   "file_extension": ".py",
   "mimetype": "text/x-python",
   "name": "python",
   "nbconvert_exporter": "python",
   "pygments_lexer": "ipython3",
   "version": "3.7.12"
  },
  "papermill": {
   "default_parameters": {},
   "duration": 16.380055,
   "end_time": "2022-06-30T18:21:03.598192",
   "environment_variables": {},
   "exception": null,
   "input_path": "__notebook__.ipynb",
   "output_path": "__notebook__.ipynb",
   "parameters": {},
   "start_time": "2022-06-30T18:20:47.218137",
   "version": "2.3.4"
  }
 },
 "nbformat": 4,
 "nbformat_minor": 5
}
