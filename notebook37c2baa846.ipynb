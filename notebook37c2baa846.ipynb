{
 "cells": [
  {
   "cell_type": "code",
   "execution_count": 1,
   "id": "31133c09",
   "metadata": {
    "_cell_guid": "b1076dfc-b9ad-4769-8c92-a6c4dae69d19",
    "_uuid": "8f2839f25d086af736a60e9eeb907d3b93b6e0e5",
    "execution": {
     "iopub.execute_input": "2022-06-30T17:34:54.779481Z",
     "iopub.status.busy": "2022-06-30T17:34:54.778925Z",
     "iopub.status.idle": "2022-06-30T17:34:54.801773Z",
     "shell.execute_reply": "2022-06-30T17:34:54.800637Z"
    },
    "papermill": {
     "duration": 0.039739,
     "end_time": "2022-06-30T17:34:54.804649",
     "exception": false,
     "start_time": "2022-06-30T17:34:54.764910",
     "status": "completed"
    },
    "tags": []
   },
   "outputs": [
    {
     "name": "stdout",
     "output_type": "stream",
     "text": [
      "/kaggle/input/migraine-classification/data.csv\n"
     ]
    }
   ],
   "source": [
    "# This Python 3 environment comes with many helpful analytics libraries installed\n",
    "# It is defined by the kaggle/python Docker image: https://github.com/kaggle/docker-python\n",
    "# For example, here's several helpful packages to load\n",
    "\n",
    "import numpy as np # linear algebra\n",
    "import pandas as pd # data processing, CSV file I/O (e.g. pd.read_csv)\n",
    "\n",
    "# Input data files are available in the read-only \"../input/\" directory\n",
    "# For example, running this (by clicking run or pressing Shift+Enter) will list all files under the input directory\n",
    "\n",
    "import os\n",
    "for dirname, _, filenames in os.walk('/kaggle/input'):\n",
    "    for filename in filenames:\n",
    "        print(os.path.join(dirname, filename))\n",
    "\n",
    "# You can write up to 20GB to the current directory (/kaggle/working/) that gets preserved as output when you create a version using \"Save & Run All\" \n",
    "# You can also write temporary files to /kaggle/temp/, but they won't be saved outside of the current session"
   ]
  },
  {
   "cell_type": "code",
   "execution_count": 2,
   "id": "40b2bb7c",
   "metadata": {
    "execution": {
     "iopub.execute_input": "2022-06-30T17:34:54.827890Z",
     "iopub.status.busy": "2022-06-30T17:34:54.827404Z",
     "iopub.status.idle": "2022-06-30T17:34:56.249788Z",
     "shell.execute_reply": "2022-06-30T17:34:56.248761Z"
    },
    "papermill": {
     "duration": 1.43687,
     "end_time": "2022-06-30T17:34:56.252446",
     "exception": false,
     "start_time": "2022-06-30T17:34:54.815576",
     "status": "completed"
    },
    "tags": []
   },
   "outputs": [],
   "source": [
    "from scipy.stats import chi2_contingency\n",
    "from sklearn.preprocessing import LabelEncoder\n",
    "import seaborn as sns\n",
    "import matplotlib.pyplot as plt\n",
    "import scipy.stats as stats"
   ]
  },
  {
   "cell_type": "code",
   "execution_count": 3,
   "id": "52673e6c",
   "metadata": {
    "execution": {
     "iopub.execute_input": "2022-06-30T17:34:56.275681Z",
     "iopub.status.busy": "2022-06-30T17:34:56.275265Z",
     "iopub.status.idle": "2022-06-30T17:34:56.293327Z",
     "shell.execute_reply": "2022-06-30T17:34:56.292529Z"
    },
    "papermill": {
     "duration": 0.032433,
     "end_time": "2022-06-30T17:34:56.295771",
     "exception": false,
     "start_time": "2022-06-30T17:34:56.263338",
     "status": "completed"
    },
    "tags": []
   },
   "outputs": [],
   "source": [
    "data = pd.read_csv(\"/kaggle/input/migraine-classification/data.csv\")"
   ]
  },
  {
   "cell_type": "code",
   "execution_count": 4,
   "id": "9b9d267c",
   "metadata": {
    "execution": {
     "iopub.execute_input": "2022-06-30T17:34:56.319901Z",
     "iopub.status.busy": "2022-06-30T17:34:56.319187Z",
     "iopub.status.idle": "2022-06-30T17:34:56.324014Z",
     "shell.execute_reply": "2022-06-30T17:34:56.323013Z"
    },
    "papermill": {
     "duration": 0.019793,
     "end_time": "2022-06-30T17:34:56.326431",
     "exception": false,
     "start_time": "2022-06-30T17:34:56.306638",
     "status": "completed"
    },
    "tags": []
   },
   "outputs": [],
   "source": [
    "data.columns = [x.lower() for x in data.columns]"
   ]
  },
  {
   "cell_type": "markdown",
   "id": "a2041778",
   "metadata": {
    "papermill": {
     "duration": 0.011202,
     "end_time": "2022-06-30T17:34:56.348596",
     "exception": false,
     "start_time": "2022-06-30T17:34:56.337394",
     "status": "completed"
    },
    "tags": []
   },
   "source": [
    "**Visualize Target Class**"
   ]
  },
  {
   "cell_type": "code",
   "execution_count": 5,
   "id": "e349a035",
   "metadata": {
    "execution": {
     "iopub.execute_input": "2022-06-30T17:34:56.371948Z",
     "iopub.status.busy": "2022-06-30T17:34:56.371327Z",
     "iopub.status.idle": "2022-06-30T17:34:56.635032Z",
     "shell.execute_reply": "2022-06-30T17:34:56.633926Z"
    },
    "papermill": {
     "duration": 0.278263,
     "end_time": "2022-06-30T17:34:56.637618",
     "exception": false,
     "start_time": "2022-06-30T17:34:56.359355",
     "status": "completed"
    },
    "tags": []
   },
   "outputs": [
    {
     "data": {
      "text/plain": [
       "<AxesSubplot:>"
      ]
     },
     "execution_count": 5,
     "metadata": {},
     "output_type": "execute_result"
    },
    {
     "data": {
      "image/png": "[encoded data removed]",
      "text/plain": [
       "<Figure size 432x288 with 1 Axes>"
      ]
     },
     "metadata": {
      "needs_background": "light"
     },
     "output_type": "display_data"
    }
   ],
   "source": [
    "# class imbalance\n",
    "\n",
    "data['type'].value_counts().plot(kind=\"bar\")"
   ]
  },
  {
   "cell_type": "code",
   "execution_count": 6,
   "id": "cd8e3fd0",
   "metadata": {
    "execution": {
     "iopub.execute_input": "2022-06-30T17:34:56.661951Z",
     "iopub.status.busy": "2022-06-30T17:34:56.661554Z",
     "iopub.status.idle": "2022-06-30T17:34:56.668139Z",
     "shell.execute_reply": "2022-06-30T17:34:56.666934Z"
    },
    "papermill": {
     "duration": 0.021624,
     "end_time": "2022-06-30T17:34:56.670456",
     "exception": false,
     "start_time": "2022-06-30T17:34:56.648832",
     "status": "completed"
    },
    "tags": []
   },
   "outputs": [],
   "source": [
    "le = LabelEncoder()\n",
    "data['type_encoded'] = le.fit_transform(data['type'])"
   ]
  },
  {
   "cell_type": "markdown",
   "id": "639664ea",
   "metadata": {
    "papermill": {
     "duration": 0.010991,
     "end_time": "2022-06-30T17:34:56.692403",
     "exception": false,
     "start_time": "2022-06-30T17:34:56.681412",
     "status": "completed"
    },
    "tags": []
   },
   "source": [
    "**Explore Features**"
   ]
  },
  {
   "cell_type": "code",
   "execution_count": 7,
   "id": "ec0936a2",
   "metadata": {
    "execution": {
     "iopub.execute_input": "2022-06-30T17:34:56.717080Z",
     "iopub.status.busy": "2022-06-30T17:34:56.715974Z",
     "iopub.status.idle": "2022-06-30T17:34:56.729437Z",
     "shell.execute_reply": "2022-06-30T17:34:56.728609Z"
    },
    "papermill": {
     "duration": 0.028078,
     "end_time": "2022-06-30T17:34:56.731671",
     "exception": false,
     "start_time": "2022-06-30T17:34:56.703593",
     "status": "completed"
    },
    "tags": []
   },
   "outputs": [
    {
     "data": {
      "text/plain": [
       "{'age': (51, dtype('int64')),\n",
       " 'duration': (3, dtype('int64')),\n",
       " 'frequency': (8, dtype('int64')),\n",
       " 'location': (3, dtype('int64')),\n",
       " 'character': (3, dtype('int64')),\n",
       " 'intensity': (4, dtype('int64')),\n",
       " 'nausea': (2, dtype('int64')),\n",
       " 'vomit': (2, dtype('int64')),\n",
       " 'phonophobia': (2, dtype('int64')),\n",
       " 'photophobia': (2, dtype('int64')),\n",
       " 'visual': (5, dtype('int64')),\n",
       " 'sensory': (3, dtype('int64')),\n",
       " 'dysphasia': (2, dtype('int64')),\n",
       " 'dysarthria': (2, dtype('int64')),\n",
       " 'vertigo': (2, dtype('int64')),\n",
       " 'tinnitus': (2, dtype('int64')),\n",
       " 'hypoacusis': (2, dtype('int64')),\n",
       " 'diplopia': (2, dtype('int64')),\n",
       " 'defect': (2, dtype('int64')),\n",
       " 'ataxia': (1, dtype('int64')),\n",
       " 'conscience': (2, dtype('int64')),\n",
       " 'paresthesia': (2, dtype('int64')),\n",
       " 'dpf': (2, dtype('int64')),\n",
       " 'type': (7, dtype('O')),\n",
       " 'type_encoded': (7, dtype('int64'))}"
      ]
     },
     "execution_count": 7,
     "metadata": {},
     "output_type": "execute_result"
    }
   ],
   "source": [
    "dictionary = {}\n",
    "cols = data.columns\n",
    "for col in cols:\n",
    "    unique = len(data[col].unique())\n",
    "    dtype = data[col].dtypes\n",
    "    \n",
    "    dictionary[col] = (unique, dtype)\n",
    "    \n",
    "dictionary"
   ]
  },
  {
   "cell_type": "code",
   "execution_count": 8,
   "id": "b226d9e4",
   "metadata": {
    "execution": {
     "iopub.execute_input": "2022-06-30T17:34:56.756364Z",
     "iopub.status.busy": "2022-06-30T17:34:56.755353Z",
     "iopub.status.idle": "2022-06-30T17:34:56.761949Z",
     "shell.execute_reply": "2022-06-30T17:34:56.760914Z"
    },
    "papermill": {
     "duration": 0.021012,
     "end_time": "2022-06-30T17:34:56.764012",
     "exception": false,
     "start_time": "2022-06-30T17:34:56.743000",
     "status": "completed"
    },
    "tags": []
   },
   "outputs": [],
   "source": [
    "# split features into continuous and categorical\n",
    "\n",
    "continuous_variables = ['age']\n",
    "categorical_variables = ['duration','frequency','location','character','intensity','nausea','vomit',\n",
    "                        'phonophobia','photophobia','visual','sensory','dysphasia','dysarthria','vertigo',\n",
    "                        'tinnitus','hypoacusis','diplopia','defect','ataxia','conscience','paresthesia',\n",
    "                        'dpf']"
   ]
  },
  {
   "cell_type": "code",
   "execution_count": 9,
   "id": "a2826fb9",
   "metadata": {
    "execution": {
     "iopub.execute_input": "2022-06-30T17:34:56.787889Z",
     "iopub.status.busy": "2022-06-30T17:34:56.787479Z",
     "iopub.status.idle": "2022-06-30T17:34:56.796336Z",
     "shell.execute_reply": "2022-06-30T17:34:56.795607Z"
    },
    "papermill": {
     "duration": 0.023255,
     "end_time": "2022-06-30T17:34:56.798357",
     "exception": false,
     "start_time": "2022-06-30T17:34:56.775102",
     "status": "completed"
    },
    "tags": []
   },
   "outputs": [
    {
     "data": {
      "text/plain": [
       "age             0\n",
       "duration        0\n",
       "frequency       0\n",
       "location        0\n",
       "character       0\n",
       "intensity       0\n",
       "nausea          0\n",
       "vomit           0\n",
       "phonophobia     0\n",
       "photophobia     0\n",
       "visual          0\n",
       "sensory         0\n",
       "dysphasia       0\n",
       "dysarthria      0\n",
       "vertigo         0\n",
       "tinnitus        0\n",
       "hypoacusis      0\n",
       "diplopia        0\n",
       "defect          0\n",
       "ataxia          0\n",
       "conscience      0\n",
       "paresthesia     0\n",
       "dpf             0\n",
       "type            0\n",
       "type_encoded    0\n",
       "dtype: int64"
      ]
     },
     "execution_count": 9,
     "metadata": {},
     "output_type": "execute_result"
    }
   ],
   "source": [
    "# check for missing values\n",
    "\n",
    "data.isna().sum()"
   ]
  },
  {
   "cell_type": "code",
   "execution_count": 10,
   "id": "e655128f",
   "metadata": {
    "execution": {
     "iopub.execute_input": "2022-06-30T17:34:56.823291Z",
     "iopub.status.busy": "2022-06-30T17:34:56.822606Z",
     "iopub.status.idle": "2022-06-30T17:34:57.052191Z",
     "shell.execute_reply": "2022-06-30T17:34:57.050851Z"
    },
    "papermill": {
     "duration": 0.245137,
     "end_time": "2022-06-30T17:34:57.054856",
     "exception": false,
     "start_time": "2022-06-30T17:34:56.809719",
     "status": "completed"
    },
    "tags": []
   },
   "outputs": [
    {
     "data": {
      "image/png": "[encoded data removed]",
      "text/plain": [
       "<Figure size 432x288 with 1 Axes>"
      ]
     },
     "metadata": {
      "needs_background": "light"
     },
     "output_type": "display_data"
    }
   ],
   "source": [
    "ax = sns.histplot(x=data['age'])\n",
    "plt.show()"
   ]
  },
  {
   "cell_type": "markdown",
   "id": "55176907",
   "metadata": {
    "papermill": {
     "duration": 0.011454,
     "end_time": "2022-06-30T17:34:57.078778",
     "exception": false,
     "start_time": "2022-06-30T17:34:57.067324",
     "status": "completed"
    },
    "tags": []
   },
   "source": [
    "Only one column is numerical. Everything else is boolean or categorical.\n",
    "\n",
    "Age is right skewed and will need transformation."
   ]
  },
  {
   "cell_type": "markdown",
   "id": "987099fa",
   "metadata": {
    "papermill": {
     "duration": 0.011771,
     "end_time": "2022-06-30T17:34:57.102115",
     "exception": false,
     "start_time": "2022-06-30T17:34:57.090344",
     "status": "completed"
    },
    "tags": []
   },
   "source": [
    "**Independence and Correlation Testing**"
   ]
  },
  {
   "cell_type": "code",
   "execution_count": 11,
   "id": "ba3846a1",
   "metadata": {
    "execution": {
     "iopub.execute_input": "2022-06-30T17:34:57.127696Z",
     "iopub.status.busy": "2022-06-30T17:34:57.126996Z",
     "iopub.status.idle": "2022-06-30T17:34:57.132036Z",
     "shell.execute_reply": "2022-06-30T17:34:57.131256Z"
    },
    "papermill": {
     "duration": 0.020031,
     "end_time": "2022-06-30T17:34:57.134036",
     "exception": false,
     "start_time": "2022-06-30T17:34:57.114005",
     "status": "completed"
    },
    "tags": []
   },
   "outputs": [],
   "source": [
    "# define function that tests independence between two categorical values\n",
    "\n",
    "def check_cat_cat_ind(data, col1, col2):\n",
    "    cross_tab = pd.crosstab(data[col1],data[col2])\n",
    "    \n",
    "    stat, p, dof, expected = chi2_contingency(cross_tab)\n",
    "    \n",
    "    return p"
   ]
  },
  {
   "cell_type": "code",
   "execution_count": 12,
   "id": "6179d934",
   "metadata": {
    "execution": {
     "iopub.execute_input": "2022-06-30T17:34:57.159713Z",
     "iopub.status.busy": "2022-06-30T17:34:57.159280Z",
     "iopub.status.idle": "2022-06-30T17:34:57.165016Z",
     "shell.execute_reply": "2022-06-30T17:34:57.163766Z"
    },
    "papermill": {
     "duration": 0.021378,
     "end_time": "2022-06-30T17:34:57.167387",
     "exception": false,
     "start_time": "2022-06-30T17:34:57.146009",
     "status": "completed"
    },
    "tags": []
   },
   "outputs": [],
   "source": [
    "# define function that tests independence between categorical and continuous\n",
    "\n",
    "def check_cat_cont_ind(data, col1, col2):\n",
    "    s, p = stats.f_oneway(data['age'], data['type_encoded'])\n",
    "    \n",
    "    return p"
   ]
  },
  {
   "cell_type": "code",
   "execution_count": 13,
   "id": "fc5a0dea",
   "metadata": {
    "execution": {
     "iopub.execute_input": "2022-06-30T17:34:57.193447Z",
     "iopub.status.busy": "2022-06-30T17:34:57.192714Z",
     "iopub.status.idle": "2022-06-30T17:34:57.469938Z",
     "shell.execute_reply": "2022-06-30T17:34:57.468782Z"
    },
    "papermill": {
     "duration": 0.293114,
     "end_time": "2022-06-30T17:34:57.472596",
     "exception": false,
     "start_time": "2022-06-30T17:34:57.179482",
     "status": "completed"
    },
    "tags": []
   },
   "outputs": [],
   "source": [
    "results = pd.DataFrame(columns = ['column','p-value'])\n",
    "\n",
    "for var in continuous_variables:\n",
    "    p = check_cat_cont_ind(data, var, \"type_encoded\")\n",
    "    results = results.append({'column': var, 'p-value': p}, ignore_index=True)\n",
    "    \n",
    "for var in categorical_variables:\n",
    "    p = check_cat_cat_ind(data, var, \"type_encoded\")\n",
    "    results = results.append({'column': var, 'p-value': p}, ignore_index=True)\n",
    "    "
   ]
  },
  {
   "cell_type": "code",
   "execution_count": 14,
   "id": "f95328ff",
   "metadata": {
    "execution": {
     "iopub.execute_input": "2022-06-30T17:34:57.497713Z",
     "iopub.status.busy": "2022-06-30T17:34:57.497307Z",
     "iopub.status.idle": "2022-06-30T17:34:57.515776Z",
     "shell.execute_reply": "2022-06-30T17:34:57.514584Z"
    },
    "papermill": {
     "duration": 0.033764,
     "end_time": "2022-06-30T17:34:57.518051",
     "exception": false,
     "start_time": "2022-06-30T17:34:57.484287",
     "status": "completed"
    },
    "tags": []
   },
   "outputs": [
    {
     "data": {
      "text/html": [
       "<div>\n",
       "<style scoped>\n",
       "    .dataframe tbody tr th:only-of-type {\n",
       "        vertical-align: middle;\n",
       "    }\n",
       "\n",
       "    .dataframe tbody tr th {\n",
       "        vertical-align: top;\n",
       "    }\n",
       "\n",
       "    .dataframe thead th {\n",
       "        text-align: right;\n",
       "    }\n",
       "</style>\n",
       "<table border=\"1\" class=\"dataframe\">\n",
       "  <thead>\n",
       "    <tr style=\"text-align: right;\">\n",
       "      <th></th>\n",
       "      <th>column</th>\n",
       "      <th>p-value</th>\n",
       "    </tr>\n",
       "  </thead>\n",
       "  <tbody>\n",
       "    <tr>\n",
       "      <th>0</th>\n",
       "      <td>age</td>\n",
       "      <td>2.856593e-222</td>\n",
       "    </tr>\n",
       "    <tr>\n",
       "      <th>4</th>\n",
       "      <td>character</td>\n",
       "      <td>2.261615e-132</td>\n",
       "    </tr>\n",
       "    <tr>\n",
       "      <th>3</th>\n",
       "      <td>location</td>\n",
       "      <td>3.076542e-122</td>\n",
       "    </tr>\n",
       "    <tr>\n",
       "      <th>5</th>\n",
       "      <td>intensity</td>\n",
       "      <td>1.919289e-101</td>\n",
       "    </tr>\n",
       "    <tr>\n",
       "      <th>10</th>\n",
       "      <td>visual</td>\n",
       "      <td>2.698760e-76</td>\n",
       "    </tr>\n",
       "    <tr>\n",
       "      <th>8</th>\n",
       "      <td>phonophobia</td>\n",
       "      <td>4.963241e-42</td>\n",
       "    </tr>\n",
       "    <tr>\n",
       "      <th>9</th>\n",
       "      <td>photophobia</td>\n",
       "      <td>5.003330e-37</td>\n",
       "    </tr>\n",
       "    <tr>\n",
       "      <th>14</th>\n",
       "      <td>vertigo</td>\n",
       "      <td>9.393514e-33</td>\n",
       "    </tr>\n",
       "    <tr>\n",
       "      <th>18</th>\n",
       "      <td>defect</td>\n",
       "      <td>1.828978e-25</td>\n",
       "    </tr>\n",
       "    <tr>\n",
       "      <th>16</th>\n",
       "      <td>hypoacusis</td>\n",
       "      <td>1.828978e-25</td>\n",
       "    </tr>\n",
       "    <tr>\n",
       "      <th>12</th>\n",
       "      <td>dysphasia</td>\n",
       "      <td>5.614902e-22</td>\n",
       "    </tr>\n",
       "    <tr>\n",
       "      <th>15</th>\n",
       "      <td>tinnitus</td>\n",
       "      <td>1.306504e-18</td>\n",
       "    </tr>\n",
       "    <tr>\n",
       "      <th>6</th>\n",
       "      <td>nausea</td>\n",
       "      <td>3.434389e-14</td>\n",
       "    </tr>\n",
       "    <tr>\n",
       "      <th>2</th>\n",
       "      <td>frequency</td>\n",
       "      <td>8.964760e-13</td>\n",
       "    </tr>\n",
       "    <tr>\n",
       "      <th>22</th>\n",
       "      <td>dpf</td>\n",
       "      <td>4.777667e-12</td>\n",
       "    </tr>\n",
       "    <tr>\n",
       "      <th>21</th>\n",
       "      <td>paresthesia</td>\n",
       "      <td>6.439097e-12</td>\n",
       "    </tr>\n",
       "    <tr>\n",
       "      <th>20</th>\n",
       "      <td>conscience</td>\n",
       "      <td>5.841182e-10</td>\n",
       "    </tr>\n",
       "    <tr>\n",
       "      <th>17</th>\n",
       "      <td>diplopia</td>\n",
       "      <td>1.363215e-07</td>\n",
       "    </tr>\n",
       "    <tr>\n",
       "      <th>11</th>\n",
       "      <td>sensory</td>\n",
       "      <td>1.364640e-05</td>\n",
       "    </tr>\n",
       "    <tr>\n",
       "      <th>7</th>\n",
       "      <td>vomit</td>\n",
       "      <td>1.513694e-05</td>\n",
       "    </tr>\n",
       "    <tr>\n",
       "      <th>1</th>\n",
       "      <td>duration</td>\n",
       "      <td>9.632495e-05</td>\n",
       "    </tr>\n",
       "    <tr>\n",
       "      <th>13</th>\n",
       "      <td>dysarthria</td>\n",
       "      <td>1.097969e-04</td>\n",
       "    </tr>\n",
       "    <tr>\n",
       "      <th>19</th>\n",
       "      <td>ataxia</td>\n",
       "      <td>1.000000e+00</td>\n",
       "    </tr>\n",
       "  </tbody>\n",
       "</table>\n",
       "</div>"
      ],
      "text/plain": [
       "         column        p-value\n",
       "0           age  2.856593e-222\n",
       "4     character  2.261615e-132\n",
       "3      location  3.076542e-122\n",
       "5     intensity  1.919289e-101\n",
       "10       visual   2.698760e-76\n",
       "8   phonophobia   4.963241e-42\n",
       "9   photophobia   5.003330e-37\n",
       "14      vertigo   9.393514e-33\n",
       "18       defect   1.828978e-25\n",
       "16   hypoacusis   1.828978e-25\n",
       "12    dysphasia   5.614902e-22\n",
       "15     tinnitus   1.306504e-18\n",
       "6        nausea   3.434389e-14\n",
       "2     frequency   8.964760e-13\n",
       "22          dpf   4.777667e-12\n",
       "21  paresthesia   6.439097e-12\n",
       "20   conscience   5.841182e-10\n",
       "17     diplopia   1.363215e-07\n",
       "11      sensory   1.364640e-05\n",
       "7         vomit   1.513694e-05\n",
       "1      duration   9.632495e-05\n",
       "13   dysarthria   1.097969e-04\n",
       "19       ataxia   1.000000e+00"
      ]
     },
     "execution_count": 14,
     "metadata": {},
     "output_type": "execute_result"
    }
   ],
   "source": [
    "# Every feature except for ataxia is meaningful / has some impact on our target value\n",
    "\n",
    "results.sort_values(by=['p-value'], ascending=True)"
   ]
  },
  {
   "cell_type": "markdown",
   "id": "1fd4f1ff",
   "metadata": {
    "papermill": {
     "duration": 0.011661,
     "end_time": "2022-06-30T17:34:57.541785",
     "exception": false,
     "start_time": "2022-06-30T17:34:57.530124",
     "status": "completed"
    },
    "tags": []
   },
   "source": [
    "**Clean and Transform Data**"
   ]
  },
  {
   "cell_type": "markdown",
   "id": "ad972d6f",
   "metadata": {
    "papermill": {
     "duration": 0.011702,
     "end_time": "2022-06-30T17:34:57.565462",
     "exception": false,
     "start_time": "2022-06-30T17:34:57.553760",
     "status": "completed"
    },
    "tags": []
   },
   "source": [
    "There are no missing values - no cleaning\n",
    "\n",
    "All features are categorical (numerically encoded) - no cleaning\n",
    "\n",
    "Age is right skewed - apply log transform\n",
    "\n",
    "Data is unbalanced, so we will need to resample"
   ]
  },
  {
   "cell_type": "code",
   "execution_count": 15,
   "id": "dc7c5cb9",
   "metadata": {
    "execution": {
     "iopub.execute_input": "2022-06-30T17:34:57.591731Z",
     "iopub.status.busy": "2022-06-30T17:34:57.590649Z",
     "iopub.status.idle": "2022-06-30T17:34:57.597299Z",
     "shell.execute_reply": "2022-06-30T17:34:57.596490Z"
    },
    "papermill": {
     "duration": 0.022141,
     "end_time": "2022-06-30T17:34:57.599592",
     "exception": false,
     "start_time": "2022-06-30T17:34:57.577451",
     "status": "completed"
    },
    "tags": []
   },
   "outputs": [],
   "source": [
    "from sklearn.utils import resample, shuffle"
   ]
  },
  {
   "cell_type": "code",
   "execution_count": 16,
   "id": "3a17305c",
   "metadata": {
    "execution": {
     "iopub.execute_input": "2022-06-30T17:34:57.625800Z",
     "iopub.status.busy": "2022-06-30T17:34:57.625397Z",
     "iopub.status.idle": "2022-06-30T17:34:57.634943Z",
     "shell.execute_reply": "2022-06-30T17:34:57.633866Z"
    },
    "papermill": {
     "duration": 0.025604,
     "end_time": "2022-06-30T17:34:57.637213",
     "exception": false,
     "start_time": "2022-06-30T17:34:57.611609",
     "status": "completed"
    },
    "tags": []
   },
   "outputs": [],
   "source": [
    "def upsample_minorities(data, target_feature):\n",
    "    majority = data[target_feature].value_counts().reset_index()['index'][0]\n",
    "    minorities = data[target_feature].value_counts().reset_index()['index'][1:].values\n",
    "    \n",
    "    majority_df = data[data[target_feature]==majority]\n",
    "    \n",
    "    upsampled_dfs = []\n",
    "    upsampled_dfs.append(majority_df)\n",
    "    \n",
    "    for minority in minorities:\n",
    "        \n",
    "        minority_df = data[data[target_feature]==minority]\n",
    "        \n",
    "        minority_upsampled = resample(minority_df,\n",
    "                          replace=True, # sample with replacement\n",
    "                          n_samples=len(majority_df), # match number in majority class\n",
    "                          random_state=42) \n",
    "        \n",
    "        upsampled_dfs.append(minority_upsampled)\n",
    "        \n",
    "    ret = pd.concat(upsampled_dfs)\n",
    "    ret = shuffle(ret).reset_index(drop=True)\n",
    "    \n",
    "    return ret\n",
    "        \n",
    "        \n",
    "    "
   ]
  },
  {
   "cell_type": "code",
   "execution_count": 17,
   "id": "be38a16c",
   "metadata": {
    "execution": {
     "iopub.execute_input": "2022-06-30T17:34:57.663881Z",
     "iopub.status.busy": "2022-06-30T17:34:57.662145Z",
     "iopub.status.idle": "2022-06-30T17:34:57.668698Z",
     "shell.execute_reply": "2022-06-30T17:34:57.667920Z"
    },
    "papermill": {
     "duration": 0.021923,
     "end_time": "2022-06-30T17:34:57.670955",
     "exception": false,
     "start_time": "2022-06-30T17:34:57.649032",
     "status": "completed"
    },
    "tags": []
   },
   "outputs": [],
   "source": [
    "# transform age to log_age\n",
    "data['age'] = np.log(data['age'])"
   ]
  },
  {
   "cell_type": "code",
   "execution_count": 18,
   "id": "7fd85f5d",
   "metadata": {
    "execution": {
     "iopub.execute_input": "2022-06-30T17:34:57.696714Z",
     "iopub.status.busy": "2022-06-30T17:34:57.696017Z",
     "iopub.status.idle": "2022-06-30T17:34:57.917835Z",
     "shell.execute_reply": "2022-06-30T17:34:57.916621Z"
    },
    "papermill": {
     "duration": 0.237509,
     "end_time": "2022-06-30T17:34:57.920344",
     "exception": false,
     "start_time": "2022-06-30T17:34:57.682835",
     "status": "completed"
    },
    "tags": []
   },
   "outputs": [
    {
     "name": "stdout",
     "output_type": "stream",
     "text": [
      "skewness has been mitigated\n"
     ]
    },
    {
     "data": {
      "image/png": "[encoded data removed]",
      "text/plain": [
       "<Figure size 432x288 with 1 Axes>"
      ]
     },
     "metadata": {
      "needs_background": "light"
     },
     "output_type": "display_data"
    }
   ],
   "source": [
    "ax = sns.histplot(data['age'])\n",
    "\n",
    "print(\"skewness has been mitigated\")"
   ]
  },
  {
   "cell_type": "markdown",
   "id": "e3ee144d",
   "metadata": {
    "papermill": {
     "duration": 0.012053,
     "end_time": "2022-06-30T17:34:57.944583",
     "exception": false,
     "start_time": "2022-06-30T17:34:57.932530",
     "status": "completed"
    },
    "tags": []
   },
   "source": [
    "**Testing out linear model**"
   ]
  },
  {
   "cell_type": "code",
   "execution_count": 19,
   "id": "c299375a",
   "metadata": {
    "execution": {
     "iopub.execute_input": "2022-06-30T17:34:57.971816Z",
     "iopub.status.busy": "2022-06-30T17:34:57.971424Z",
     "iopub.status.idle": "2022-06-30T17:34:58.297077Z",
     "shell.execute_reply": "2022-06-30T17:34:58.295933Z"
    },
    "papermill": {
     "duration": 0.343526,
     "end_time": "2022-06-30T17:34:58.300694",
     "exception": false,
     "start_time": "2022-06-30T17:34:57.957168",
     "status": "completed"
    },
    "tags": []
   },
   "outputs": [],
   "source": [
    "from sklearn.linear_model import LogisticRegression\n",
    "from sklearn.ensemble import RandomForestClassifier\n",
    "from sklearn.model_selection import train_test_split\n",
    "from sklearn.preprocessing import StandardScaler\n",
    "from sklearn.metrics import classification_report, confusion_matrix"
   ]
  },
  {
   "cell_type": "code",
   "execution_count": 20,
   "id": "9f921777",
   "metadata": {
    "execution": {
     "iopub.execute_input": "2022-06-30T17:34:58.329828Z",
     "iopub.status.busy": "2022-06-30T17:34:58.329425Z",
     "iopub.status.idle": "2022-06-30T17:34:58.335382Z",
     "shell.execute_reply": "2022-06-30T17:34:58.333587Z"
    },
    "papermill": {
     "duration": 0.02486,
     "end_time": "2022-06-30T17:34:58.338093",
     "exception": false,
     "start_time": "2022-06-30T17:34:58.313233",
     "status": "completed"
    },
    "tags": []
   },
   "outputs": [],
   "source": [
    "features = continuous_variables + categorical_variables"
   ]
  },
  {
   "cell_type": "code",
   "execution_count": 21,
   "id": "83d8f588",
   "metadata": {
    "execution": {
     "iopub.execute_input": "2022-06-30T17:34:58.369676Z",
     "iopub.status.busy": "2022-06-30T17:34:58.368931Z",
     "iopub.status.idle": "2022-06-30T17:34:58.393908Z",
     "shell.execute_reply": "2022-06-30T17:34:58.392640Z"
    },
    "papermill": {
     "duration": 0.041305,
     "end_time": "2022-06-30T17:34:58.396682",
     "exception": false,
     "start_time": "2022-06-30T17:34:58.355377",
     "status": "completed"
    },
    "tags": []
   },
   "outputs": [],
   "source": [
    "upsampled = upsample_minorities(data, \"type_encoded\")"
   ]
  },
  {
   "cell_type": "code",
   "execution_count": 22,
   "id": "f9380b65",
   "metadata": {
    "execution": {
     "iopub.execute_input": "2022-06-30T17:34:58.423322Z",
     "iopub.status.busy": "2022-06-30T17:34:58.422831Z",
     "iopub.status.idle": "2022-06-30T17:34:58.435135Z",
     "shell.execute_reply": "2022-06-30T17:34:58.433812Z"
    },
    "papermill": {
     "duration": 0.028349,
     "end_time": "2022-06-30T17:34:58.437528",
     "exception": false,
     "start_time": "2022-06-30T17:34:58.409179",
     "status": "completed"
    },
    "tags": []
   },
   "outputs": [],
   "source": [
    "shuffled = shuffle(data).reset_index()"
   ]
  },
  {
   "cell_type": "code",
   "execution_count": 23,
   "id": "c5fa5373",
   "metadata": {
    "execution": {
     "iopub.execute_input": "2022-06-30T17:34:58.464856Z",
     "iopub.status.busy": "2022-06-30T17:34:58.463983Z",
     "iopub.status.idle": "2022-06-30T17:34:58.469342Z",
     "shell.execute_reply": "2022-06-30T17:34:58.468150Z"
    },
    "papermill": {
     "duration": 0.022181,
     "end_time": "2022-06-30T17:34:58.472391",
     "exception": false,
     "start_time": "2022-06-30T17:34:58.450210",
     "status": "completed"
    },
    "tags": []
   },
   "outputs": [],
   "source": [
    "test_threshold = int(np.floor(shuffled.shape[0] * .324))"
   ]
  },
  {
   "cell_type": "code",
   "execution_count": 24,
   "id": "b524a9d9",
   "metadata": {
    "execution": {
     "iopub.execute_input": "2022-06-30T17:34:58.512204Z",
     "iopub.status.busy": "2022-06-30T17:34:58.511442Z",
     "iopub.status.idle": "2022-06-30T17:34:58.517787Z",
     "shell.execute_reply": "2022-06-30T17:34:58.516526Z"
    },
    "papermill": {
     "duration": 0.028963,
     "end_time": "2022-06-30T17:34:58.520371",
     "exception": false,
     "start_time": "2022-06-30T17:34:58.491408",
     "status": "completed"
    },
    "tags": []
   },
   "outputs": [],
   "source": [
    "test = shuffled.iloc[0:test_threshold, :]\n",
    "train = shuffled.iloc[test_threshold:,:]"
   ]
  },
  {
   "cell_type": "code",
   "execution_count": 25,
   "id": "8ddd52be",
   "metadata": {
    "execution": {
     "iopub.execute_input": "2022-06-30T17:34:58.550781Z",
     "iopub.status.busy": "2022-06-30T17:34:58.550151Z",
     "iopub.status.idle": "2022-06-30T17:34:58.576066Z",
     "shell.execute_reply": "2022-06-30T17:34:58.572938Z"
    },
    "papermill": {
     "duration": 0.044978,
     "end_time": "2022-06-30T17:34:58.579687",
     "exception": false,
     "start_time": "2022-06-30T17:34:58.534709",
     "status": "completed"
    },
    "tags": []
   },
   "outputs": [],
   "source": [
    "upsampled_train = upsample_minorities(train, \"type_encoded\")"
   ]
  },
  {
   "cell_type": "code",
   "execution_count": 26,
   "id": "cb7c2ad4",
   "metadata": {
    "execution": {
     "iopub.execute_input": "2022-06-30T17:34:58.605724Z",
     "iopub.status.busy": "2022-06-30T17:34:58.605325Z",
     "iopub.status.idle": "2022-06-30T17:34:58.613895Z",
     "shell.execute_reply": "2022-06-30T17:34:58.612981Z"
    },
    "papermill": {
     "duration": 0.024063,
     "end_time": "2022-06-30T17:34:58.616096",
     "exception": false,
     "start_time": "2022-06-30T17:34:58.592033",
     "status": "completed"
    },
    "tags": []
   },
   "outputs": [],
   "source": [
    "X_train = upsampled_train[features].values\n",
    "y_train = upsampled_train['type_encoded']\n",
    "\n",
    "X_test = test[features].values\n",
    "y_test = test['type_encoded']"
   ]
  },
  {
   "cell_type": "code",
   "execution_count": 27,
   "id": "07be052f",
   "metadata": {
    "execution": {
     "iopub.execute_input": "2022-06-30T17:34:58.643584Z",
     "iopub.status.busy": "2022-06-30T17:34:58.643199Z",
     "iopub.status.idle": "2022-06-30T17:34:58.651256Z",
     "shell.execute_reply": "2022-06-30T17:34:58.649931Z"
    },
    "papermill": {
     "duration": 0.026101,
     "end_time": "2022-06-30T17:34:58.654388",
     "exception": false,
     "start_time": "2022-06-30T17:34:58.628287",
     "status": "completed"
    },
    "tags": []
   },
   "outputs": [],
   "source": [
    "scaler = StandardScaler()\n",
    "scaler.fit(X_train)\n",
    "X_train_scaled = scaler.transform(X_train)\n",
    "X_test_scaled = scaler.transform(X_test)"
   ]
  },
  {
   "cell_type": "code",
   "execution_count": 28,
   "id": "618fbebc",
   "metadata": {
    "execution": {
     "iopub.execute_input": "2022-06-30T17:34:58.685441Z",
     "iopub.status.busy": "2022-06-30T17:34:58.684684Z",
     "iopub.status.idle": "2022-06-30T17:34:58.764534Z",
     "shell.execute_reply": "2022-06-30T17:34:58.763618Z"
    },
    "papermill": {
     "duration": 0.097936,
     "end_time": "2022-06-30T17:34:58.767157",
     "exception": false,
     "start_time": "2022-06-30T17:34:58.669221",
     "status": "completed"
    },
    "tags": []
   },
   "outputs": [],
   "source": [
    "model = LogisticRegression()\n",
    "model.fit(X_train_scaled, y_train)\n",
    "predictions = model.predict(X_test_scaled)\n"
   ]
  },
  {
   "cell_type": "code",
   "execution_count": 29,
   "id": "79d6bcc2",
   "metadata": {
    "execution": {
     "iopub.execute_input": "2022-06-30T17:34:58.793564Z",
     "iopub.status.busy": "2022-06-30T17:34:58.792863Z",
     "iopub.status.idle": "2022-06-30T17:34:58.804391Z",
     "shell.execute_reply": "2022-06-30T17:34:58.802322Z"
    },
    "papermill": {
     "duration": 0.028383,
     "end_time": "2022-06-30T17:34:58.807579",
     "exception": false,
     "start_time": "2022-06-30T17:34:58.779196",
     "status": "completed"
    },
    "tags": []
   },
   "outputs": [
    {
     "name": "stdout",
     "output_type": "stream",
     "text": [
      "              precision    recall  f1-score   support\n",
      "\n",
      "           0       0.83      0.83      0.83         6\n",
      "           1       0.56      0.71      0.63         7\n",
      "           2       0.88      0.94      0.91        16\n",
      "           3       0.67      0.67      0.67         3\n",
      "           4       0.67      0.67      0.67         6\n",
      "           5       0.94      0.90      0.92        83\n",
      "           6       1.00      1.00      1.00         8\n",
      "\n",
      "    accuracy                           0.88       129\n",
      "   macro avg       0.79      0.82      0.80       129\n",
      "weighted avg       0.89      0.88      0.89       129\n",
      "\n"
     ]
    }
   ],
   "source": [
    "print(classification_report(y_test, predictions))"
   ]
  },
  {
   "cell_type": "markdown",
   "id": "9f500faf",
   "metadata": {
    "papermill": {
     "duration": 0.011804,
     "end_time": "2022-06-30T17:34:58.831751",
     "exception": false,
     "start_time": "2022-06-30T17:34:58.819947",
     "status": "completed"
    },
    "tags": []
   },
   "source": [
    "**Random Forest**"
   ]
  },
  {
   "cell_type": "code",
   "execution_count": 30,
   "id": "5bc72824",
   "metadata": {
    "execution": {
     "iopub.execute_input": "2022-06-30T17:34:58.858460Z",
     "iopub.status.busy": "2022-06-30T17:34:58.857692Z",
     "iopub.status.idle": "2022-06-30T17:34:59.094708Z",
     "shell.execute_reply": "2022-06-30T17:34:59.093582Z"
    },
    "papermill": {
     "duration": 0.253269,
     "end_time": "2022-06-30T17:34:59.097371",
     "exception": false,
     "start_time": "2022-06-30T17:34:58.844102",
     "status": "completed"
    },
    "tags": []
   },
   "outputs": [],
   "source": [
    "forest = RandomForestClassifier()\n",
    "forest.fit(X_train_scaled, y_train)\n",
    "predictions = forest.predict(X_test_scaled)"
   ]
  },
  {
   "cell_type": "code",
   "execution_count": 31,
   "id": "e5881db3",
   "metadata": {
    "execution": {
     "iopub.execute_input": "2022-06-30T17:34:59.124191Z",
     "iopub.status.busy": "2022-06-30T17:34:59.123476Z",
     "iopub.status.idle": "2022-06-30T17:34:59.136634Z",
     "shell.execute_reply": "2022-06-30T17:34:59.135783Z"
    },
    "papermill": {
     "duration": 0.029414,
     "end_time": "2022-06-30T17:34:59.139144",
     "exception": false,
     "start_time": "2022-06-30T17:34:59.109730",
     "status": "completed"
    },
    "tags": []
   },
   "outputs": [
    {
     "name": "stdout",
     "output_type": "stream",
     "text": [
      "              precision    recall  f1-score   support\n",
      "\n",
      "           0       0.67      0.33      0.44         6\n",
      "           1       0.67      0.57      0.62         7\n",
      "           2       0.94      0.94      0.94        16\n",
      "           3       0.67      0.67      0.67         3\n",
      "           4       1.00      0.33      0.50         6\n",
      "           5       0.90      0.99      0.94        83\n",
      "           6       1.00      1.00      1.00         8\n",
      "\n",
      "    accuracy                           0.89       129\n",
      "   macro avg       0.83      0.69      0.73       129\n",
      "weighted avg       0.89      0.89      0.88       129\n",
      "\n"
     ]
    }
   ],
   "source": [
    "print(classification_report(y_test, predictions))"
   ]
  },
  {
   "cell_type": "code",
   "execution_count": 32,
   "id": "be4506fe",
   "metadata": {
    "execution": {
     "iopub.execute_input": "2022-06-30T17:34:59.167797Z",
     "iopub.status.busy": "2022-06-30T17:34:59.167394Z",
     "iopub.status.idle": "2022-06-30T17:34:59.184143Z",
     "shell.execute_reply": "2022-06-30T17:34:59.183214Z"
    },
    "papermill": {
     "duration": 0.034737,
     "end_time": "2022-06-30T17:34:59.186436",
     "exception": false,
     "start_time": "2022-06-30T17:34:59.151699",
     "status": "completed"
    },
    "tags": []
   },
   "outputs": [],
   "source": [
    "feat_importance = pd.DataFrame(list(zip(features, forest.feature_importances_)), columns = ['feature','importance'])\n",
    "\n",
    "feat_importance = feat_importance.sort_values(by=['importance'], ascending=False)"
   ]
  },
  {
   "cell_type": "code",
   "execution_count": 33,
   "id": "190ed4ad",
   "metadata": {
    "execution": {
     "iopub.execute_input": "2022-06-30T17:34:59.213582Z",
     "iopub.status.busy": "2022-06-30T17:34:59.212767Z",
     "iopub.status.idle": "2022-06-30T17:34:59.559063Z",
     "shell.execute_reply": "2022-06-30T17:34:59.558267Z"
    },
    "papermill": {
     "duration": 0.362357,
     "end_time": "2022-06-30T17:34:59.561514",
     "exception": false,
     "start_time": "2022-06-30T17:34:59.199157",
     "status": "completed"
    },
    "tags": []
   },
   "outputs": [
    {
     "data": {
      "image/png": "[encoded data removed]",
      "text/plain": [
       "<Figure size 720x360 with 1 Axes>"
      ]
     },
     "metadata": {
      "needs_background": "light"
     },
     "output_type": "display_data"
    }
   ],
   "source": [
    "plt.figure(figsize=(10,5))\n",
    "ax = sns.barplot(x='feature',y='importance', data=feat_importance)\n",
    "plt.xticks(rotation = 45)\n",
    "plt.show()"
   ]
  },
  {
   "cell_type": "code",
   "execution_count": null,
   "id": "790664c8",
   "metadata": {
    "papermill": {
     "duration": 0.012959,
     "end_time": "2022-06-30T17:34:59.587932",
     "exception": false,
     "start_time": "2022-06-30T17:34:59.574973",
     "status": "completed"
    },
    "tags": []
   },
   "outputs": [],
   "source": []
  }
 ],
 "metadata": {
  "kernelspec": {
   "display_name": "Python 3",
   "language": "python",
   "name": "python3"
  },
  "language_info": {
   "codemirror_mode": {
    "name": "ipython",
    "version": 3
   },
   "file_extension": ".py",
   "mimetype": "text/x-python",
   "name": "python",
   "nbconvert_exporter": "python",
   "pygments_lexer": "ipython3",
   "version": "3.7.12"
  },
  "papermill": {
   "default_parameters": {},
   "duration": 16.115291,
   "end_time": "2022-06-30T17:35:00.322916",
   "environment_variables": {},
   "exception": null,
   "input_path": "__notebook__.ipynb",
   "output_path": "__notebook__.ipynb",
   "parameters": {},
   "start_time": "2022-06-30T17:34:44.207625",
   "version": "2.3.4"
  }
 },
 "nbformat": 4,
 "nbformat_minor": 5
}
